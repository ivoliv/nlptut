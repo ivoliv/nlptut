{
 "cells": [
  {
   "cell_type": "code",
   "execution_count": 2,
   "metadata": {},
   "outputs": [],
   "source": [
    "import torch"
   ]
  },
  {
   "cell_type": "code",
   "execution_count": 3,
   "metadata": {},
   "outputs": [],
   "source": [
    "x = torch.ones(2, 2, requires_grad=True)"
   ]
  },
  {
   "cell_type": "code",
   "execution_count": 4,
   "metadata": {},
   "outputs": [
    {
     "data": {
      "text/plain": [
       "tensor([[ 1.,  1.],\n",
       "        [ 1.,  1.]])"
      ]
     },
     "execution_count": 4,
     "metadata": {},
     "output_type": "execute_result"
    }
   ],
   "source": [
    "x"
   ]
  },
  {
   "cell_type": "code",
   "execution_count": 5,
   "metadata": {},
   "outputs": [
    {
     "name": "stdout",
     "output_type": "stream",
     "text": [
      "None\n"
     ]
    }
   ],
   "source": [
    "print(x.grad)"
   ]
  },
  {
   "cell_type": "code",
   "execution_count": 6,
   "metadata": {},
   "outputs": [],
   "source": [
    "y = x**2 + x"
   ]
  },
  {
   "cell_type": "code",
   "execution_count": 7,
   "metadata": {},
   "outputs": [
    {
     "data": {
      "text/plain": [
       "tensor([[ 2.,  2.],\n",
       "        [ 2.,  2.]])"
      ]
     },
     "execution_count": 7,
     "metadata": {},
     "output_type": "execute_result"
    }
   ],
   "source": [
    "y"
   ]
  },
  {
   "cell_type": "code",
   "execution_count": 8,
   "metadata": {},
   "outputs": [
    {
     "name": "stdout",
     "output_type": "stream",
     "text": [
      "None\n"
     ]
    }
   ],
   "source": [
    "print(x.grad)"
   ]
  },
  {
   "cell_type": "code",
   "execution_count": 9,
   "metadata": {},
   "outputs": [],
   "source": [
    "z = y.max()"
   ]
  },
  {
   "cell_type": "code",
   "execution_count": 10,
   "metadata": {},
   "outputs": [
    {
     "data": {
      "text/plain": [
       "tensor(2.)"
      ]
     },
     "execution_count": 10,
     "metadata": {},
     "output_type": "execute_result"
    }
   ],
   "source": [
    "z"
   ]
  },
  {
   "cell_type": "code",
   "execution_count": 11,
   "metadata": {},
   "outputs": [],
   "source": [
    "z.backward(retain_graph=True)"
   ]
  },
  {
   "cell_type": "code",
   "execution_count": 12,
   "metadata": {},
   "outputs": [
    {
     "data": {
      "text/plain": [
       "tensor([[ 3.,  3.],\n",
       "        [ 3.,  3.]])"
      ]
     },
     "execution_count": 12,
     "metadata": {},
     "output_type": "execute_result"
    }
   ],
   "source": [
    "x.grad"
   ]
  },
  {
   "cell_type": "code",
   "execution_count": 13,
   "metadata": {},
   "outputs": [],
   "source": [
    "w = z*2"
   ]
  },
  {
   "cell_type": "code",
   "execution_count": 14,
   "metadata": {},
   "outputs": [
    {
     "data": {
      "text/plain": [
       "tensor(4.)"
      ]
     },
     "execution_count": 14,
     "metadata": {},
     "output_type": "execute_result"
    }
   ],
   "source": [
    "w"
   ]
  },
  {
   "cell_type": "code",
   "execution_count": 15,
   "metadata": {},
   "outputs": [
    {
     "data": {
      "text/plain": [
       "tensor([[ 3.,  3.],\n",
       "        [ 3.,  3.]])"
      ]
     },
     "execution_count": 15,
     "metadata": {},
     "output_type": "execute_result"
    }
   ],
   "source": [
    "x.grad"
   ]
  },
  {
   "cell_type": "code",
   "execution_count": 16,
   "metadata": {},
   "outputs": [],
   "source": [
    "w.backward()"
   ]
  },
  {
   "cell_type": "code",
   "execution_count": 17,
   "metadata": {},
   "outputs": [
    {
     "data": {
      "text/plain": [
       "tensor([[ 9.,  9.],\n",
       "        [ 9.,  9.]])"
      ]
     },
     "execution_count": 17,
     "metadata": {},
     "output_type": "execute_result"
    }
   ],
   "source": [
    "x.grad"
   ]
  },
  {
   "cell_type": "code",
   "execution_count": 18,
   "metadata": {},
   "outputs": [
    {
     "data": {
      "text/plain": [
       "False"
      ]
     },
     "execution_count": 18,
     "metadata": {},
     "output_type": "execute_result"
    }
   ],
   "source": [
    "torch.cuda.is_available()"
   ]
  },
  {
   "cell_type": "code",
   "execution_count": 19,
   "metadata": {},
   "outputs": [
    {
     "name": "stdout",
     "output_type": "stream",
     "text": [
      "cpu\n"
     ]
    }
   ],
   "source": [
    "device = torch.device('cuda' if torch.cuda.is_available() else 'cpu')\n",
    "print(device)"
   ]
  },
  {
   "cell_type": "code",
   "execution_count": 20,
   "metadata": {},
   "outputs": [],
   "source": [
    "x = torch.ones(2, 2).to(device)"
   ]
  },
  {
   "cell_type": "code",
   "execution_count": 21,
   "metadata": {},
   "outputs": [
    {
     "data": {
      "text/plain": [
       "tensor([[ 1.,  1.],\n",
       "        [ 1.,  1.]])"
      ]
     },
     "execution_count": 21,
     "metadata": {},
     "output_type": "execute_result"
    }
   ],
   "source": [
    "x"
   ]
  },
  {
   "cell_type": "markdown",
   "metadata": {},
   "source": [
    "# Exercises"
   ]
  },
  {
   "cell_type": "code",
   "execution_count": 22,
   "metadata": {},
   "outputs": [],
   "source": [
    "x = torch.randn(3,3)"
   ]
  },
  {
   "cell_type": "code",
   "execution_count": 23,
   "metadata": {},
   "outputs": [
    {
     "data": {
      "text/plain": [
       "tensor([[-1.3149, -0.0134, -1.1649],\n",
       "        [ 0.1590,  1.2044, -1.8054],\n",
       "        [ 1.4515,  1.3777, -0.4181]])"
      ]
     },
     "execution_count": 23,
     "metadata": {},
     "output_type": "execute_result"
    }
   ],
   "source": [
    "x"
   ]
  },
  {
   "cell_type": "code",
   "execution_count": 24,
   "metadata": {},
   "outputs": [
    {
     "data": {
      "text/plain": [
       "torch.Size([3, 3])"
      ]
     },
     "execution_count": 24,
     "metadata": {},
     "output_type": "execute_result"
    }
   ],
   "source": [
    "x.shape"
   ]
  },
  {
   "cell_type": "code",
   "execution_count": 25,
   "metadata": {},
   "outputs": [],
   "source": [
    "x = x.unsqueeze(0)"
   ]
  },
  {
   "cell_type": "code",
   "execution_count": 26,
   "metadata": {},
   "outputs": [
    {
     "data": {
      "text/plain": [
       "tensor([[[-1.3149, -0.0134, -1.1649],\n",
       "         [ 0.1590,  1.2044, -1.8054],\n",
       "         [ 1.4515,  1.3777, -0.4181]]])"
      ]
     },
     "execution_count": 26,
     "metadata": {},
     "output_type": "execute_result"
    }
   ],
   "source": [
    "x"
   ]
  },
  {
   "cell_type": "code",
   "execution_count": 27,
   "metadata": {},
   "outputs": [
    {
     "data": {
      "text/plain": [
       "torch.Size([1, 3, 3])"
      ]
     },
     "execution_count": 27,
     "metadata": {},
     "output_type": "execute_result"
    }
   ],
   "source": [
    "x.shape"
   ]
  },
  {
   "cell_type": "code",
   "execution_count": 28,
   "metadata": {},
   "outputs": [
    {
     "data": {
      "text/plain": [
       "tensor([[-1.3149, -0.0134, -1.1649],\n",
       "        [ 0.1590,  1.2044, -1.8054],\n",
       "        [ 1.4515,  1.3777, -0.4181]])"
      ]
     },
     "execution_count": 28,
     "metadata": {},
     "output_type": "execute_result"
    }
   ],
   "source": [
    "x.squeeze()"
   ]
  },
  {
   "cell_type": "code",
   "execution_count": 29,
   "metadata": {},
   "outputs": [],
   "source": [
    "x = torch.rand(5, 3)*4 + 3"
   ]
  },
  {
   "cell_type": "code",
   "execution_count": 30,
   "metadata": {},
   "outputs": [
    {
     "data": {
      "text/plain": [
       "tensor([[ 4.1335,  6.8117,  3.7778],\n",
       "        [ 4.9887,  6.7995,  3.4741],\n",
       "        [ 4.5997,  5.1039,  5.7935],\n",
       "        [ 6.1829,  6.0305,  4.9415],\n",
       "        [ 3.6173,  5.3038,  3.1298]])"
      ]
     },
     "execution_count": 30,
     "metadata": {},
     "output_type": "execute_result"
    }
   ],
   "source": [
    "x"
   ]
  },
  {
   "cell_type": "code",
   "execution_count": 31,
   "metadata": {},
   "outputs": [
    {
     "data": {
      "text/plain": [
       "tensor([[-1.9442,  0.9820],\n",
       "        [-0.6364,  2.0051]])"
      ]
     },
     "execution_count": 31,
     "metadata": {},
     "output_type": "execute_result"
    }
   ],
   "source": [
    "torch.randn(2, 2)"
   ]
  },
  {
   "cell_type": "code",
   "execution_count": 32,
   "metadata": {},
   "outputs": [
    {
     "data": {
      "text/plain": [
       "tensor([ 1.,  1.,  1.,  0.,  1.])"
      ]
     },
     "execution_count": 32,
     "metadata": {},
     "output_type": "execute_result"
    }
   ],
   "source": [
    "y = torch.Tensor([1, 1, 1, 0, 1])\n",
    "y"
   ]
  },
  {
   "cell_type": "code",
   "execution_count": 33,
   "metadata": {},
   "outputs": [
    {
     "data": {
      "text/plain": [
       "[0, 1, 2, 4]"
      ]
     },
     "execution_count": 33,
     "metadata": {},
     "output_type": "execute_result"
    }
   ],
   "source": [
    "[i for i, val in enumerate(y) if val == 1]"
   ]
  },
  {
   "cell_type": "code",
   "execution_count": 34,
   "metadata": {},
   "outputs": [
    {
     "data": {
      "text/plain": [
       "tensor([[ 0],\n",
       "        [ 1],\n",
       "        [ 2],\n",
       "        [ 4]])"
      ]
     },
     "execution_count": 34,
     "metadata": {},
     "output_type": "execute_result"
    }
   ],
   "source": [
    "torch.nonzero(y)"
   ]
  },
  {
   "cell_type": "code",
   "execution_count": 35,
   "metadata": {},
   "outputs": [],
   "source": [
    "x = torch.rand(3, 1)"
   ]
  },
  {
   "cell_type": "code",
   "execution_count": 36,
   "metadata": {},
   "outputs": [
    {
     "data": {
      "text/plain": [
       "tensor([[ 0.2254],\n",
       "        [ 0.7341],\n",
       "        [ 0.5605]])"
      ]
     },
     "execution_count": 36,
     "metadata": {},
     "output_type": "execute_result"
    }
   ],
   "source": [
    "x"
   ]
  },
  {
   "cell_type": "code",
   "execution_count": 37,
   "metadata": {},
   "outputs": [
    {
     "data": {
      "text/plain": [
       "tensor([[ 0.2254,  0.2254,  0.2254,  0.2254],\n",
       "        [ 0.7341,  0.7341,  0.7341,  0.7341],\n",
       "        [ 0.5605,  0.5605,  0.5605,  0.5605]])"
      ]
     },
     "execution_count": 37,
     "metadata": {},
     "output_type": "execute_result"
    }
   ],
   "source": [
    "torch.cat((x, x, x, x), dim=1)"
   ]
  },
  {
   "cell_type": "code",
   "execution_count": 38,
   "metadata": {},
   "outputs": [
    {
     "data": {
      "text/plain": [
       "tensor([[ 0.2254,  0.2254,  0.2254,  0.2254],\n",
       "        [ 0.7341,  0.7341,  0.7341,  0.7341],\n",
       "        [ 0.5605,  0.5605,  0.5605,  0.5605]])"
      ]
     },
     "execution_count": 38,
     "metadata": {},
     "output_type": "execute_result"
    }
   ],
   "source": [
    "x.expand(3, 4)"
   ]
  },
  {
   "cell_type": "code",
   "execution_count": 39,
   "metadata": {},
   "outputs": [],
   "source": [
    "a = torch.rand(3,4,5)\n",
    "b = torch.rand(3,5,4)"
   ]
  },
  {
   "cell_type": "code",
   "execution_count": 40,
   "metadata": {},
   "outputs": [
    {
     "data": {
      "text/plain": [
       "tensor([[[ 0.9421,  0.6256,  0.4030,  0.5457,  0.3556],\n",
       "         [ 0.8884,  0.9840,  0.2522,  0.1134,  0.7295],\n",
       "         [ 0.6375,  0.2896,  0.6510,  0.2730,  0.5228],\n",
       "         [ 0.9899,  0.8558,  0.2606,  0.3264,  0.0227]],\n",
       "\n",
       "        [[ 0.5455,  0.0632,  0.8806,  0.6603,  0.3412],\n",
       "         [ 0.8992,  0.2223,  0.2499,  0.6517,  0.8419],\n",
       "         [ 0.1655,  0.5598,  0.9092,  0.2751,  0.8213],\n",
       "         [ 0.0687,  0.8875,  0.0445,  0.7838,  0.4772]],\n",
       "\n",
       "        [[ 0.7803,  0.5569,  0.6509,  0.9402,  0.1746],\n",
       "         [ 0.1653,  0.5178,  0.6977,  0.9976,  0.6545],\n",
       "         [ 0.5915,  0.7336,  0.2282,  0.1617,  0.6830],\n",
       "         [ 0.0037,  0.5620,  0.3365,  0.7349,  0.6268]]])"
      ]
     },
     "execution_count": 40,
     "metadata": {},
     "output_type": "execute_result"
    }
   ],
   "source": [
    "a"
   ]
  },
  {
   "cell_type": "code",
   "execution_count": 41,
   "metadata": {},
   "outputs": [
    {
     "data": {
      "text/plain": [
       "tensor([[[ 0.1653,  0.3683,  0.7697,  0.0649],\n",
       "         [ 0.3256,  0.3280,  0.3451,  0.8205],\n",
       "         [ 0.5903,  0.1560,  0.3877,  0.5234],\n",
       "         [ 0.8795,  0.7161,  0.7657,  0.2783],\n",
       "         [ 0.0333,  0.1166,  0.4388,  0.0073]],\n",
       "\n",
       "        [[ 0.4277,  0.2270,  0.5310,  0.2494],\n",
       "         [ 0.4714,  0.0038,  0.8026,  0.0342],\n",
       "         [ 0.9505,  0.1738,  0.0626,  0.5712],\n",
       "         [ 0.0116,  0.9777,  0.0991,  0.3080],\n",
       "         [ 0.2837,  0.8037,  0.2970,  0.7074]],\n",
       "\n",
       "        [[ 0.6960,  0.6119,  0.6439,  0.7553],\n",
       "         [ 0.2970,  0.5772,  0.3125,  0.3708],\n",
       "         [ 0.6260,  0.2764,  0.3769,  0.5901],\n",
       "         [ 0.9337,  0.7687,  0.3708,  0.6183],\n",
       "         [ 0.4670,  0.4487,  0.0557,  0.4998]]])"
      ]
     },
     "execution_count": 41,
     "metadata": {},
     "output_type": "execute_result"
    }
   ],
   "source": [
    "b"
   ]
  },
  {
   "cell_type": "code",
   "execution_count": 42,
   "metadata": {},
   "outputs": [
    {
     "data": {
      "text/plain": [
       "tensor([[[ 1.0891,  1.0472,  1.6712,  0.9398],\n",
       "         [ 0.7402,  0.8556,  1.5282,  1.0339],\n",
       "         [ 0.8416,  0.6878,  1.2815,  0.6996],\n",
       "         [ 0.8840,  0.9224,  1.4183,  0.9938]],\n",
       "\n",
       "        [[ 1.2047,  1.1970,  0.5623,  1.0861],\n",
       "         [ 0.9734,  1.5622,  0.9861,  1.1709],\n",
       "         [ 1.4351,  1.1267,  0.8652,  1.2455],\n",
       "         [ 0.6346,  1.1765,  0.9709,  0.6519]],\n",
       "\n",
       "        [[ 2.0754,  1.7800,  1.2801,  1.8486],\n",
       "         [ 1.9427,  1.6535,  0.9375,  1.6726],\n",
       "         [ 1.2424,  1.2793,  0.7941,  1.2949],\n",
       "         [ 1.3590,  1.2659,  0.6122,  1.1774]]])"
      ]
     },
     "execution_count": 42,
     "metadata": {},
     "output_type": "execute_result"
    }
   ],
   "source": [
    "torch.bmm(a, b)"
   ]
  },
  {
   "cell_type": "code",
   "execution_count": 43,
   "metadata": {},
   "outputs": [],
   "source": [
    "a = torch.rand(3, 4, 5)\n",
    "b = torch.rand(5, 4)"
   ]
  },
  {
   "cell_type": "code",
   "execution_count": 44,
   "metadata": {},
   "outputs": [
    {
     "data": {
      "text/plain": [
       "tensor([[[ 1.0762,  1.1250,  1.5713,  1.5566],\n",
       "         [ 0.6715,  0.9029,  1.0734,  1.3355],\n",
       "         [ 1.1854,  1.1992,  1.4514,  1.7015],\n",
       "         [ 0.3409,  0.6132,  0.5327,  1.1129]],\n",
       "\n",
       "        [[ 1.4434,  1.5973,  1.9275,  2.1837],\n",
       "         [ 0.5195,  1.0727,  0.7327,  1.9660],\n",
       "         [ 0.9519,  1.2419,  1.3403,  1.9078],\n",
       "         [ 0.7694,  0.8442,  1.0516,  1.3760]],\n",
       "\n",
       "        [[ 0.6295,  0.9282,  0.6897,  1.3968],\n",
       "         [ 1.1031,  1.6517,  1.4739,  2.2222],\n",
       "         [ 0.7774,  1.1823,  1.0052,  1.7119],\n",
       "         [ 1.0552,  1.4046,  1.5566,  2.0458]]])"
      ]
     },
     "execution_count": 44,
     "metadata": {},
     "output_type": "execute_result"
    }
   ],
   "source": [
    "torch.bmm(a, b.expand(3, *b.size()))"
   ]
  },
  {
   "cell_type": "code",
   "execution_count": 45,
   "metadata": {},
   "outputs": [
    {
     "data": {
      "text/plain": [
       "tensor([[[ 1.0762,  1.1250,  1.5713,  1.5566],\n",
       "         [ 0.6715,  0.9029,  1.0734,  1.3355],\n",
       "         [ 1.1854,  1.1992,  1.4514,  1.7015],\n",
       "         [ 0.3409,  0.6132,  0.5327,  1.1129]],\n",
       "\n",
       "        [[ 1.4434,  1.5973,  1.9275,  2.1837],\n",
       "         [ 0.5195,  1.0727,  0.7327,  1.9660],\n",
       "         [ 0.9519,  1.2419,  1.3403,  1.9078],\n",
       "         [ 0.7694,  0.8442,  1.0516,  1.3760]],\n",
       "\n",
       "        [[ 0.6295,  0.9282,  0.6897,  1.3968],\n",
       "         [ 1.1031,  1.6517,  1.4739,  2.2222],\n",
       "         [ 0.7774,  1.1823,  1.0052,  1.7119],\n",
       "         [ 1.0552,  1.4046,  1.5566,  2.0458]]])"
      ]
     },
     "execution_count": 45,
     "metadata": {},
     "output_type": "execute_result"
    }
   ],
   "source": [
    "torch.bmm(a, b.unsqueeze(0).expand(a.size(0), *b.size()))"
   ]
  },
  {
   "cell_type": "code",
   "execution_count": 46,
   "metadata": {},
   "outputs": [
    {
     "data": {
      "text/plain": [
       "torch.Size([5, 4])"
      ]
     },
     "execution_count": 46,
     "metadata": {},
     "output_type": "execute_result"
    }
   ],
   "source": [
    "b.size()"
   ]
  },
  {
   "cell_type": "code",
   "execution_count": 47,
   "metadata": {},
   "outputs": [
    {
     "ename": "ModuleNotFoundError",
     "evalue": "No module named 'spacy'",
     "output_type": "error",
     "traceback": [
      "\u001b[0;31m---------------------------------------------------------------------------\u001b[0m",
      "\u001b[0;31mModuleNotFoundError\u001b[0m                       Traceback (most recent call last)",
      "\u001b[0;32m<ipython-input-47-76a01d9c502b>\u001b[0m in \u001b[0;36m<module>\u001b[0;34m()\u001b[0m\n\u001b[0;32m----> 1\u001b[0;31m \u001b[0;32mimport\u001b[0m \u001b[0mspacy\u001b[0m\u001b[0;34m\u001b[0m\u001b[0m\n\u001b[0m",
      "\u001b[0;31mModuleNotFoundError\u001b[0m: No module named 'spacy'"
     ]
    }
   ],
   "source": [
    "import spacy"
   ]
  },
  {
   "cell_type": "code",
   "execution_count": null,
   "metadata": {},
   "outputs": [],
   "source": [
    "nlp = spacy.load('en')"
   ]
  },
  {
   "cell_type": "code",
   "execution_count": null,
   "metadata": {},
   "outputs": [],
   "source": [
    "text = \"This is an example.\""
   ]
  },
  {
   "cell_type": "code",
   "execution_count": null,
   "metadata": {},
   "outputs": [],
   "source": [
    "doc = nlp(text)"
   ]
  },
  {
   "cell_type": "code",
   "execution_count": null,
   "metadata": {},
   "outputs": [],
   "source": [
    "[*doc]"
   ]
  },
  {
   "cell_type": "code",
   "execution_count": null,
   "metadata": {},
   "outputs": [],
   "source": [
    "for token in doc:\n",
    "    print(token, token.lemma_, token.pos_, token)"
   ]
  },
  {
   "cell_type": "code",
   "execution_count": null,
   "metadata": {},
   "outputs": [],
   "source": [
    "for chunk in doc.noun_chunks:\n",
    "    print(chunk, chunk.label_)"
   ]
  },
  {
   "cell_type": "code",
   "execution_count": null,
   "metadata": {},
   "outputs": [],
   "source": [
    "ray = nlp('Ray is complaining of back pain. He went to Duke Hospital')"
   ]
  },
  {
   "cell_type": "code",
   "execution_count": null,
   "metadata": {},
   "outputs": [],
   "source": [
    "for ent in ray.ents:\n",
    "    print(ent, ent.label_)"
   ]
  },
  {
   "cell_type": "code",
   "execution_count": null,
   "metadata": {},
   "outputs": [],
   "source": [
    "for tok in ray:\n",
    "    print(tok, tok.ent_iob_, tok.ent_type_, tok.dep_, tok.head, [*tok.children])"
   ]
  },
  {
   "cell_type": "code",
   "execution_count": null,
   "metadata": {},
   "outputs": [],
   "source": [
    "for chunk in ray.noun_chunks:\n",
    "    print(chunk, chunk.ents)"
   ]
  },
  {
   "cell_type": "markdown",
   "metadata": {},
   "source": [
    "# Torch Linear module"
   ]
  },
  {
   "cell_type": "code",
   "execution_count": 48,
   "metadata": {},
   "outputs": [],
   "source": [
    "fc = torch.nn.Linear(8, 2)"
   ]
  },
  {
   "cell_type": "code",
   "execution_count": 49,
   "metadata": {},
   "outputs": [
    {
     "data": {
      "text/plain": [
       "torch.Size([2, 8])"
      ]
     },
     "execution_count": 49,
     "metadata": {},
     "output_type": "execute_result"
    }
   ],
   "source": [
    "fc.weight.shape"
   ]
  },
  {
   "cell_type": "code",
   "execution_count": 50,
   "metadata": {},
   "outputs": [
    {
     "data": {
      "text/plain": [
       "Parameter containing:\n",
       "tensor([[-0.1836,  0.0442, -0.0957,  0.3527,  0.2597, -0.2393, -0.0955,\n",
       "         -0.3524],\n",
       "        [ 0.0817, -0.1975,  0.0354,  0.1369, -0.0686, -0.1900, -0.1488,\n",
       "         -0.2738]])"
      ]
     },
     "execution_count": 50,
     "metadata": {},
     "output_type": "execute_result"
    }
   ],
   "source": [
    "fc.weight"
   ]
  },
  {
   "cell_type": "code",
   "execution_count": 51,
   "metadata": {},
   "outputs": [
    {
     "data": {
      "text/plain": [
       "Parameter containing:\n",
       "tensor([ 0.2073,  0.2064])"
      ]
     },
     "execution_count": 51,
     "metadata": {},
     "output_type": "execute_result"
    }
   ],
   "source": [
    "fc.bias"
   ]
  },
  {
   "cell_type": "code",
   "execution_count": 52,
   "metadata": {},
   "outputs": [],
   "source": [
    "x = torch.rand(8)"
   ]
  },
  {
   "cell_type": "code",
   "execution_count": 53,
   "metadata": {},
   "outputs": [
    {
     "data": {
      "text/plain": [
       "tensor([ 0.7572,  0.2511,  0.2184,  0.2297,  0.7452,  0.4931,  0.0830,\n",
       "         0.6844])"
      ]
     },
     "execution_count": 53,
     "metadata": {},
     "output_type": "execute_result"
    }
   ],
   "source": [
    "x"
   ]
  },
  {
   "cell_type": "code",
   "execution_count": 54,
   "metadata": {},
   "outputs": [
    {
     "data": {
      "text/plain": [
       "tensor(1.00000e-02 *\n",
       "       [-3.4138, -8.6694])"
      ]
     },
     "execution_count": 54,
     "metadata": {},
     "output_type": "execute_result"
    }
   ],
   "source": [
    "fc(x)"
   ]
  },
  {
   "cell_type": "code",
   "execution_count": 55,
   "metadata": {},
   "outputs": [],
   "source": [
    "x = torch.rand(5, 8)"
   ]
  },
  {
   "cell_type": "code",
   "execution_count": 56,
   "metadata": {},
   "outputs": [
    {
     "data": {
      "text/plain": [
       "tensor([[ 0.1558,  0.1797,  0.5820,  0.3206,  0.5210,  0.1187,  0.0596,\n",
       "          0.0573],\n",
       "        [ 0.0428,  0.5780,  0.4135,  0.2512,  0.7496,  0.3124,  0.0234,\n",
       "          0.6145],\n",
       "        [ 0.3911,  0.5812,  0.8497,  0.7586,  0.9833,  0.5589,  0.3686,\n",
       "          0.6817],\n",
       "        [ 0.2421,  0.9150,  0.0310,  0.8073,  0.3557,  0.0314,  0.8983,\n",
       "          0.2011],\n",
       "        [ 0.0413,  0.5562,  0.5994,  0.9830,  0.9761,  0.6242,  0.3504,\n",
       "          0.8016]])"
      ]
     },
     "execution_count": 56,
     "metadata": {},
     "output_type": "execute_result"
    }
   ],
   "source": [
    "x"
   ]
  },
  {
   "cell_type": "code",
   "execution_count": 57,
   "metadata": {},
   "outputs": [
    {
     "data": {
      "text/plain": [
       "tensor([[ 0.3250,  0.1652],\n",
       "        [ 0.1751, -0.1378],\n",
       "        [ 0.1936, -0.1577],\n",
       "        [ 0.4132, -0.0621],\n",
       "        [ 0.3018, -0.2015]])"
      ]
     },
     "execution_count": 57,
     "metadata": {},
     "output_type": "execute_result"
    }
   ],
   "source": [
    "fc(x)"
   ]
  },
  {
   "cell_type": "code",
   "execution_count": 58,
   "metadata": {},
   "outputs": [],
   "source": [
    "fc_out = torch.nn.Linear(2, 1)"
   ]
  },
  {
   "cell_type": "code",
   "execution_count": 59,
   "metadata": {},
   "outputs": [
    {
     "name": "stdout",
     "output_type": "stream",
     "text": [
      "torch.Size([5, 1])\n"
     ]
    },
    {
     "data": {
      "text/plain": [
       "tensor([[ 0.4593],\n",
       "        [ 0.4129],\n",
       "        [ 0.4099],\n",
       "        [ 0.4249],\n",
       "        [ 0.4037]])"
      ]
     },
     "execution_count": 59,
     "metadata": {},
     "output_type": "execute_result"
    }
   ],
   "source": [
    "out = torch.sigmoid(fc_out(fc(x)))\n",
    "print(out.shape)\n",
    "out"
   ]
  },
  {
   "cell_type": "code",
   "execution_count": 60,
   "metadata": {},
   "outputs": [
    {
     "data": {
      "text/plain": [
       "tensor([ 0.4593,  0.4129,  0.4099,  0.4249,  0.4037])"
      ]
     },
     "execution_count": 60,
     "metadata": {},
     "output_type": "execute_result"
    }
   ],
   "source": [
    "out.squeeze()"
   ]
  },
  {
   "cell_type": "code",
   "execution_count": 61,
   "metadata": {},
   "outputs": [
    {
     "name": "stdout",
     "output_type": "stream",
     "text": [
      "torch.Size([5])\n"
     ]
    }
   ],
   "source": [
    "print(out.squeeze().shape)"
   ]
  },
  {
   "cell_type": "markdown",
   "metadata": {},
   "source": [
    "# Pytorch Perceptron"
   ]
  },
  {
   "cell_type": "code",
   "execution_count": 62,
   "metadata": {},
   "outputs": [],
   "source": [
    "import torch.nn as nn"
   ]
  },
  {
   "cell_type": "code",
   "execution_count": 63,
   "metadata": {},
   "outputs": [],
   "source": [
    "class Perceptron(nn.Module):\n",
    "    def __init__(self, input_dim):\n",
    "        super(Perceptron, self).__init__()\n",
    "        self.fc1 = nn.Linear(input_dim, 2)\n",
    "        self.fc2 = nn.Linear(2, 1)\n",
    "        \n",
    "    def forward(self, x):\n",
    "        return torch.sigmoid(self.fc2(self.fc1(x))).squeeze()"
   ]
  },
  {
   "cell_type": "code",
   "execution_count": 64,
   "metadata": {},
   "outputs": [
    {
     "data": {
      "text/plain": [
       "tensor([[ 0.1558,  0.1797,  0.5820,  0.3206,  0.5210,  0.1187,  0.0596,\n",
       "          0.0573],\n",
       "        [ 0.0428,  0.5780,  0.4135,  0.2512,  0.7496,  0.3124,  0.0234,\n",
       "          0.6145],\n",
       "        [ 0.3911,  0.5812,  0.8497,  0.7586,  0.9833,  0.5589,  0.3686,\n",
       "          0.6817],\n",
       "        [ 0.2421,  0.9150,  0.0310,  0.8073,  0.3557,  0.0314,  0.8983,\n",
       "          0.2011],\n",
       "        [ 0.0413,  0.5562,  0.5994,  0.9830,  0.9761,  0.6242,  0.3504,\n",
       "          0.8016]])"
      ]
     },
     "execution_count": 64,
     "metadata": {},
     "output_type": "execute_result"
    }
   ],
   "source": [
    "x"
   ]
  },
  {
   "cell_type": "code",
   "execution_count": 65,
   "metadata": {},
   "outputs": [],
   "source": [
    "model = Perceptron(8)"
   ]
  },
  {
   "cell_type": "code",
   "execution_count": 66,
   "metadata": {},
   "outputs": [
    {
     "data": {
      "text/plain": [
       "Perceptron(\n",
       "  (fc1): Linear(in_features=8, out_features=2, bias=True)\n",
       "  (fc2): Linear(in_features=2, out_features=1, bias=True)\n",
       ")"
      ]
     },
     "execution_count": 66,
     "metadata": {},
     "output_type": "execute_result"
    }
   ],
   "source": [
    "model"
   ]
  },
  {
   "cell_type": "code",
   "execution_count": 67,
   "metadata": {},
   "outputs": [
    {
     "data": {
      "text/plain": [
       "tensor([ 0.5876,  0.5662,  0.5551,  0.5465,  0.5491])"
      ]
     },
     "execution_count": 67,
     "metadata": {},
     "output_type": "execute_result"
    }
   ],
   "source": [
    "model.zero_grad()\n",
    "y = model(x)\n",
    "y"
   ]
  },
  {
   "cell_type": "code",
   "execution_count": 68,
   "metadata": {},
   "outputs": [
    {
     "name": "stdout",
     "output_type": "stream",
     "text": [
      "Parameter containing:\n",
      "tensor([[-0.2622, -0.1256,  0.3040, -0.2611,  0.1675, -0.1732,  0.0392,\n",
      "         -0.3309],\n",
      "        [ 0.3473,  0.0042, -0.0537, -0.0324,  0.2354, -0.2349, -0.0851,\n",
      "         -0.0653]])\n",
      "Parameter containing:\n",
      "tensor([ 0.2332, -0.2938])\n",
      "Parameter containing:\n",
      "tensor([[ 0.3940, -0.0884]])\n",
      "Parameter containing:\n",
      "tensor([ 0.2136])\n"
     ]
    }
   ],
   "source": [
    "for p in model.parameters():\n",
    "    print(p)"
   ]
  },
  {
   "cell_type": "code",
   "execution_count": 69,
   "metadata": {},
   "outputs": [],
   "source": [
    "loss = nn.MSELoss()"
   ]
  },
  {
   "cell_type": "code",
   "execution_count": 70,
   "metadata": {},
   "outputs": [],
   "source": [
    "y_target = torch.rand(5)"
   ]
  },
  {
   "cell_type": "code",
   "execution_count": 71,
   "metadata": {},
   "outputs": [
    {
     "name": "stdout",
     "output_type": "stream",
     "text": [
      "y        =  tensor([ 0.5876,  0.5662,  0.5551,  0.5465,  0.5491])\n",
      "y_target =  tensor([ 0.7343,  0.2585,  0.2194,  0.9181,  0.3202])\n"
     ]
    }
   ],
   "source": [
    "print('y        = ', y)\n",
    "print('y_target = ', y_target)"
   ]
  },
  {
   "cell_type": "code",
   "execution_count": 72,
   "metadata": {},
   "outputs": [
    {
     "data": {
      "text/plain": [
       "tensor(1.00000e-02 *\n",
       "       8.3865)"
      ]
     },
     "execution_count": 72,
     "metadata": {},
     "output_type": "execute_result"
    }
   ],
   "source": [
    "mse_loss = loss(y, y_target)\n",
    "mse_loss"
   ]
  },
  {
   "cell_type": "code",
   "execution_count": 73,
   "metadata": {},
   "outputs": [
    {
     "data": {
      "text/plain": [
       "tensor([ 0.0215,  0.0946,  0.1127,  0.1380,  0.0524])"
      ]
     },
     "execution_count": 73,
     "metadata": {},
     "output_type": "execute_result"
    }
   ],
   "source": [
    "(y-y_target)**2"
   ]
  },
  {
   "cell_type": "code",
   "execution_count": 74,
   "metadata": {},
   "outputs": [
    {
     "data": {
      "text/plain": [
       "tensor(1.00000e-02 *\n",
       "       8.3865)"
      ]
     },
     "execution_count": 74,
     "metadata": {},
     "output_type": "execute_result"
    }
   ],
   "source": [
    "torch.mean((y-y_target)**2)"
   ]
  },
  {
   "cell_type": "code",
   "execution_count": 75,
   "metadata": {},
   "outputs": [
    {
     "name": "stdout",
     "output_type": "stream",
     "text": [
      "Parameter containing:\n",
      "tensor([[-0.2622, -0.1256,  0.3040, -0.2611,  0.1675, -0.1732,  0.0392,\n",
      "         -0.3309],\n",
      "        [ 0.3473,  0.0042, -0.0537, -0.0324,  0.2354, -0.2349, -0.0851,\n",
      "         -0.0653]])\n",
      "Parameter containing:\n",
      "tensor([ 0.2332, -0.2938])\n",
      "Parameter containing:\n",
      "tensor([[ 0.3940, -0.0884]])\n",
      "Parameter containing:\n",
      "tensor([ 0.2136])\n"
     ]
    }
   ],
   "source": [
    "for p in model.parameters():\n",
    "    print(p)"
   ]
  },
  {
   "cell_type": "code",
   "execution_count": 76,
   "metadata": {},
   "outputs": [],
   "source": [
    "mse_loss.backward()"
   ]
  },
  {
   "cell_type": "code",
   "execution_count": 77,
   "metadata": {},
   "outputs": [
    {
     "name": "stdout",
     "output_type": "stream",
     "text": [
      "Parameter containing:\n",
      "tensor([[-0.2622, -0.1256,  0.3040, -0.2611,  0.1675, -0.1732,  0.0392,\n",
      "         -0.3309],\n",
      "        [ 0.3473,  0.0042, -0.0537, -0.0324,  0.2354, -0.2349, -0.0851,\n",
      "         -0.0653]])\n",
      "Parameter containing:\n",
      "tensor([ 0.2332, -0.2938])\n",
      "Parameter containing:\n",
      "tensor([[ 0.3940, -0.0884]])\n",
      "Parameter containing:\n",
      "tensor([ 0.2136])\n"
     ]
    }
   ],
   "source": [
    "for p in model.parameters():\n",
    "    print(p)"
   ]
  },
  {
   "cell_type": "code",
   "execution_count": 78,
   "metadata": {},
   "outputs": [],
   "source": [
    "optimizer = torch.optim.Adam(params=model.parameters(), lr=.001)"
   ]
  },
  {
   "cell_type": "code",
   "execution_count": 79,
   "metadata": {},
   "outputs": [
    {
     "data": {
      "text/plain": [
       "Adam (\n",
       "Parameter Group 0\n",
       "    amsgrad: False\n",
       "    betas: (0.9, 0.999)\n",
       "    eps: 1e-08\n",
       "    lr: 0.001\n",
       "    weight_decay: 0\n",
       ")"
      ]
     },
     "execution_count": 79,
     "metadata": {},
     "output_type": "execute_result"
    }
   ],
   "source": [
    "optimizer"
   ]
  },
  {
   "cell_type": "code",
   "execution_count": 80,
   "metadata": {},
   "outputs": [],
   "source": [
    "optimizer.step()"
   ]
  },
  {
   "cell_type": "code",
   "execution_count": 81,
   "metadata": {},
   "outputs": [
    {
     "name": "stdout",
     "output_type": "stream",
     "text": [
      "Parameter containing:\n",
      "tensor([[-0.2632, -0.1266,  0.3030, -0.2621,  0.1665, -0.1742,  0.0402,\n",
      "         -0.3319],\n",
      "        [ 0.3482,  0.0052, -0.0527, -0.0314,  0.2364, -0.2339, -0.0861,\n",
      "         -0.0643]])\n",
      "Parameter containing:\n",
      "tensor([ 0.2322, -0.2928])\n",
      "Parameter containing:\n",
      "tensor([[ 0.3950, -0.0874]])\n",
      "Parameter containing:\n",
      "tensor([ 0.2126])\n"
     ]
    }
   ],
   "source": [
    "for p in model.parameters():\n",
    "    print(p)"
   ]
  },
  {
   "cell_type": "code",
   "execution_count": 82,
   "metadata": {},
   "outputs": [],
   "source": [
    "import matplotlib.pyplot as plt"
   ]
  },
  {
   "cell_type": "code",
   "execution_count": 83,
   "metadata": {},
   "outputs": [],
   "source": [
    "x = torch.arange(-5, 5, .01)"
   ]
  },
  {
   "cell_type": "code",
   "execution_count": 84,
   "metadata": {},
   "outputs": [
    {
     "name": "stdout",
     "output_type": "stream",
     "text": [
      "torch.Size([1000])\n"
     ]
    },
    {
     "data": {
      "text/plain": [
       "tensor([-5.0000, -4.9900, -4.9800, -4.9700, -4.9600, -4.9500, -4.9400,\n",
       "        -4.9300, -4.9200, -4.9100, -4.9000, -4.8900, -4.8800, -4.8700,\n",
       "        -4.8600, -4.8500, -4.8400, -4.8300, -4.8200, -4.8100, -4.8000,\n",
       "        -4.7900, -4.7800, -4.7700, -4.7600, -4.7500, -4.7400, -4.7300,\n",
       "        -4.7200, -4.7100, -4.7000, -4.6900, -4.6800, -4.6700, -4.6600,\n",
       "        -4.6500, -4.6400, -4.6300, -4.6200, -4.6100, -4.6000, -4.5900,\n",
       "        -4.5800, -4.5700, -4.5600, -4.5500, -4.5400, -4.5300, -4.5200,\n",
       "        -4.5100, -4.5000, -4.4900, -4.4800, -4.4700, -4.4600, -4.4500,\n",
       "        -4.4400, -4.4300, -4.4200, -4.4100, -4.4000, -4.3900, -4.3800,\n",
       "        -4.3700, -4.3600, -4.3500, -4.3400, -4.3300, -4.3200, -4.3100,\n",
       "        -4.3000, -4.2900, -4.2800, -4.2700, -4.2600, -4.2500, -4.2400,\n",
       "        -4.2300, -4.2200, -4.2100, -4.2000, -4.1900, -4.1800, -4.1700,\n",
       "        -4.1600, -4.1500, -4.1400, -4.1300, -4.1200, -4.1100, -4.1000,\n",
       "        -4.0900, -4.0800, -4.0700, -4.0600, -4.0500, -4.0400, -4.0300,\n",
       "        -4.0200, -4.0100, -4.0000, -3.9900, -3.9800, -3.9700, -3.9600,\n",
       "        -3.9500, -3.9400, -3.9300, -3.9200, -3.9100, -3.9000, -3.8900,\n",
       "        -3.8800, -3.8700, -3.8600, -3.8500, -3.8400, -3.8300, -3.8200,\n",
       "        -3.8100, -3.8000, -3.7900, -3.7800, -3.7700, -3.7600, -3.7500,\n",
       "        -3.7400, -3.7300, -3.7200, -3.7100, -3.7000, -3.6900, -3.6800,\n",
       "        -3.6700, -3.6600, -3.6500, -3.6400, -3.6300, -3.6200, -3.6100,\n",
       "        -3.6000, -3.5900, -3.5800, -3.5700, -3.5600, -3.5500, -3.5400,\n",
       "        -3.5300, -3.5200, -3.5100, -3.5000, -3.4900, -3.4800, -3.4700,\n",
       "        -3.4600, -3.4500, -3.4400, -3.4300, -3.4200, -3.4100, -3.4000,\n",
       "        -3.3900, -3.3800, -3.3700, -3.3600, -3.3500, -3.3400, -3.3300,\n",
       "        -3.3200, -3.3100, -3.3000, -3.2900, -3.2800, -3.2700, -3.2600,\n",
       "        -3.2500, -3.2400, -3.2300, -3.2200, -3.2100, -3.2000, -3.1900,\n",
       "        -3.1800, -3.1700, -3.1600, -3.1500, -3.1400, -3.1300, -3.1200,\n",
       "        -3.1100, -3.1000, -3.0900, -3.0800, -3.0700, -3.0600, -3.0500,\n",
       "        -3.0400, -3.0300, -3.0200, -3.0100, -3.0000, -2.9900, -2.9800,\n",
       "        -2.9700, -2.9600, -2.9500, -2.9400, -2.9300, -2.9200, -2.9100,\n",
       "        -2.9000, -2.8900, -2.8800, -2.8700, -2.8600, -2.8500, -2.8400,\n",
       "        -2.8300, -2.8200, -2.8100, -2.8000, -2.7900, -2.7800, -2.7700,\n",
       "        -2.7600, -2.7500, -2.7400, -2.7300, -2.7200, -2.7100, -2.7000,\n",
       "        -2.6900, -2.6800, -2.6700, -2.6600, -2.6500, -2.6400, -2.6300,\n",
       "        -2.6200, -2.6100, -2.6000, -2.5900, -2.5800, -2.5700, -2.5600,\n",
       "        -2.5500, -2.5400, -2.5300, -2.5200, -2.5100, -2.5000, -2.4900,\n",
       "        -2.4800, -2.4700, -2.4600, -2.4500, -2.4400, -2.4300, -2.4200,\n",
       "        -2.4100, -2.4000, -2.3900, -2.3800, -2.3700, -2.3600, -2.3500,\n",
       "        -2.3400, -2.3300, -2.3200, -2.3100, -2.3000, -2.2900, -2.2800,\n",
       "        -2.2700, -2.2600, -2.2500, -2.2400, -2.2300, -2.2200, -2.2100,\n",
       "        -2.2000, -2.1900, -2.1800, -2.1700, -2.1600, -2.1500, -2.1400,\n",
       "        -2.1300, -2.1200, -2.1100, -2.1000, -2.0900, -2.0800, -2.0700,\n",
       "        -2.0600, -2.0500, -2.0400, -2.0300, -2.0200, -2.0100, -2.0000,\n",
       "        -1.9900, -1.9800, -1.9700, -1.9600, -1.9500, -1.9400, -1.9300,\n",
       "        -1.9200, -1.9100, -1.9000, -1.8900, -1.8800, -1.8700, -1.8600,\n",
       "        -1.8500, -1.8400, -1.8300, -1.8200, -1.8100, -1.8000, -1.7900,\n",
       "        -1.7800, -1.7700, -1.7600, -1.7500, -1.7400, -1.7300, -1.7200,\n",
       "        -1.7100, -1.7000, -1.6900, -1.6800, -1.6700, -1.6600, -1.6500,\n",
       "        -1.6400, -1.6300, -1.6200, -1.6100, -1.6000, -1.5900, -1.5800,\n",
       "        -1.5700, -1.5600, -1.5500, -1.5400, -1.5300, -1.5200, -1.5100,\n",
       "        -1.5000, -1.4900, -1.4800, -1.4700, -1.4600, -1.4500, -1.4400,\n",
       "        -1.4300, -1.4200, -1.4100, -1.4000, -1.3900, -1.3800, -1.3700,\n",
       "        -1.3600, -1.3500, -1.3400, -1.3300, -1.3200, -1.3100, -1.3000,\n",
       "        -1.2900, -1.2800, -1.2700, -1.2600, -1.2500, -1.2400, -1.2300,\n",
       "        -1.2200, -1.2100, -1.2000, -1.1900, -1.1800, -1.1700, -1.1600,\n",
       "        -1.1500, -1.1400, -1.1300, -1.1200, -1.1100, -1.1000, -1.0900,\n",
       "        -1.0800, -1.0700, -1.0600, -1.0500, -1.0400, -1.0300, -1.0200,\n",
       "        -1.0100, -1.0000, -0.9900, -0.9800, -0.9700, -0.9600, -0.9500,\n",
       "        -0.9400, -0.9300, -0.9200, -0.9100, -0.9000, -0.8900, -0.8800,\n",
       "        -0.8700, -0.8600, -0.8500, -0.8400, -0.8300, -0.8200, -0.8100,\n",
       "        -0.8000, -0.7900, -0.7800, -0.7700, -0.7600, -0.7500, -0.7400,\n",
       "        -0.7300, -0.7200, -0.7100, -0.7000, -0.6900, -0.6800, -0.6700,\n",
       "        -0.6600, -0.6500, -0.6400, -0.6300, -0.6200, -0.6100, -0.6000,\n",
       "        -0.5900, -0.5800, -0.5700, -0.5600, -0.5500, -0.5400, -0.5300,\n",
       "        -0.5200, -0.5100, -0.5000, -0.4900, -0.4800, -0.4700, -0.4600,\n",
       "        -0.4500, -0.4400, -0.4300, -0.4200, -0.4100, -0.4000, -0.3900,\n",
       "        -0.3800, -0.3700, -0.3600, -0.3500, -0.3400, -0.3300, -0.3200,\n",
       "        -0.3100, -0.3000, -0.2900, -0.2800, -0.2700, -0.2600, -0.2500,\n",
       "        -0.2400, -0.2300, -0.2200, -0.2100, -0.2000, -0.1900, -0.1800,\n",
       "        -0.1700, -0.1600, -0.1500, -0.1400, -0.1300, -0.1200, -0.1100,\n",
       "        -0.1000, -0.0900, -0.0800, -0.0700, -0.0600, -0.0500, -0.0400,\n",
       "        -0.0300, -0.0200, -0.0100,  0.0000,  0.0100,  0.0200,  0.0300,\n",
       "         0.0400,  0.0500,  0.0600,  0.0700,  0.0800,  0.0900,  0.1000,\n",
       "         0.1100,  0.1200,  0.1300,  0.1400,  0.1500,  0.1600,  0.1700,\n",
       "         0.1800,  0.1900,  0.2000,  0.2100,  0.2200,  0.2300,  0.2400,\n",
       "         0.2500,  0.2600,  0.2700,  0.2800,  0.2900,  0.3000,  0.3100,\n",
       "         0.3200,  0.3300,  0.3400,  0.3500,  0.3600,  0.3700,  0.3800,\n",
       "         0.3900,  0.4000,  0.4100,  0.4200,  0.4300,  0.4400,  0.4500,\n",
       "         0.4600,  0.4700,  0.4800,  0.4900,  0.5000,  0.5100,  0.5200,\n",
       "         0.5300,  0.5400,  0.5500,  0.5600,  0.5700,  0.5800,  0.5900,\n",
       "         0.6000,  0.6100,  0.6200,  0.6300,  0.6400,  0.6500,  0.6600,\n",
       "         0.6700,  0.6800,  0.6900,  0.7000,  0.7100,  0.7200,  0.7300,\n",
       "         0.7400,  0.7500,  0.7600,  0.7700,  0.7800,  0.7900,  0.8000,\n",
       "         0.8100,  0.8200,  0.8300,  0.8400,  0.8500,  0.8600,  0.8700,\n",
       "         0.8800,  0.8900,  0.9000,  0.9100,  0.9200,  0.9300,  0.9400,\n",
       "         0.9500,  0.9600,  0.9700,  0.9800,  0.9900,  1.0000,  1.0100,\n",
       "         1.0200,  1.0300,  1.0400,  1.0500,  1.0600,  1.0700,  1.0800,\n",
       "         1.0900,  1.1000,  1.1100,  1.1200,  1.1300,  1.1400,  1.1500,\n",
       "         1.1600,  1.1700,  1.1800,  1.1900,  1.2000,  1.2100,  1.2200,\n",
       "         1.2300,  1.2400,  1.2500,  1.2600,  1.2700,  1.2800,  1.2900,\n",
       "         1.3000,  1.3100,  1.3200,  1.3300,  1.3400,  1.3500,  1.3600,\n",
       "         1.3700,  1.3800,  1.3900,  1.4000,  1.4100,  1.4200,  1.4300,\n",
       "         1.4400,  1.4500,  1.4600,  1.4700,  1.4800,  1.4900,  1.5000,\n",
       "         1.5100,  1.5200,  1.5300,  1.5400,  1.5500,  1.5600,  1.5700,\n",
       "         1.5800,  1.5900,  1.6000,  1.6100,  1.6200,  1.6300,  1.6400,\n",
       "         1.6500,  1.6600,  1.6700,  1.6800,  1.6900,  1.7000,  1.7100,\n",
       "         1.7200,  1.7300,  1.7400,  1.7500,  1.7600,  1.7700,  1.7800,\n",
       "         1.7900,  1.8000,  1.8100,  1.8200,  1.8300,  1.8400,  1.8500,\n",
       "         1.8600,  1.8700,  1.8800,  1.8900,  1.9000,  1.9100,  1.9200,\n",
       "         1.9300,  1.9400,  1.9500,  1.9600,  1.9700,  1.9800,  1.9900,\n",
       "         2.0000,  2.0100,  2.0200,  2.0300,  2.0400,  2.0500,  2.0600,\n",
       "         2.0700,  2.0800,  2.0900,  2.1000,  2.1100,  2.1200,  2.1300,\n",
       "         2.1400,  2.1500,  2.1600,  2.1700,  2.1800,  2.1900,  2.2000,\n",
       "         2.2100,  2.2200,  2.2300,  2.2400,  2.2500,  2.2600,  2.2700,\n",
       "         2.2800,  2.2900,  2.3000,  2.3100,  2.3200,  2.3300,  2.3400,\n",
       "         2.3500,  2.3600,  2.3700,  2.3800,  2.3900,  2.4000,  2.4100,\n",
       "         2.4200,  2.4300,  2.4400,  2.4500,  2.4600,  2.4700,  2.4800,\n",
       "         2.4900,  2.5000,  2.5100,  2.5200,  2.5300,  2.5400,  2.5500,\n",
       "         2.5600,  2.5700,  2.5800,  2.5900,  2.6000,  2.6100,  2.6200,\n",
       "         2.6300,  2.6400,  2.6500,  2.6600,  2.6700,  2.6800,  2.6900,\n",
       "         2.7000,  2.7100,  2.7200,  2.7300,  2.7400,  2.7500,  2.7600,\n",
       "         2.7700,  2.7800,  2.7900,  2.8000,  2.8100,  2.8200,  2.8300,\n",
       "         2.8400,  2.8500,  2.8600,  2.8700,  2.8800,  2.8900,  2.9000,\n",
       "         2.9100,  2.9200,  2.9300,  2.9400,  2.9500,  2.9600,  2.9700,\n",
       "         2.9800,  2.9900,  3.0000,  3.0100,  3.0200,  3.0300,  3.0400,\n",
       "         3.0500,  3.0600,  3.0700,  3.0800,  3.0900,  3.1000,  3.1100,\n",
       "         3.1200,  3.1300,  3.1400,  3.1500,  3.1600,  3.1700,  3.1800,\n",
       "         3.1900,  3.2000,  3.2100,  3.2200,  3.2300,  3.2400,  3.2500,\n",
       "         3.2600,  3.2700,  3.2800,  3.2900,  3.3000,  3.3100,  3.3200,\n",
       "         3.3300,  3.3400,  3.3500,  3.3600,  3.3700,  3.3800,  3.3900,\n",
       "         3.4000,  3.4100,  3.4200,  3.4300,  3.4400,  3.4500,  3.4600,\n",
       "         3.4700,  3.4800,  3.4900,  3.5000,  3.5100,  3.5200,  3.5300,\n",
       "         3.5400,  3.5500,  3.5600,  3.5700,  3.5800,  3.5900,  3.6000,\n",
       "         3.6100,  3.6200,  3.6300,  3.6400,  3.6500,  3.6600,  3.6700,\n",
       "         3.6800,  3.6900,  3.7000,  3.7100,  3.7200,  3.7300,  3.7400,\n",
       "         3.7500,  3.7600,  3.7700,  3.7800,  3.7900,  3.8000,  3.8100,\n",
       "         3.8200,  3.8300,  3.8400,  3.8500,  3.8600,  3.8700,  3.8800,\n",
       "         3.8900,  3.9000,  3.9100,  3.9200,  3.9300,  3.9400,  3.9500,\n",
       "         3.9600,  3.9700,  3.9800,  3.9900,  4.0000,  4.0100,  4.0200,\n",
       "         4.0300,  4.0400,  4.0500,  4.0600,  4.0700,  4.0800,  4.0900,\n",
       "         4.1000,  4.1100,  4.1200,  4.1300,  4.1400,  4.1500,  4.1600,\n",
       "         4.1700,  4.1800,  4.1900,  4.2000,  4.2100,  4.2200,  4.2300,\n",
       "         4.2400,  4.2500,  4.2600,  4.2700,  4.2800,  4.2900,  4.3000,\n",
       "         4.3100,  4.3200,  4.3300,  4.3400,  4.3500,  4.3600,  4.3700,\n",
       "         4.3800,  4.3900,  4.4000,  4.4100,  4.4200,  4.4300,  4.4400,\n",
       "         4.4500,  4.4600,  4.4700,  4.4800,  4.4900,  4.5000,  4.5100,\n",
       "         4.5200,  4.5300,  4.5400,  4.5500,  4.5600,  4.5700,  4.5800,\n",
       "         4.5900,  4.6000,  4.6100,  4.6200,  4.6300,  4.6400,  4.6500,\n",
       "         4.6600,  4.6700,  4.6800,  4.6900,  4.7000,  4.7100,  4.7200,\n",
       "         4.7300,  4.7400,  4.7500,  4.7600,  4.7700,  4.7800,  4.7900,\n",
       "         4.8000,  4.8100,  4.8200,  4.8300,  4.8400,  4.8500,  4.8600,\n",
       "         4.8700,  4.8800,  4.8900,  4.9000,  4.9100,  4.9200,  4.9300,\n",
       "         4.9400,  4.9500,  4.9600,  4.9700,  4.9800,  4.9900])"
      ]
     },
     "execution_count": 84,
     "metadata": {},
     "output_type": "execute_result"
    }
   ],
   "source": [
    "print(x.shape)\n",
    "x"
   ]
  },
  {
   "cell_type": "code",
   "execution_count": 85,
   "metadata": {},
   "outputs": [],
   "source": [
    "act = torch.nn.ReLU()\n",
    "act2 = torch.nn.ELU()\n",
    "y = act(x)\n",
    "y2 = act2(x)"
   ]
  },
  {
   "cell_type": "code",
   "execution_count": 86,
   "metadata": {},
   "outputs": [
    {
     "data": {
      "text/plain": [
       "[<matplotlib.lines.Line2D at 0x11703d550>,\n",
       " <matplotlib.lines.Line2D at 0x1171c6240>]"
      ]
     },
     "execution_count": 86,
     "metadata": {},
     "output_type": "execute_result"
    },
    {
     "data": {
      "image/png": "[encoded data removed]",
      "text/plain": [
       "<Figure size 432x432 with 1 Axes>"
      ]
     },
     "metadata": {},
     "output_type": "display_data"
    }
   ],
   "source": [
    "plt.figure(figsize=(6,6))\n",
    "plt.plot(x.numpy(), y.detach().numpy(), x.numpy(), y2.detach().numpy())"
   ]
  },
  {
   "cell_type": "code",
   "execution_count": 87,
   "metadata": {},
   "outputs": [],
   "source": [
    "x = torch.arange(-1., 1., .1)\n",
    "x = x.unsqueeze(dim=0)"
   ]
  },
  {
   "cell_type": "code",
   "execution_count": 88,
   "metadata": {},
   "outputs": [
    {
     "data": {
      "text/plain": [
       "tensor([[-1.0000, -0.9000, -0.8000, -0.7000, -0.6000, -0.5000, -0.4000,\n",
       "         -0.3000, -0.2000, -0.1000,  0.0000,  0.1000,  0.2000,  0.3000,\n",
       "          0.4000,  0.5000,  0.6000,  0.7000,  0.8000,  0.9000]])"
      ]
     },
     "execution_count": 88,
     "metadata": {},
     "output_type": "execute_result"
    }
   ],
   "source": [
    "x"
   ]
  },
  {
   "cell_type": "code",
   "execution_count": 89,
   "metadata": {},
   "outputs": [],
   "source": [
    "sftmx = torch.nn.Softmax(dim=1)"
   ]
  },
  {
   "cell_type": "code",
   "execution_count": 90,
   "metadata": {},
   "outputs": [],
   "source": [
    "y = sftmx(x)"
   ]
  },
  {
   "cell_type": "code",
   "execution_count": 91,
   "metadata": {},
   "outputs": [
    {
     "data": {
      "text/plain": [
       "tensor([ 0.0165,  0.0182,  0.0201,  0.0222,  0.0246,  0.0271,  0.0300,\n",
       "         0.0331,  0.0366,  0.0405,  0.0447,  0.0495,  0.0547,  0.0604,\n",
       "         0.0668,  0.0738,  0.0815,  0.0901,  0.0996,  0.1101])"
      ]
     },
     "execution_count": 91,
     "metadata": {},
     "output_type": "execute_result"
    }
   ],
   "source": [
    "y.squeeze()"
   ]
  },
  {
   "cell_type": "code",
   "execution_count": 92,
   "metadata": {},
   "outputs": [
    {
     "data": {
      "text/plain": [
       "[<matplotlib.lines.Line2D at 0x117258be0>]"
      ]
     },
     "execution_count": 92,
     "metadata": {},
     "output_type": "execute_result"
    },
    {
     "data": {
      "image/png": "[encoded data removed]",
      "text/plain": [
       "<Figure size 432x432 with 1 Axes>"
      ]
     },
     "metadata": {},
     "output_type": "display_data"
    }
   ],
   "source": [
    "plt.figure(figsize=(6,6))\n",
    "plt.plot(x.squeeze().numpy(), y.squeeze().detach().numpy())"
   ]
  },
  {
   "cell_type": "code",
   "execution_count": 93,
   "metadata": {},
   "outputs": [],
   "source": [
    "mse = torch.nn.MSELoss()"
   ]
  },
  {
   "cell_type": "code",
   "execution_count": 94,
   "metadata": {},
   "outputs": [
    {
     "data": {
      "text/plain": [
       "tensor([[ 0.2333,  2.1849, -0.3486],\n",
       "        [-0.1864,  0.6236,  0.3745],\n",
       "        [-0.9426, -0.3326, -0.3639],\n",
       "        [-1.6045,  0.7916,  0.3009],\n",
       "        [ 0.3411,  1.8472,  0.7466]])"
      ]
     },
     "execution_count": 94,
     "metadata": {},
     "output_type": "execute_result"
    }
   ],
   "source": [
    "output = torch.randn(5, 3)\n",
    "output"
   ]
  },
  {
   "cell_type": "code",
   "execution_count": 95,
   "metadata": {},
   "outputs": [
    {
     "data": {
      "text/plain": [
       "tensor([[ 2.1796, -1.8485, -0.1381],\n",
       "        [ 1.0874,  0.8285, -1.3297],\n",
       "        [ 1.7790,  0.3106, -0.7324],\n",
       "        [ 0.0336,  0.4974, -0.4424],\n",
       "        [-1.3279, -0.3940,  1.8987]])"
      ]
     },
     "execution_count": 95,
     "metadata": {},
     "output_type": "execute_result"
    }
   ],
   "source": [
    "targets = torch.randn(5, 3)\n",
    "targets"
   ]
  },
  {
   "cell_type": "code",
   "execution_count": 96,
   "metadata": {},
   "outputs": [],
   "source": [
    "loss = mse(output, targets)"
   ]
  },
  {
   "cell_type": "code",
   "execution_count": 97,
   "metadata": {},
   "outputs": [
    {
     "data": {
      "text/plain": [
       "tensor(3.0056)"
      ]
     },
     "execution_count": 97,
     "metadata": {},
     "output_type": "execute_result"
    }
   ],
   "source": [
    "loss"
   ]
  },
  {
   "cell_type": "code",
   "execution_count": 98,
   "metadata": {},
   "outputs": [
    {
     "data": {
      "text/plain": [
       "tensor([[  3.7881,  16.2682,   0.0443],\n",
       "        [  1.6226,   0.0420,   2.9043],\n",
       "        [  7.4071,   0.4137,   0.1358],\n",
       "        [  2.6833,   0.0866,   0.5524],\n",
       "        [  2.7857,   5.0229,   1.3272]])"
      ]
     },
     "execution_count": 98,
     "metadata": {},
     "output_type": "execute_result"
    }
   ],
   "source": [
    "sqerr = (output - targets)**2\n",
    "sqerr"
   ]
  },
  {
   "cell_type": "code",
   "execution_count": 99,
   "metadata": {},
   "outputs": [
    {
     "data": {
      "text/plain": [
       "tensor(3.0056)"
      ]
     },
     "execution_count": 99,
     "metadata": {},
     "output_type": "execute_result"
    }
   ],
   "source": [
    "torch.mean(sqerr)"
   ]
  },
  {
   "cell_type": "markdown",
   "metadata": {},
   "source": [
    "## Cross Entropy Loss"
   ]
  },
  {
   "cell_type": "code",
   "execution_count": 100,
   "metadata": {},
   "outputs": [],
   "source": [
    "n_classes = 5"
   ]
  },
  {
   "cell_type": "code",
   "execution_count": 101,
   "metadata": {},
   "outputs": [
    {
     "data": {
      "text/plain": [
       "tensor([[-0.7793, -1.8399, -0.9660, -0.5461,  0.4993],\n",
       "        [-1.5785,  0.2778, -0.7132,  0.0742,  0.3149],\n",
       "        [ 0.8414, -0.2485, -1.3677, -0.4357,  1.7735],\n",
       "        [-0.4360,  0.3706,  1.0509, -1.7973,  0.1304],\n",
       "        [-0.0435,  0.7115,  0.1325, -0.6730,  0.6130],\n",
       "        [ 1.0549, -1.2061,  0.7028,  0.3204, -1.4093],\n",
       "        [-0.6598, -0.2624, -0.7536,  0.0032,  0.4789],\n",
       "        [-2.3322,  0.5729,  1.1359, -0.7490, -1.1900],\n",
       "        [ 0.7521,  0.3800,  1.6050,  1.4868,  1.3220],\n",
       "        [ 0.7770, -1.0276, -0.1659,  1.3268, -1.2349]])"
      ]
     },
     "execution_count": 101,
     "metadata": {},
     "output_type": "execute_result"
    }
   ],
   "source": [
    "output = torch.randn(10, n_classes)\n",
    "output"
   ]
  },
  {
   "cell_type": "code",
   "execution_count": 102,
   "metadata": {},
   "outputs": [
    {
     "data": {
      "text/plain": [
       "tensor([[ 0.1422,  0.0493,  0.1180,  0.1796,  0.5109],\n",
       "        [ 0.0462,  0.2958,  0.1098,  0.2413,  0.3069],\n",
       "        [ 0.2345,  0.0788,  0.0257,  0.0654,  0.5955],\n",
       "        [ 0.1033,  0.2314,  0.4569,  0.0265,  0.1820],\n",
       "        [ 0.1475,  0.3138,  0.1758,  0.0786,  0.2843],\n",
       "        [ 0.4215,  0.0439,  0.2964,  0.2022,  0.0359],\n",
       "        [ 0.1182,  0.1758,  0.1076,  0.2293,  0.3690],\n",
       "        [ 0.0168,  0.3078,  0.5405,  0.0821,  0.0528],\n",
       "        [ 0.1268,  0.0874,  0.2974,  0.2643,  0.2241],\n",
       "        [ 0.2923,  0.0481,  0.1139,  0.5066,  0.0391]])"
      ]
     },
     "execution_count": 102,
     "metadata": {},
     "output_type": "execute_result"
    }
   ],
   "source": [
    "sft_output = sftmx(output)\n",
    "sft_output"
   ]
  },
  {
   "cell_type": "code",
   "execution_count": 103,
   "metadata": {},
   "outputs": [
    {
     "data": {
      "text/plain": [
       "tensor([ 1.0000,  1.0000,  1.0000,  1.0000,  1.0000,  1.0000,  1.0000,\n",
       "         1.0000,  1.0000,  1.0000])"
      ]
     },
     "execution_count": 103,
     "metadata": {},
     "output_type": "execute_result"
    }
   ],
   "source": [
    "torch.sum(sft_output, dim=1)"
   ]
  },
  {
   "cell_type": "code",
   "execution_count": 104,
   "metadata": {},
   "outputs": [
    {
     "data": {
      "text/plain": [
       "(tensor([ 0.5109,  0.3069,  0.5955,  0.4569,  0.3138,  0.4215,  0.3690,\n",
       "          0.5405,  0.2974,  0.5066]),\n",
       " tensor([ 4,  4,  4,  2,  1,  0,  4,  2,  2,  3]))"
      ]
     },
     "execution_count": 104,
     "metadata": {},
     "output_type": "execute_result"
    }
   ],
   "source": [
    "torch.max(sft_output, dim=1)"
   ]
  },
  {
   "cell_type": "code",
   "execution_count": 105,
   "metadata": {},
   "outputs": [
    {
     "data": {
      "text/plain": [
       "tensor([ 0,  1,  0,  1,  0,  2,  3,  4,  2,  2])"
      ]
     },
     "execution_count": 105,
     "metadata": {},
     "output_type": "execute_result"
    }
   ],
   "source": [
    "targets = torch.floor(torch.rand(10, 1)*n_classes).long().squeeze()\n",
    "targets"
   ]
  },
  {
   "cell_type": "code",
   "execution_count": 106,
   "metadata": {},
   "outputs": [],
   "source": [
    "# Since torch.nn.CrossEntropyLoss() combines softmax and NLLLoss, \n",
    "# the function applies to the *original* output, not the softmax\n",
    "# ----> so you would not include the softmax function in the implementation!"
   ]
  },
  {
   "cell_type": "code",
   "execution_count": 107,
   "metadata": {},
   "outputs": [],
   "source": [
    "ce_loss = torch.nn.CrossEntropyLoss()"
   ]
  },
  {
   "cell_type": "code",
   "execution_count": 108,
   "metadata": {},
   "outputs": [],
   "source": [
    "loss = ce_loss(output, targets)"
   ]
  },
  {
   "cell_type": "code",
   "execution_count": 109,
   "metadata": {},
   "outputs": [
    {
     "data": {
      "text/plain": [
       "tensor(1.7011)"
      ]
     },
     "execution_count": 109,
     "metadata": {},
     "output_type": "execute_result"
    }
   ],
   "source": [
    "loss"
   ]
  },
  {
   "cell_type": "markdown",
   "metadata": {},
   "source": [
    "$v = -y_i \\log(\\text{softmax}(\\hat{y}_i))$"
   ]
  },
  {
   "cell_type": "code",
   "execution_count": 110,
   "metadata": {},
   "outputs": [],
   "source": [
    "import math"
   ]
  },
  {
   "cell_type": "code",
   "execution_count": 111,
   "metadata": {},
   "outputs": [
    {
     "data": {
      "text/plain": [
       "[1.950222726303199,\n",
       " 1.21816472530268,\n",
       " 1.4503484059257647,\n",
       " 1.4636555773013347,\n",
       " 1.9141028452597697,\n",
       " 1.2159072069266592,\n",
       " 1.4725579686296786,\n",
       " 2.9412386609882346,\n",
       " 1.212531558568411,\n",
       " 2.1727029807327933]"
      ]
     },
     "execution_count": 111,
     "metadata": {},
     "output_type": "execute_result"
    }
   ],
   "source": [
    "v = [-math.log(sft_output[i, t].item()) for i, t in enumerate(targets.numpy())]\n",
    "v"
   ]
  },
  {
   "cell_type": "code",
   "execution_count": 112,
   "metadata": {},
   "outputs": [
    {
     "data": {
      "text/plain": [
       "tensor(1.7011)"
      ]
     },
     "execution_count": 112,
     "metadata": {},
     "output_type": "execute_result"
    }
   ],
   "source": [
    "torch.mean(torch.tensor(v))"
   ]
  },
  {
   "cell_type": "markdown",
   "metadata": {},
   "source": [
    "# Binary Cross Entropy Loss"
   ]
  },
  {
   "cell_type": "code",
   "execution_count": 134,
   "metadata": {},
   "outputs": [],
   "source": [
    "targets = torch.round(torch.rand(10)).float().view(10, 1)"
   ]
  },
  {
   "cell_type": "code",
   "execution_count": 135,
   "metadata": {},
   "outputs": [
    {
     "data": {
      "text/plain": [
       "tensor([[ 1.],\n",
       "        [ 1.],\n",
       "        [ 1.],\n",
       "        [ 1.],\n",
       "        [ 0.],\n",
       "        [ 0.],\n",
       "        [ 0.],\n",
       "        [ 0.],\n",
       "        [ 0.],\n",
       "        [ 0.]])"
      ]
     },
     "execution_count": 135,
     "metadata": {},
     "output_type": "execute_result"
    }
   ],
   "source": [
    "targets"
   ]
  },
  {
   "cell_type": "code",
   "execution_count": 136,
   "metadata": {},
   "outputs": [],
   "source": [
    "outputs = torch.rand(10).view(10, 1)"
   ]
  },
  {
   "cell_type": "code",
   "execution_count": 137,
   "metadata": {},
   "outputs": [
    {
     "data": {
      "text/plain": [
       "tensor([[ 0.2028],\n",
       "        [ 0.3446],\n",
       "        [ 0.9242],\n",
       "        [ 0.0090],\n",
       "        [ 0.4893],\n",
       "        [ 0.8768],\n",
       "        [ 0.3528],\n",
       "        [ 0.9917],\n",
       "        [ 0.9394],\n",
       "        [ 0.4063]])"
      ]
     },
     "execution_count": 137,
     "metadata": {},
     "output_type": "execute_result"
    }
   ],
   "source": [
    "outputs"
   ]
  },
  {
   "cell_type": "code",
   "execution_count": 138,
   "metadata": {},
   "outputs": [],
   "source": [
    "bc_loss = torch.nn.BCELoss()"
   ]
  },
  {
   "cell_type": "code",
   "execution_count": 139,
   "metadata": {},
   "outputs": [],
   "source": [
    "loss = bc_loss(outputs, targets)"
   ]
  },
  {
   "cell_type": "code",
   "execution_count": 140,
   "metadata": {},
   "outputs": [
    {
     "data": {
      "text/plain": [
       "tensor(1.8761)"
      ]
     },
     "execution_count": 140,
     "metadata": {},
     "output_type": "execute_result"
    }
   ],
   "source": [
    "loss"
   ]
  },
  {
   "cell_type": "markdown",
   "metadata": {},
   "source": [
    "$v = -\\left(y_i \\log(\\hat{y}_i) + (1 - y_i) \\log(1 - \\hat{y}_i) \\right)$"
   ]
  },
  {
   "cell_type": "code",
   "execution_count": 141,
   "metadata": {},
   "outputs": [
    {
     "data": {
      "text/plain": [
       "array([1.59553807, 1.06527784, 0.0788291 , 4.71047735, 0.67197741,\n",
       "       2.09383593, 0.43503197, 4.78578469, 2.80317646, 0.52133045])"
      ]
     },
     "execution_count": 141,
     "metadata": {},
     "output_type": "execute_result"
    }
   ],
   "source": [
    "import numpy as np\n",
    "v = -np.log([outputs[i].item() if t == 1 else (1-outputs[i].item()) for i, t in enumerate(targets)])\n",
    "v"
   ]
  },
  {
   "cell_type": "code",
   "execution_count": 142,
   "metadata": {},
   "outputs": [
    {
     "data": {
      "text/plain": [
       "1.876125926695299"
      ]
     },
     "execution_count": 142,
     "metadata": {},
     "output_type": "execute_result"
    }
   ],
   "source": [
    "np.mean(v)"
   ]
  },
  {
   "cell_type": "code",
   "execution_count": null,
   "metadata": {},
   "outputs": [],
   "source": []
  }
 ],
 "metadata": {
  "kernelspec": {
   "display_name": "Python 3",
   "language": "python",
   "name": "python3"
  },
  "language_info": {
   "codemirror_mode": {
    "name": "ipython",
    "version": 3
   },
   "file_extension": ".py",
   "mimetype": "text/x-python",
   "name": "python",
   "nbconvert_exporter": "python",
   "pygments_lexer": "ipython3",
   "version": "3.6.5"
  }
 },
 "nbformat": 4,
 "nbformat_minor": 2
}
