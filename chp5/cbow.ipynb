{
 "cells": [
  {
   "cell_type": "code",
   "execution_count": 1,
   "metadata": {},
   "outputs": [],
   "source": [
    "import pandas as pd\n",
    "import numpy as np\n",
    "from chp5_objs import CBOWVectorizer, CBOWDataset\n",
    "import utils\n",
    "from torch.utils.data import DataLoader\n",
    "from torch import nn\n",
    "import torch\n",
    "import torch.functional as F\n",
    "import matplotlib.pyplot as plt"
   ]
  },
  {
   "cell_type": "code",
   "execution_count": 2,
   "metadata": {},
   "outputs": [],
   "source": [
    "CUDA_DEVICE = 1  # -1 for CPU\n",
    "\n",
    "if CUDA_DEVICE >= 0:\n",
    "    torch.cuda.set_device(CUDA_DEVICE)\n",
    "    device = torch.device(\"cuda\" if torch.cuda.is_available() else \"cpu\")\n",
    "else:\n",
    "    device = torch.device('cpu')"
   ]
  },
  {
   "cell_type": "code",
   "execution_count": 3,
   "metadata": {},
   "outputs": [
    {
     "data": {
      "text/plain": [
       "device(type='cuda')"
      ]
     },
     "execution_count": 3,
     "metadata": {},
     "output_type": "execute_result"
    }
   ],
   "source": [
    "device"
   ]
  },
  {
   "cell_type": "code",
   "execution_count": 4,
   "metadata": {},
   "outputs": [],
   "source": [
    "embedding_file = '../data/glove.6B.100d.txt'\n",
    "embedding_file = '/bigdisk/lax/ivoliv/data/word_emb/glove/glove.6B.100d.txt'"
   ]
  },
  {
   "cell_type": "code",
   "execution_count": 5,
   "metadata": {},
   "outputs": [
    {
     "data": {
      "text/html": [
       "<div>\n",
       "<style scoped>\n",
       "    .dataframe tbody tr th:only-of-type {\n",
       "        vertical-align: middle;\n",
       "    }\n",
       "\n",
       "    .dataframe tbody tr th {\n",
       "        vertical-align: top;\n",
       "    }\n",
       "\n",
       "    .dataframe thead th {\n",
       "        text-align: right;\n",
       "    }\n",
       "</style>\n",
       "<table border=\"1\" class=\"dataframe\">\n",
       "  <thead>\n",
       "    <tr style=\"text-align: right;\">\n",
       "      <th></th>\n",
       "      <th>sent_id</th>\n",
       "      <th>target</th>\n",
       "      <th>context</th>\n",
       "      <th>split</th>\n",
       "    </tr>\n",
       "  </thead>\n",
       "  <tbody>\n",
       "    <tr>\n",
       "      <th>0</th>\n",
       "      <td>0</td>\n",
       "      <td>st.</td>\n",
       "      <td>['&lt;PAD&gt;', '&lt;PAD&gt;', 'petersburgh', 'dec.']</td>\n",
       "      <td>test</td>\n",
       "    </tr>\n",
       "    <tr>\n",
       "      <th>1</th>\n",
       "      <td>0</td>\n",
       "      <td>petersburgh</td>\n",
       "      <td>['&lt;PAD&gt;', 'st.', 'dec.', '11th']</td>\n",
       "      <td>test</td>\n",
       "    </tr>\n",
       "    <tr>\n",
       "      <th>2</th>\n",
       "      <td>0</td>\n",
       "      <td>dec.</td>\n",
       "      <td>['st.', 'petersburgh', '11th', '17—.']</td>\n",
       "      <td>test</td>\n",
       "    </tr>\n",
       "    <tr>\n",
       "      <th>3</th>\n",
       "      <td>0</td>\n",
       "      <td>11th</td>\n",
       "      <td>['petersburgh', 'dec.', '17—.', 'you']</td>\n",
       "      <td>test</td>\n",
       "    </tr>\n",
       "    <tr>\n",
       "      <th>4</th>\n",
       "      <td>0</td>\n",
       "      <td>17—.</td>\n",
       "      <td>['dec.', '11th', 'you', 'will']</td>\n",
       "      <td>test</td>\n",
       "    </tr>\n",
       "  </tbody>\n",
       "</table>\n",
       "</div>"
      ],
      "text/plain": [
       "   sent_id       target                                    context split\n",
       "0        0          st.  ['<PAD>', '<PAD>', 'petersburgh', 'dec.']  test\n",
       "1        0  petersburgh           ['<PAD>', 'st.', 'dec.', '11th']  test\n",
       "2        0         dec.     ['st.', 'petersburgh', '11th', '17—.']  test\n",
       "3        0         11th     ['petersburgh', 'dec.', '17—.', 'you']  test\n",
       "4        0         17—.            ['dec.', '11th', 'you', 'will']  test"
      ]
     },
     "execution_count": 5,
     "metadata": {},
     "output_type": "execute_result"
    }
   ],
   "source": [
    "frank_df = pd.read_csv('../data/frank_df.csv')\n",
    "frank_df.head()"
   ]
  },
  {
   "cell_type": "code",
   "execution_count": 6,
   "metadata": {},
   "outputs": [
    {
     "name": "stdout",
     "output_type": "stream",
     "text": [
      "input dataset: 74,839 records\n",
      "context vocab: 7052 unique tokens\n",
      "target vocab:  7050 unique tokens\n",
      "torch device:  cuda\n"
     ]
    }
   ],
   "source": [
    "dataset = CBOWDataset.load_dataset_and_make_vectorizer(frank_df)"
   ]
  },
  {
   "cell_type": "code",
   "execution_count": 7,
   "metadata": {},
   "outputs": [
    {
     "name": "stdout",
     "output_type": "stream",
     "text": [
      "embedding dimension: 100 \n",
      "original embedding : 400,000 words\n",
      "new embeddings     : 231 words\n",
      "final embedding    : 7,052 words\n"
     ]
    }
   ],
   "source": [
    "embeddings = utils.make_embedding_matrix(embedding_file, \n",
    "                                         dataset.vectorizer.context_vocab._token_to_index)"
   ]
  },
  {
   "cell_type": "code",
   "execution_count": 8,
   "metadata": {},
   "outputs": [],
   "source": [
    "import pdb\n",
    "class CBOWClassifier(nn.Module):\n",
    "    def __init__(self, in_vocab_size, embeddings, out_vocab_size, padding_idx):\n",
    "        super(CBOWClassifier, self).__init__()\n",
    "        self.embedding_dim = embeddings.shape[1]\n",
    "        self.embedding = nn.Embedding(in_vocab_size, self.embedding_dim, \n",
    "                                      padding_idx=padding_idx,\n",
    "                                      _weight=torch.tensor(embeddings))\n",
    "        self.fc = nn.Linear(self.embedding_dim, out_vocab_size)\n",
    "        \n",
    "    def forward(self, input, apply_softmax=False, debug=False):\n",
    "        if debug: pdb.set_trace()\n",
    "        emb = self.embedding(input).sum(dim=1)\n",
    "        out = self.fc(emb.float())\n",
    "        if apply_softmax:\n",
    "            out = F.softmax(out, dim=1)\n",
    "        return out"
   ]
  },
  {
   "cell_type": "code",
   "execution_count": 9,
   "metadata": {},
   "outputs": [],
   "source": [
    "model = CBOWClassifier(in_vocab_size=len(dataset.vectorizer.context_vocab),\n",
    "                       embeddings=embeddings,\n",
    "                       out_vocab_size=len(dataset.vectorizer.target_vocab),\n",
    "                       padding_idx=dataset.vectorizer.context_vocab.lookup_token('<PAD>')).to(device)"
   ]
  },
  {
   "cell_type": "code",
   "execution_count": 10,
   "metadata": {},
   "outputs": [
    {
     "data": {
      "text/plain": [
       "CBOWClassifier(\n",
       "  (embedding): Embedding(7052, 100, padding_idx=1)\n",
       "  (fc): Linear(in_features=100, out_features=7050, bias=True)\n",
       ")"
      ]
     },
     "execution_count": 10,
     "metadata": {},
     "output_type": "execute_result"
    }
   ],
   "source": [
    "model"
   ]
  },
  {
   "cell_type": "code",
   "execution_count": 12,
   "metadata": {},
   "outputs": [],
   "source": [
    "def epoch_iteration(dataset, optim, batch_size, split='train'):\n",
    "    \n",
    "    dataset.set_split()\n",
    "    \n",
    "    if split == 'train': \n",
    "        model.train()\n",
    "    else:\n",
    "        model.eval()\n",
    "    \n",
    "    dataloader = DataLoader(dataset=dataset, batch_size=batch_size,\n",
    "                            shuffle=True, drop_last=False)\n",
    "\n",
    "    ce_loss = nn.CrossEntropyLoss(reduction='sum')\n",
    "    \n",
    "    running_loss = 0\n",
    "    \n",
    "    for i, data in enumerate(dataloader):\n",
    "        \n",
    "        model.zero_grad()\n",
    "        pred = model(data['context'])\n",
    "        loss = ce_loss(pred, data['target'])\n",
    "\n",
    "        loss.backward()\n",
    "        \n",
    "        running_loss += loss.item()\n",
    "\n",
    "        if split == 'train': optim.step()\n",
    "            \n",
    "    return running_loss / (len(dataset))"
   ]
  },
  {
   "cell_type": "code",
   "execution_count": 13,
   "metadata": {},
   "outputs": [],
   "source": [
    "hist = []"
   ]
  },
  {
   "cell_type": "code",
   "execution_count": null,
   "metadata": {},
   "outputs": [],
   "source": [
    "EPOCHS = 100\n",
    "LR = 0.001\n",
    "BATCH_SIZE = 64"
   ]
  },
  {
   "cell_type": "code",
   "execution_count": null,
   "metadata": {},
   "outputs": [
    {
     "name": "stdout",
     "output_type": "stream",
     "text": [
      "1/100 : 6.768528514580778 : 5.761146895151583\n"
     ]
    }
   ],
   "source": [
    "optim = torch.optim.Adam(params=model.parameters(), lr=LR)\n",
    "\n",
    "for epoch in range(EPOCHS):\n",
    "    train_loss = epoch_iteration(dataset, optim, BATCH_SIZE, 'train')\n",
    "    valid_loss = epoch_iteration(dataset, optim, BATCH_SIZE, 'valid')\n",
    "    print('{}/{} : {} : {}'.format(epoch+1, EPOCHS, train_loss, valid_loss))\n",
    "    hist.append((train_loss, valid_loss))\n"
   ]
  },
  {
   "cell_type": "code",
   "execution_count": 13,
   "metadata": {},
   "outputs": [
    {
     "data": {
      "image/png": "[encoded data removed]",
      "text/plain": [
       "<Figure size 432x288 with 1 Axes>"
      ]
     },
     "metadata": {
      "needs_background": "light"
     },
     "output_type": "display_data"
    }
   ],
   "source": [
    "plt.plot(np.array(hist)[:,0])\n",
    "plt.plot(np.array(hist)[:,1])\n",
    "plt.show()"
   ]
  },
  {
   "cell_type": "code",
   "execution_count": null,
   "metadata": {},
   "outputs": [],
   "source": []
  }
 ],
 "metadata": {
  "kernelspec": {
   "display_name": "Python 3",
   "language": "python",
   "name": "python3"
  },
  "language_info": {
   "codemirror_mode": {
    "name": "ipython",
    "version": 3
   },
   "file_extension": ".py",
   "mimetype": "text/x-python",
   "name": "python",
   "nbconvert_exporter": "python",
   "pygments_lexer": "ipython3",
   "version": "3.7.1"
  }
 },
 "nbformat": 4,
 "nbformat_minor": 2
}
