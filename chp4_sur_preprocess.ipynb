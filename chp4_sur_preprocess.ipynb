{
 "cells": [
  {
   "cell_type": "code",
   "execution_count": 1,
   "metadata": {},
   "outputs": [],
   "source": [
    "import pandas as pd\n",
    "import glob\n",
    "import matplotlib.pyplot as plt"
   ]
  },
  {
   "cell_type": "code",
   "execution_count": 2,
   "metadata": {},
   "outputs": [
    {
     "data": {
      "text/plain": [
       "['/Users/ivoliv/Notebooks/pytorch/nlptut/data/data/names/Czech.txt',\n",
       " '/Users/ivoliv/Notebooks/pytorch/nlptut/data/data/names/German.txt',\n",
       " '/Users/ivoliv/Notebooks/pytorch/nlptut/data/data/names/Arabic.txt',\n",
       " '/Users/ivoliv/Notebooks/pytorch/nlptut/data/data/names/Japanese.txt',\n",
       " '/Users/ivoliv/Notebooks/pytorch/nlptut/data/data/names/Chinese.txt',\n",
       " '/Users/ivoliv/Notebooks/pytorch/nlptut/data/data/names/Vietnamese.txt',\n",
       " '/Users/ivoliv/Notebooks/pytorch/nlptut/data/data/names/Russian.txt',\n",
       " '/Users/ivoliv/Notebooks/pytorch/nlptut/data/data/names/French.txt',\n",
       " '/Users/ivoliv/Notebooks/pytorch/nlptut/data/data/names/Irish.txt',\n",
       " '/Users/ivoliv/Notebooks/pytorch/nlptut/data/data/names/English.txt',\n",
       " '/Users/ivoliv/Notebooks/pytorch/nlptut/data/data/names/Spanish.txt',\n",
       " '/Users/ivoliv/Notebooks/pytorch/nlptut/data/data/names/Greek.txt',\n",
       " '/Users/ivoliv/Notebooks/pytorch/nlptut/data/data/names/Italian.txt',\n",
       " '/Users/ivoliv/Notebooks/pytorch/nlptut/data/data/names/Portuguese.txt',\n",
       " '/Users/ivoliv/Notebooks/pytorch/nlptut/data/data/names/Scottish.txt',\n",
       " '/Users/ivoliv/Notebooks/pytorch/nlptut/data/data/names/Dutch.txt',\n",
       " '/Users/ivoliv/Notebooks/pytorch/nlptut/data/data/names/Korean.txt',\n",
       " '/Users/ivoliv/Notebooks/pytorch/nlptut/data/data/names/Polish.txt']"
      ]
     },
     "execution_count": 2,
     "metadata": {},
     "output_type": "execute_result"
    }
   ],
   "source": [
    "path = '/Users/ivoliv/Notebooks/pytorch/nlptut/data/data/names'\n",
    "fileslist = glob.glob(path+'/*.txt')\n",
    "fileslist"
   ]
  },
  {
   "cell_type": "code",
   "execution_count": 87,
   "metadata": {},
   "outputs": [],
   "source": [
    "df_full = pd.DataFrame(columns=['surname', 'nationality'])\n",
    "for filename in fileslist:\n",
    "    f = open(filename, 'r')\n",
    "    nationality = filename[len(path)+1:].replace('.txt', '')\n",
    "    names = f.read().split('\\n')\n",
    "    df = pd.DataFrame(names, columns=['surname'])\n",
    "    df['nationality'] = nationality\n",
    "    df = df[df.surname != '']\n",
    "    if nationality == 'Russian':\n",
    "        df = df.sample(3000)\n",
    "    df_full = pd.concat([df_full, df])"
   ]
  },
  {
   "cell_type": "code",
   "execution_count": 88,
   "metadata": {},
   "outputs": [],
   "source": [
    "df_full = df_full.reset_index().drop('index', axis=1)"
   ]
  },
  {
   "cell_type": "code",
   "execution_count": 89,
   "metadata": {},
   "outputs": [
    {
     "data": {
      "text/plain": [
       "nationality\n",
       "Arabic         108\n",
       "Chinese        246\n",
       "Czech          503\n",
       "Dutch          286\n",
       "English       3668\n",
       "French         273\n",
       "German         706\n",
       "Greek          193\n",
       "Irish          226\n",
       "Italian        701\n",
       "Japanese       990\n",
       "Korean          94\n",
       "Polish         138\n",
       "Portuguese      74\n",
       "Russian       2982\n",
       "Scottish       100\n",
       "Spanish        296\n",
       "Vietnamese      71\n",
       "Name: surname, dtype: int64"
      ]
     },
     "execution_count": 89,
     "metadata": {},
     "output_type": "execute_result"
    }
   ],
   "source": [
    "df_full.groupby('nationality')['surname'].nunique()"
   ]
  },
  {
   "cell_type": "code",
   "execution_count": 90,
   "metadata": {},
   "outputs": [],
   "source": [
    "import numpy as np\n",
    "from sklearn.model_selection import train_test_split"
   ]
  },
  {
   "cell_type": "code",
   "execution_count": 91,
   "metadata": {},
   "outputs": [
    {
     "name": "stderr",
     "output_type": "stream",
     "text": [
      "/anaconda3/envs/ONE/lib/python3.7/site-packages/sklearn/model_selection/_split.py:2026: FutureWarning: From version 0.21, test_size will always complement train_size unless both are specified.\n",
      "  FutureWarning)\n"
     ]
    }
   ],
   "source": [
    "indx = np.array(list(df_full.index))\n",
    "X_train, X_val = train_test_split(indx, train_size=.7, stratify=df_full['nationality'])\n",
    "X_val, X_test = train_test_split(X_val, train_size=.5, stratify=df_full['nationality'].iloc[X_val])"
   ]
  },
  {
   "cell_type": "code",
   "execution_count": 92,
   "metadata": {},
   "outputs": [
    {
     "data": {
      "text/plain": [
       "surname         Temple\n",
       "nationality    English\n",
       "Name: 11273, dtype: object"
      ]
     },
     "execution_count": 92,
     "metadata": {},
     "output_type": "execute_result"
    }
   ],
   "source": [
    "df_full.iloc[11273]"
   ]
  },
  {
   "cell_type": "code",
   "execution_count": 93,
   "metadata": {},
   "outputs": [],
   "source": [
    "train_df = df_full.iloc[X_train]\n",
    "val_df = df_full.iloc[X_val]\n",
    "test_df = df_full.iloc[X_test]"
   ]
  },
  {
   "cell_type": "code",
   "execution_count": 94,
   "metadata": {},
   "outputs": [
    {
     "name": "stderr",
     "output_type": "stream",
     "text": [
      "/anaconda3/envs/ONE/lib/python3.7/site-packages/ipykernel_launcher.py:1: SettingWithCopyWarning: \n",
      "A value is trying to be set on a copy of a slice from a DataFrame.\n",
      "Try using .loc[row_indexer,col_indexer] = value instead\n",
      "\n",
      "See the caveats in the documentation: http://pandas.pydata.org/pandas-docs/stable/indexing.html#indexing-view-versus-copy\n",
      "  \"\"\"Entry point for launching an IPython kernel.\n",
      "/anaconda3/envs/ONE/lib/python3.7/site-packages/ipykernel_launcher.py:2: SettingWithCopyWarning: \n",
      "A value is trying to be set on a copy of a slice from a DataFrame.\n",
      "Try using .loc[row_indexer,col_indexer] = value instead\n",
      "\n",
      "See the caveats in the documentation: http://pandas.pydata.org/pandas-docs/stable/indexing.html#indexing-view-versus-copy\n",
      "  \n",
      "/anaconda3/envs/ONE/lib/python3.7/site-packages/ipykernel_launcher.py:3: SettingWithCopyWarning: \n",
      "A value is trying to be set on a copy of a slice from a DataFrame.\n",
      "Try using .loc[row_indexer,col_indexer] = value instead\n",
      "\n",
      "See the caveats in the documentation: http://pandas.pydata.org/pandas-docs/stable/indexing.html#indexing-view-versus-copy\n",
      "  This is separate from the ipykernel package so we can avoid doing imports until\n"
     ]
    }
   ],
   "source": [
    "train_df['split'] = 'train'\n",
    "val_df['split'] = 'val'\n",
    "test_df['split'] = 'test'"
   ]
  },
  {
   "cell_type": "code",
   "execution_count": 96,
   "metadata": {},
   "outputs": [],
   "source": [
    "full_df = pd.concat([train_df, val_df, test_df])"
   ]
  },
  {
   "cell_type": "code",
   "execution_count": 97,
   "metadata": {},
   "outputs": [],
   "source": [
    "full_df.to_csv(path+'/full_dataset.csv')"
   ]
  },
  {
   "cell_type": "code",
   "execution_count": null,
   "metadata": {},
   "outputs": [],
   "source": []
  }
 ],
 "metadata": {
  "kernelspec": {
   "display_name": "Python 3",
   "language": "python",
   "name": "python3"
  },
  "language_info": {
   "codemirror_mode": {
    "name": "ipython",
    "version": 3
   },
   "file_extension": ".py",
   "mimetype": "text/x-python",
   "name": "python",
   "nbconvert_exporter": "python",
   "pygments_lexer": "ipython3",
   "version": "3.6.5"
  }
 },
 "nbformat": 4,
 "nbformat_minor": 2
}
