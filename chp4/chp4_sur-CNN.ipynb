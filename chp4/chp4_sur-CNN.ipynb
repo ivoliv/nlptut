{
 "cells": [
  {
   "cell_type": "code",
   "execution_count": 1,
   "metadata": {},
   "outputs": [],
   "source": [
    "from chp4_sur_CNN import SurnamesDataset, SurnamesVectorizer\n",
    "import torch\n",
    "from torch import nn\n",
    "import torch.nn.functional as F\n",
    "import pdb"
   ]
  },
  {
   "cell_type": "code",
   "execution_count": 2,
   "metadata": {},
   "outputs": [],
   "source": [
    "filename = './data/data/names/full_dataset.csv'\n",
    "dataset = SurnamesDataset.load_dataset_and_make_vectorizer(filename)\n",
    "device = torch.device('cuda:0') if torch.cuda.is_available() else torch.device('cpu')"
   ]
  },
  {
   "cell_type": "code",
   "execution_count": 3,
   "metadata": {},
   "outputs": [
    {
     "data": {
      "text/plain": [
       "device(type='cuda', index=0)"
      ]
     },
     "execution_count": 3,
     "metadata": {},
     "output_type": "execute_result"
    }
   ],
   "source": [
    "device"
   ]
  },
  {
   "cell_type": "code",
   "execution_count": 4,
   "metadata": {},
   "outputs": [
    {
     "data": {
      "text/plain": [
       "87"
      ]
     },
     "execution_count": 4,
     "metadata": {},
     "output_type": "execute_result"
    }
   ],
   "source": [
    "dataset.input_size()"
   ]
  },
  {
   "cell_type": "code",
   "execution_count": 5,
   "metadata": {},
   "outputs": [
    {
     "data": {
      "text/plain": [
       "18"
      ]
     },
     "execution_count": 5,
     "metadata": {},
     "output_type": "execute_result"
    }
   ],
   "source": [
    "dataset.output_size()"
   ]
  },
  {
   "cell_type": "code",
   "execution_count": 6,
   "metadata": {},
   "outputs": [
    {
     "data": {
      "text/plain": [
       "20"
      ]
     },
     "execution_count": 6,
     "metadata": {},
     "output_type": "execute_result"
    }
   ],
   "source": [
    "dataset.max_surname_len"
   ]
  },
  {
   "cell_type": "code",
   "execution_count": 7,
   "metadata": {},
   "outputs": [
    {
     "data": {
      "text/plain": [
       "Unnamed: 0        5040\n",
       "surname           Last\n",
       "nationality    English\n",
       "split            train\n",
       "Name: 0, dtype: object"
      ]
     },
     "execution_count": 7,
     "metadata": {},
     "output_type": "execute_result"
    }
   ],
   "source": [
    "dataset.get_item(0)"
   ]
  },
  {
   "cell_type": "code",
   "execution_count": 23,
   "metadata": {},
   "outputs": [
    {
     "data": {
      "text/plain": [
       "array([[0., 0., 0., ..., 0., 0., 0.],\n",
       "       [1., 0., 0., ..., 0., 0., 0.],\n",
       "       [0., 1., 0., ..., 0., 0., 0.],\n",
       "       ...,\n",
       "       [0., 0., 0., ..., 0., 0., 0.],\n",
       "       [0., 0., 0., ..., 0., 0., 0.],\n",
       "       [0., 0., 0., ..., 0., 0., 0.]])"
      ]
     },
     "execution_count": 23,
     "metadata": {},
     "output_type": "execute_result"
    }
   ],
   "source": [
    "dataset._vectorizer.vectorize('Last', dataset.max_surname_len)"
   ]
  },
  {
   "cell_type": "code",
   "execution_count": 24,
   "metadata": {},
   "outputs": [
    {
     "name": "stdout",
     "output_type": "stream",
     "text": [
      "{'idx': 0, 'x_data': tensor([[0., 0., 0.,  ..., 0., 0., 0.],\n",
      "        [1., 0., 0.,  ..., 0., 0., 0.],\n",
      "        [0., 1., 0.,  ..., 0., 0., 0.],\n",
      "        ...,\n",
      "        [0., 0., 0.,  ..., 0., 0., 0.],\n",
      "        [0., 0., 0.,  ..., 0., 0., 0.],\n",
      "        [0., 0., 0.,  ..., 0., 0., 0.]], device='cuda:0'), 'y_target': tensor([0], device='cuda:0')}\n",
      "{'idx': 1, 'x_data': tensor([[0., 0., 0.,  ..., 0., 0., 0.],\n",
      "        [0., 0., 0.,  ..., 0., 0., 0.],\n",
      "        [0., 0., 0.,  ..., 0., 0., 0.],\n",
      "        ...,\n",
      "        [0., 0., 0.,  ..., 0., 0., 0.],\n",
      "        [0., 0., 0.,  ..., 0., 0., 0.],\n",
      "        [0., 0., 0.,  ..., 0., 0., 0.]], device='cuda:0'), 'y_target': tensor([1], device='cuda:0')}\n"
     ]
    }
   ],
   "source": [
    "dataset.head(2)"
   ]
  },
  {
   "cell_type": "code",
   "execution_count": 26,
   "metadata": {},
   "outputs": [
    {
     "data": {
      "text/plain": [
       "tensor([[0., 0., 0.,  ..., 0., 0., 0.],\n",
       "        [1., 0., 0.,  ..., 0., 0., 0.],\n",
       "        [0., 1., 0.,  ..., 0., 0., 0.],\n",
       "        ...,\n",
       "        [0., 0., 0.,  ..., 0., 0., 0.],\n",
       "        [0., 0., 0.,  ..., 0., 0., 0.],\n",
       "        [0., 0., 0.,  ..., 0., 0., 0.]], device='cuda:0')"
      ]
     },
     "execution_count": 26,
     "metadata": {},
     "output_type": "execute_result"
    }
   ],
   "source": [
    "dataset[0]['x_data']"
   ]
  },
  {
   "cell_type": "code",
   "execution_count": 35,
   "metadata": {},
   "outputs": [],
   "source": [
    "import pdb\n",
    "class SurnamesCNN(nn.Module):\n",
    "    def __init__(self, input_vocab_size, num_channels, output_vocab_size):\n",
    "        super(SurnamesCNN, self).__init__()\n",
    "        self.cnn1 = nn.Conv1d(in_channels=input_vocab_size, out_channels=num_channels, kernel_size=3)\n",
    "        self.cnn2 = nn.Conv1d(in_channels=num_channels, out_channels=num_channels, kernel_size=3, stride=2)\n",
    "        self.cnn3 = nn.Conv1d(in_channels=num_channels, out_channels=num_channels, kernel_size=3, stride=2)\n",
    "        self.cnn4 = nn.Conv1d(in_channels=num_channels, out_channels=num_channels, kernel_size=3)\n",
    "        self.elu = nn.ELU()\n",
    "        self.fc = nn.Linear(num_channels, output_vocab_size)\n",
    "        \n",
    "    def forward(self, input_vec, apply_softmax=True):\n",
    "        hidden1 = F.elu(self.cnn1(input_vec))\n",
    "        hidden2 = F.elu(self.cnn2(hidden1))\n",
    "        hidden3 = F.elu(self.cnn3(hidden2))\n",
    "        hidden4 = F.elu(self.cnn4(hidden3))\n",
    "        output = self.fc(hidden4.squeeze(dim=2))\n",
    "        if apply_softmax == True:\n",
    "            output = torch.softmax(output, dim=1)\n",
    "        return output"
   ]
  },
  {
   "cell_type": "code",
   "execution_count": 36,
   "metadata": {},
   "outputs": [],
   "source": [
    "model = SurnamesCNN(dataset.input_size(), 256, dataset.output_size()).to(device)"
   ]
  },
  {
   "cell_type": "code",
   "execution_count": 37,
   "metadata": {},
   "outputs": [
    {
     "name": "stdout",
     "output_type": "stream",
     "text": [
      "SurnamesCNN(\n",
      "  (cnn1): Conv1d(87, 256, kernel_size=(3,), stride=(1,))\n",
      "  (cnn2): Conv1d(256, 256, kernel_size=(3,), stride=(2,))\n",
      "  (cnn3): Conv1d(256, 256, kernel_size=(3,), stride=(2,))\n",
      "  (cnn4): Conv1d(256, 256, kernel_size=(3,), stride=(1,))\n",
      "  (elu): ELU(alpha=1.0)\n",
      "  (fc): Linear(in_features=256, out_features=18, bias=True)\n",
      ")\n"
     ]
    }
   ],
   "source": [
    "print(model)"
   ]
  },
  {
   "cell_type": "code",
   "execution_count": 38,
   "metadata": {},
   "outputs": [
    {
     "data": {
      "text/plain": [
       "(tensor([[0., 0., 0.,  ..., 0., 0., 0.],\n",
       "         [1., 0., 0.,  ..., 0., 0., 0.],\n",
       "         [0., 1., 0.,  ..., 0., 0., 0.],\n",
       "         ...,\n",
       "         [0., 0., 0.,  ..., 0., 0., 0.],\n",
       "         [0., 0., 0.,  ..., 0., 0., 0.],\n",
       "         [0., 0., 0.,  ..., 0., 0., 0.]], device='cuda:0'),\n",
       " tensor([0], device='cuda:0'))"
      ]
     },
     "execution_count": 38,
     "metadata": {},
     "output_type": "execute_result"
    }
   ],
   "source": [
    "x_data_from_dataset = next(iter(dataset))['x_data'].to(device)\n",
    "y_target_from_dataset = next(iter(dataset))['y_target'].to(device)\n",
    "x_data_from_dataset, y_target_from_dataset"
   ]
  },
  {
   "cell_type": "code",
   "execution_count": 39,
   "metadata": {},
   "outputs": [],
   "source": [
    "from torch.utils.data import DataLoader\n",
    "dataloader = DataLoader(dataset=dataset, batch_size=4, \n",
    "                        drop_last=False, shuffle=True)"
   ]
  },
  {
   "cell_type": "code",
   "execution_count": 40,
   "metadata": {},
   "outputs": [
    {
     "data": {
      "text/plain": [
       "(tensor([[[0., 0., 0.,  ..., 0., 0., 0.],\n",
       "          [0., 0., 0.,  ..., 0., 0., 0.],\n",
       "          [0., 0., 0.,  ..., 0., 0., 0.],\n",
       "          ...,\n",
       "          [0., 0., 0.,  ..., 0., 0., 0.],\n",
       "          [0., 0., 0.,  ..., 0., 0., 0.],\n",
       "          [0., 0., 0.,  ..., 0., 0., 0.]],\n",
       " \n",
       "         [[0., 0., 0.,  ..., 0., 0., 0.],\n",
       "          [0., 0., 0.,  ..., 0., 0., 0.],\n",
       "          [0., 0., 0.,  ..., 0., 0., 0.],\n",
       "          ...,\n",
       "          [0., 0., 0.,  ..., 0., 0., 0.],\n",
       "          [0., 0., 0.,  ..., 0., 0., 0.],\n",
       "          [0., 0., 0.,  ..., 0., 0., 0.]],\n",
       " \n",
       "         [[0., 0., 0.,  ..., 0., 0., 0.],\n",
       "          [0., 0., 0.,  ..., 0., 0., 0.],\n",
       "          [0., 1., 0.,  ..., 0., 0., 0.],\n",
       "          ...,\n",
       "          [0., 0., 0.,  ..., 0., 0., 0.],\n",
       "          [0., 0., 0.,  ..., 0., 0., 0.],\n",
       "          [0., 0., 0.,  ..., 0., 0., 0.]],\n",
       " \n",
       "         [[0., 0., 0.,  ..., 0., 0., 0.],\n",
       "          [0., 0., 0.,  ..., 0., 0., 0.],\n",
       "          [0., 1., 0.,  ..., 0., 0., 0.],\n",
       "          ...,\n",
       "          [0., 0., 0.,  ..., 0., 0., 0.],\n",
       "          [0., 0., 0.,  ..., 0., 0., 0.],\n",
       "          [0., 0., 0.,  ..., 0., 0., 0.]]], device='cuda:0'), tensor([[ 0],\n",
       "         [16],\n",
       "         [ 1],\n",
       "         [ 1]], device='cuda:0'))"
      ]
     },
     "execution_count": 40,
     "metadata": {},
     "output_type": "execute_result"
    }
   ],
   "source": [
    "sample = next(iter(dataloader))\n",
    "x_data = sample['x_data']\n",
    "y_target = sample['y_target']\n",
    "x_data, y_target"
   ]
  },
  {
   "cell_type": "code",
   "execution_count": 41,
   "metadata": {},
   "outputs": [
    {
     "name": "stdout",
     "output_type": "stream",
     "text": [
      "tensor([[-0.0514, -0.0418,  0.0604,  0.0045,  0.0142,  0.0037,  0.0039, -0.0145,\n",
      "          0.0072,  0.0334, -0.0516,  0.0500, -0.0105,  0.0260, -0.0329,  0.0345,\n",
      "         -0.0137, -0.0451],\n",
      "        [-0.0500, -0.0420,  0.0488,  0.0048,  0.0189,  0.0054,  0.0040, -0.0107,\n",
      "          0.0072,  0.0386, -0.0471,  0.0436, -0.0090,  0.0237, -0.0323,  0.0448,\n",
      "         -0.0096, -0.0463],\n",
      "        [-0.0561, -0.0400,  0.0544, -0.0027,  0.0178,  0.0077,  0.0072, -0.0209,\n",
      "         -0.0016,  0.0432, -0.0570,  0.0476, -0.0085,  0.0259, -0.0244,  0.0495,\n",
      "         -0.0118, -0.0453],\n",
      "        [-0.0451, -0.0439,  0.0516,  0.0056,  0.0162,  0.0081,  0.0034, -0.0093,\n",
      "          0.0115,  0.0489, -0.0498,  0.0440,  0.0020,  0.0190, -0.0269,  0.0364,\n",
      "         -0.0163, -0.0474]], device='cuda:0', grad_fn=<ThAddmmBackward>)\n",
      "tensor([ 0, 16,  1,  1], device='cuda:0')\n"
     ]
    }
   ],
   "source": [
    "y_pred = model(x_data, apply_softmax=False)\n",
    "print(y_pred)\n",
    "print(y_target.view(-1))"
   ]
  },
  {
   "cell_type": "code",
   "execution_count": 42,
   "metadata": {},
   "outputs": [],
   "source": [
    "ce_loss = nn.CrossEntropyLoss()"
   ]
  },
  {
   "cell_type": "code",
   "execution_count": 43,
   "metadata": {},
   "outputs": [
    {
     "data": {
      "text/plain": [
       "tensor(2.9266, device='cuda:0', grad_fn=<NllLossBackward>)"
      ]
     },
     "execution_count": 43,
     "metadata": {},
     "output_type": "execute_result"
    }
   ],
   "source": [
    "ce_loss(y_pred, y_target.view(-1))"
   ]
  },
  {
   "cell_type": "code",
   "execution_count": 44,
   "metadata": {},
   "outputs": [
    {
     "data": {
      "text/plain": [
       "tensor(2.9266)"
      ]
     },
     "execution_count": 44,
     "metadata": {},
     "output_type": "execute_result"
    }
   ],
   "source": [
    "# Manual check:\n",
    "sf_mx = torch.softmax(y_pred, dim=1)\n",
    "torch.mean(-torch.log(torch.tensor([sf_mx[i, val.item()] for i, val in enumerate(y_target)])))"
   ]
  },
  {
   "cell_type": "code",
   "execution_count": 45,
   "metadata": {},
   "outputs": [],
   "source": [
    "from torch.optim import Adam\n",
    "from tqdm import tqdm as tqdm\n",
    "import pdb"
   ]
  },
  {
   "cell_type": "code",
   "execution_count": 46,
   "metadata": {},
   "outputs": [],
   "source": [
    "model = SurnamesCNN(dataset.input_size(), 256, dataset.output_size()).to(device)\n",
    "optim = Adam(params=model.parameters(), lr=0.001)"
   ]
  },
  {
   "cell_type": "code",
   "execution_count": 47,
   "metadata": {},
   "outputs": [],
   "source": [
    "def run_batch(model, dataset, batch_type, batch_size, debug=False):\n",
    "    \n",
    "    if debug: pdb.set_trace()\n",
    "\n",
    "    dataset.set_split(batch_type)\n",
    "    dataloader = DataLoader(dataset=dataset, batch_size=batch_size, \n",
    "                            drop_last=False, shuffle=True)\n",
    "\n",
    "    running_loss = 0\n",
    "    running_acc = 0\n",
    "\n",
    "    if batch_type == 'train':\n",
    "        model.train()\n",
    "    else:\n",
    "        model.eval()\n",
    "\n",
    "    #for sample in tqdm(dataloader, desc='{:<{w}}'.format(batch_type, w=6)):\n",
    "    for sample in dataloader:\n",
    "\n",
    "        if model.training:\n",
    "            model.zero_grad()\n",
    "\n",
    "        x_data = sample['x_data']\n",
    "        y_target = sample['y_target']\n",
    "\n",
    "        y_pred = model(x_data, apply_softmax=False)\n",
    "        loss = ce_loss(y_pred, y_target.view(-1))\n",
    "\n",
    "        _, idx = torch.topk(torch.softmax(y_pred, dim=1), 1)\n",
    "        acc = torch.sum(y_target == idx).float()\n",
    "\n",
    "        if model.training:\n",
    "            loss.backward()\n",
    "            optim.step()\n",
    "\n",
    "        running_loss += loss.to('cpu') * x_data.shape[0]\n",
    "        running_acc += acc\n",
    "\n",
    "    running_loss /= len(dataset)\n",
    "    running_acc /= len(dataset)\n",
    "    \n",
    "    return round(running_loss.item(),4), round(running_acc.item(),4)"
   ]
  },
  {
   "cell_type": "code",
   "execution_count": 48,
   "metadata": {},
   "outputs": [],
   "source": [
    "hist = []"
   ]
  },
  {
   "cell_type": "code",
   "execution_count": 49,
   "metadata": {
    "scrolled": true
   },
   "outputs": [
    {
     "name": "stdout",
     "output_type": "stream",
     "text": [
      "1 / 120 : (2.0601, 0.3847) (1.6378, 0.5317)\n",
      "2 / 120 : (1.473, 0.5774) (1.323, 0.6132)\n",
      "3 / 120 : (1.2495, 0.6347) (1.1904, 0.6546)\n",
      "4 / 120 : (1.1385, 0.6658) (1.0948, 0.6873)\n",
      "5 / 120 : (1.0656, 0.6868) (1.0334, 0.7015)\n",
      "6 / 120 : (0.9857, 0.7009) (1.0105, 0.6893)\n",
      "7 / 120 : (0.9373, 0.7147) (0.9683, 0.7141)\n",
      "8 / 120 : (0.8727, 0.7381) (0.9193, 0.7195)\n",
      "9 / 120 : (0.8254, 0.7484) (0.9036, 0.7317)\n",
      "10 / 120 : (0.7917, 0.7562) (0.914, 0.7151)\n",
      "11 / 120 : (0.7367, 0.7729) (0.8672, 0.7312)\n",
      "12 / 120 : (0.7042, 0.7803) (0.8903, 0.7141)\n",
      "13 / 120 : (0.6568, 0.7953) (0.8539, 0.7434)\n",
      "14 / 120 : (0.6178, 0.804) (0.8509, 0.7483)\n",
      "15 / 120 : (0.5812, 0.814) (0.8497, 0.7483)\n",
      "16 / 120 : (0.5374, 0.8267) (0.8626, 0.7405)\n",
      "17 / 120 : (0.5066, 0.8354) (0.8861, 0.7371)\n",
      "18 / 120 : (0.4735, 0.8462) (0.8962, 0.74)\n",
      "19 / 120 : (0.4381, 0.8553) (0.9071, 0.7512)\n",
      "20 / 120 : (0.4072, 0.8585) (0.9407, 0.7385)\n",
      "21 / 120 : (0.3727, 0.8761) (0.9671, 0.7439)\n",
      "22 / 120 : (0.3424, 0.8818) (1.0518, 0.7288)\n",
      "23 / 120 : (0.3155, 0.89) (1.0542, 0.7415)\n",
      "24 / 120 : (0.2972, 0.8944) (1.0815, 0.7341)\n",
      "25 / 120 : (0.27, 0.9047) (1.1605, 0.738)\n",
      "26 / 120 : (0.2558, 0.9122) (1.1727, 0.7351)\n",
      "27 / 120 : (0.2267, 0.921) (1.1662, 0.7356)\n",
      "28 / 120 : (0.2186, 0.9253) (1.262, 0.7337)\n",
      "29 / 120 : (0.1992, 0.929) (1.2749, 0.7298)\n",
      "30 / 120 : (0.1915, 0.9339) (1.3183, 0.7263)\n",
      "31 / 120 : (0.1788, 0.9365) (1.3535, 0.7356)\n",
      "32 / 120 : (0.177, 0.9415) (1.3626, 0.7268)\n",
      "33 / 120 : (0.1627, 0.945) (1.4204, 0.7239)\n",
      "34 / 120 : (0.1622, 0.9462) (1.4372, 0.7302)\n",
      "35 / 120 : (0.1617, 0.9473) (1.4341, 0.7268)\n",
      "36 / 120 : (0.1582, 0.9461) (1.4679, 0.7337)\n",
      "37 / 120 : (0.1519, 0.948) (1.4606, 0.7327)\n",
      "38 / 120 : (0.1393, 0.9519) (1.511, 0.7195)\n",
      "39 / 120 : (0.1382, 0.9549) (1.5121, 0.7249)\n",
      "40 / 120 : (0.1334, 0.9559) (1.5546, 0.7371)\n",
      "41 / 120 : (0.1259, 0.9564) (1.5199, 0.7361)\n",
      "42 / 120 : (0.1244, 0.9564) (1.5733, 0.7317)\n",
      "43 / 120 : (0.1231, 0.9582) (1.5652, 0.7268)\n",
      "44 / 120 : (0.1242, 0.9575) (1.5846, 0.7337)\n",
      "45 / 120 : (0.1164, 0.9586) (1.5805, 0.7332)\n",
      "46 / 120 : (0.1205, 0.9579) (1.6042, 0.7356)\n",
      "47 / 120 : (0.1152, 0.9586) (1.5887, 0.7483)\n",
      "48 / 120 : (0.1175, 0.9593) (1.5998, 0.7361)\n",
      "49 / 120 : (0.112, 0.9611) (1.6034, 0.738)\n",
      "50 / 120 : (0.1123, 0.9594) (1.592, 0.7385)\n",
      "51 / 120 : (0.1118, 0.9603) (1.5793, 0.7273)\n",
      "52 / 120 : (0.1037, 0.9599) (1.5596, 0.7468)\n",
      "53 / 120 : (0.1093, 0.9589) (1.5655, 0.7254)\n",
      "54 / 120 : (0.1077, 0.9592) (1.5995, 0.7327)\n",
      "55 / 120 : (0.1107, 0.9612) (1.5785, 0.7293)\n",
      "56 / 120 : (0.1035, 0.9614) (1.6083, 0.7273)\n",
      "57 / 120 : (0.1211, 0.9587) (1.6331, 0.7234)\n",
      "58 / 120 : (0.1179, 0.9542) (1.6514, 0.7322)\n",
      "59 / 120 : (0.1268, 0.9539) (1.7244, 0.7195)\n",
      "60 / 120 : (0.1255, 0.9536) (1.6818, 0.7376)\n",
      "61 / 120 : (0.1092, 0.959) (1.6096, 0.7415)\n",
      "62 / 120 : (0.1041, 0.9604) (1.5986, 0.7493)\n",
      "63 / 120 : (0.0958, 0.9619) (1.5915, 0.7439)\n",
      "64 / 120 : (0.0982, 0.9638) (1.6022, 0.741)\n",
      "65 / 120 : (0.1026, 0.9611) (1.6049, 0.7502)\n",
      "66 / 120 : (0.0977, 0.9614) (1.5915, 0.7337)\n",
      "67 / 120 : (0.0996, 0.9592) (1.5702, 0.7361)\n",
      "68 / 120 : (0.0922, 0.9625) (1.5805, 0.7395)\n",
      "69 / 120 : (0.0932, 0.9623) (1.5929, 0.7302)\n",
      "70 / 120 : (0.0897, 0.9629) (1.553, 0.7341)\n",
      "71 / 120 : (0.0893, 0.9626) (1.5842, 0.7415)\n",
      "72 / 120 : (0.0937, 0.9618) (1.5767, 0.7351)\n",
      "73 / 120 : (0.0912, 0.9633) (1.5311, 0.739)\n",
      "74 / 120 : (0.0901, 0.9616) (1.5809, 0.7376)\n",
      "75 / 120 : (0.0905, 0.9605) (1.5298, 0.7337)\n",
      "76 / 120 : (0.088, 0.9605) (1.5384, 0.7376)\n",
      "77 / 120 : (0.0888, 0.9613) (1.5499, 0.7371)\n",
      "78 / 120 : (0.0874, 0.9624) (1.5818, 0.7429)\n",
      "79 / 120 : (0.0906, 0.9631) (1.5598, 0.7351)\n",
      "80 / 120 : (0.0858, 0.9624) (1.6209, 0.7415)\n",
      "81 / 120 : (0.0858, 0.9631) (1.5425, 0.7366)\n",
      "82 / 120 : (0.086, 0.9619) (1.5787, 0.7322)\n",
      "83 / 120 : (0.0862, 0.9623) (1.5803, 0.7395)\n",
      "84 / 120 : (0.0849, 0.9629) (1.5591, 0.7405)\n",
      "85 / 120 : (0.0881, 0.9622) (1.586, 0.7254)\n",
      "86 / 120 : (0.0879, 0.9624) (1.5318, 0.7376)\n",
      "87 / 120 : (0.0873, 0.9622) (1.6547, 0.7371)\n",
      "88 / 120 : (0.0885, 0.9609) (1.5557, 0.738)\n",
      "89 / 120 : (0.0869, 0.9617) (1.5671, 0.7307)\n",
      "90 / 120 : (0.0857, 0.9615) (1.5698, 0.7307)\n",
      "91 / 120 : (0.0871, 0.9603) (1.6149, 0.7273)\n",
      "92 / 120 : (0.0939, 0.9579) (1.6014, 0.7332)\n",
      "93 / 120 : (0.0981, 0.9561) (1.7149, 0.7322)\n",
      "94 / 120 : (0.1008, 0.9576) (1.6797, 0.7254)\n",
      "95 / 120 : (0.1451, 0.9465) (1.7733, 0.719)\n",
      "96 / 120 : (0.142, 0.9474) (1.775, 0.7263)\n",
      "97 / 120 : (0.1317, 0.9503) (1.7229, 0.7366)\n",
      "98 / 120 : (0.1215, 0.9542) (1.7939, 0.7351)\n",
      "99 / 120 : (0.1039, 0.9564) (1.7441, 0.742)\n",
      "100 / 120 : (0.092, 0.9616) (1.6844, 0.7434)\n",
      "101 / 120 : (0.0838, 0.9627) (1.6947, 0.7376)\n",
      "102 / 120 : (0.0832, 0.9624) (1.7348, 0.7366)\n",
      "103 / 120 : (0.0852, 0.9624) (1.6845, 0.7371)\n",
      "104 / 120 : (0.08, 0.9599) (1.6724, 0.7385)\n",
      "105 / 120 : (0.0839, 0.9604) (1.6594, 0.7405)\n",
      "106 / 120 : (0.0783, 0.9621) (1.645, 0.742)\n",
      "107 / 120 : (0.0792, 0.9614) (1.6081, 0.7449)\n",
      "108 / 120 : (0.0745, 0.9613) (1.6073, 0.7429)\n",
      "109 / 120 : (0.0746, 0.9619) (1.638, 0.7356)\n",
      "110 / 120 : (0.0774, 0.9609) (1.6033, 0.7415)\n",
      "111 / 120 : (0.0758, 0.9623) (1.5989, 0.7356)\n",
      "112 / 120 : (0.0748, 0.9622) (1.5977, 0.7395)\n",
      "113 / 120 : (0.0722, 0.9626) (1.6112, 0.741)\n",
      "114 / 120 : (0.0733, 0.963) (1.6047, 0.74)\n",
      "115 / 120 : (0.0762, 0.9609) (1.5876, 0.7454)\n",
      "116 / 120 : (0.0743, 0.9623) (1.5957, 0.7459)\n",
      "117 / 120 : (0.0716, 0.9641) (1.6265, 0.7376)\n",
      "118 / 120 : (0.0718, 0.9623) (1.588, 0.7459)\n",
      "119 / 120 : (0.0721, 0.9627) (1.6262, 0.7444)\n",
      "120 / 120 : (0.0714, 0.9623) (1.6221, 0.7424)\n"
     ]
    }
   ],
   "source": [
    "num_epochs = 120\n",
    "for epoch in range(num_epochs):\n",
    "    tr_loss, tr_acc = run_batch(model, dataset, 'train', 200)\n",
    "    val_loss, val_acc = run_batch(model, dataset, 'val', 200)\n",
    "    print('{} / {} :'.format(epoch+1, num_epochs), (tr_loss, tr_acc), (val_loss, val_acc))\n",
    "    hist.append([tr_loss, tr_acc, val_loss, val_acc])"
   ]
  },
  {
   "cell_type": "code",
   "execution_count": 50,
   "metadata": {},
   "outputs": [],
   "source": [
    "import matplotlib.pyplot as plt\n",
    "import numpy as np"
   ]
  },
  {
   "cell_type": "code",
   "execution_count": 51,
   "metadata": {},
   "outputs": [],
   "source": [
    "plt_hist = np.array(hist)"
   ]
  },
  {
   "cell_type": "code",
   "execution_count": 52,
   "metadata": {},
   "outputs": [
    {
     "data": {
      "text/plain": [
       "[<matplotlib.lines.Line2D at 0x7f11965147b8>,\n",
       " <matplotlib.lines.Line2D at 0x7f11965149b0>]"
      ]
     },
     "execution_count": 52,
     "metadata": {},
     "output_type": "execute_result"
    },
    {
     "data": {
      "image/png": "[encoded data removed]",
      "text/plain": [
       "<Figure size 432x288 with 1 Axes>"
      ]
     },
     "metadata": {
      "needs_background": "light"
     },
     "output_type": "display_data"
    }
   ],
   "source": [
    "plt.plot(plt_hist[:,0], 'r', plt_hist[:,2], 'g')"
   ]
  },
  {
   "cell_type": "code",
   "execution_count": 53,
   "metadata": {},
   "outputs": [
    {
     "data": {
      "text/plain": [
       "[<matplotlib.lines.Line2D at 0x7f11964b7630>,\n",
       " <matplotlib.lines.Line2D at 0x7f11964b7780>]"
      ]
     },
     "execution_count": 53,
     "metadata": {},
     "output_type": "execute_result"
    },
    {
     "data": {
      "image/png": "[encoded data removed]",
      "text/plain": [
       "<Figure size 432x288 with 1 Axes>"
      ]
     },
     "metadata": {
      "needs_background": "light"
     },
     "output_type": "display_data"
    }
   ],
   "source": [
    "plt.plot(plt_hist[:,1], 'r', plt_hist[:,3], 'g')"
   ]
  },
  {
   "cell_type": "code",
   "execution_count": 54,
   "metadata": {},
   "outputs": [
    {
     "data": {
      "text/plain": [
       "(1.8319, 0.7254)"
      ]
     },
     "execution_count": 54,
     "metadata": {},
     "output_type": "execute_result"
    }
   ],
   "source": [
    "run_batch(model, dataset, 'test', 512)"
   ]
  },
  {
   "cell_type": "code",
   "execution_count": 62,
   "metadata": {},
   "outputs": [],
   "source": [
    "def predict_nationality(surname):\n",
    "    x_data = torch.tensor(dataset._vectorizer.vectorize(surname, \n",
    "                                                        dataset.max_surname_len)).float().unsqueeze(dim=0).to(device)\n",
    "    y_pred = model(x_data, apply_softmax=True)\n",
    "    probs, idx = y_pred.topk(5)\n",
    "    topk = list(idx.squeeze().cpu().numpy())\n",
    "    for i, k in enumerate(topk):\n",
    "        print('{} {:2.0%}'.format(\n",
    "            dataset._vectorizer.nationality_vocab.lookup_index(k),\n",
    "            probs[0,i].item()))"
   ]
  },
  {
   "cell_type": "code",
   "execution_count": 63,
   "metadata": {},
   "outputs": [
    {
     "name": "stdout",
     "output_type": "stream",
     "text": [
      "Russian 100%\n",
      "Czech 0%\n",
      "Polish 0%\n",
      "German 0%\n",
      "English 0%\n"
     ]
    }
   ],
   "source": [
    "predict_nationality('Bagmevsky')"
   ]
  },
  {
   "cell_type": "code",
   "execution_count": 64,
   "metadata": {},
   "outputs": [
    {
     "name": "stdout",
     "output_type": "stream",
     "text": [
      "Irish 100%\n",
      "English 0%\n",
      "Portuguese 0%\n",
      "Spanish 0%\n",
      "Italian 0%\n"
     ]
    }
   ],
   "source": [
    "predict_nationality('O\\'Neil')"
   ]
  },
  {
   "cell_type": "code",
   "execution_count": 65,
   "metadata": {},
   "outputs": [
    {
     "name": "stdout",
     "output_type": "stream",
     "text": [
      "Portuguese 66%\n",
      "Spanish 29%\n",
      "English 4%\n",
      "Italian 0%\n",
      "Greek 0%\n"
     ]
    }
   ],
   "source": [
    "predict_nationality('Oliveira')"
   ]
  },
  {
   "cell_type": "code",
   "execution_count": null,
   "metadata": {},
   "outputs": [],
   "source": []
  }
 ],
 "metadata": {
  "kernelspec": {
   "display_name": "Python 3",
   "language": "python",
   "name": "python3"
  },
  "language_info": {
   "codemirror_mode": {
    "name": "ipython",
    "version": 3
   },
   "file_extension": ".py",
   "mimetype": "text/x-python",
   "name": "python",
   "nbconvert_exporter": "python",
   "pygments_lexer": "ipython3",
   "version": "3.7.0"
  }
 },
 "nbformat": 4,
 "nbformat_minor": 2
}
