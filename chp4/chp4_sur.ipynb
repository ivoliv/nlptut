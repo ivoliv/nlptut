{
 "cells": [
  {
   "cell_type": "code",
   "execution_count": 1,
   "metadata": {},
   "outputs": [],
   "source": [
    "from chp4_sur import SurnamesDataset, SurnamesVectorizer\n",
    "import torch\n",
    "from torch import nn\n",
    "import torch.nn.functional as F\n",
    "import pdb"
   ]
  },
  {
   "cell_type": "code",
   "execution_count": 2,
   "metadata": {},
   "outputs": [],
   "source": [
    "filename = './data/data/names/full_dataset.csv'\n",
    "dataset = SurnamesDataset.load_dataset_and_make_vectorizer(filename)\n",
    "device = torch.device('cuda:0') if torch.cuda.is_available() else torch.device('cpu')"
   ]
  },
  {
   "cell_type": "code",
   "execution_count": 3,
   "metadata": {},
   "outputs": [
    {
     "data": {
      "text/plain": [
       "device(type='cuda', index=0)"
      ]
     },
     "execution_count": 3,
     "metadata": {},
     "output_type": "execute_result"
    }
   ],
   "source": [
    "device"
   ]
  },
  {
   "cell_type": "code",
   "execution_count": 4,
   "metadata": {},
   "outputs": [
    {
     "data": {
      "text/plain": [
       "87"
      ]
     },
     "execution_count": 4,
     "metadata": {},
     "output_type": "execute_result"
    }
   ],
   "source": [
    "dataset.input_size()"
   ]
  },
  {
   "cell_type": "code",
   "execution_count": 5,
   "metadata": {},
   "outputs": [
    {
     "data": {
      "text/plain": [
       "18"
      ]
     },
     "execution_count": 5,
     "metadata": {},
     "output_type": "execute_result"
    }
   ],
   "source": [
    "dataset.output_size()"
   ]
  },
  {
   "cell_type": "code",
   "execution_count": 6,
   "metadata": {},
   "outputs": [
    {
     "data": {
      "text/plain": [
       "Unnamed: 0        5040\n",
       "surname           Last\n",
       "nationality    English\n",
       "split            train\n",
       "Name: 0, dtype: object"
      ]
     },
     "execution_count": 6,
     "metadata": {},
     "output_type": "execute_result"
    }
   ],
   "source": [
    "dataset.get_item(0)"
   ]
  },
  {
   "cell_type": "code",
   "execution_count": 7,
   "metadata": {},
   "outputs": [
    {
     "name": "stdout",
     "output_type": "stream",
     "text": [
      "{'idx': 0, 'x_data': tensor([0., 1., 1., 1., 1., 0., 0., 0., 0., 0., 0., 0., 0., 0., 0., 0., 0., 0.,\n",
      "        0., 0., 0., 0., 0., 0., 0., 0., 0., 0., 0., 0., 0., 0., 0., 0., 0., 0.,\n",
      "        0., 0., 0., 0., 0., 0., 0., 0., 0., 0., 0., 0., 0., 0., 0., 0., 0., 0.,\n",
      "        0., 0., 0., 0., 0., 0., 0., 0., 0., 0., 0., 0., 0., 0., 0., 0., 0., 0.,\n",
      "        0., 0., 0., 0., 0., 0., 0., 0., 0., 0., 0., 0., 0., 0., 0.],\n",
      "       device='cuda:0'), 'y_target': tensor([0], device='cuda:0')}\n",
      "{'idx': 1, 'x_data': tensor([0., 0., 0., 0., 0., 1., 1., 1., 1., 0., 0., 0., 0., 0., 0., 0., 0., 0.,\n",
      "        0., 0., 0., 0., 0., 0., 0., 0., 0., 0., 0., 0., 0., 0., 0., 0., 0., 0.,\n",
      "        0., 0., 0., 0., 0., 0., 0., 0., 0., 0., 0., 0., 0., 0., 0., 0., 0., 0.,\n",
      "        0., 0., 0., 0., 0., 0., 0., 0., 0., 0., 0., 0., 0., 0., 0., 0., 0., 0.,\n",
      "        0., 0., 0., 0., 0., 0., 0., 0., 0., 0., 0., 0., 0., 0., 0.],\n",
      "       device='cuda:0'), 'y_target': tensor([1], device='cuda:0')}\n"
     ]
    }
   ],
   "source": [
    "dataset.head(2)"
   ]
  },
  {
   "cell_type": "code",
   "execution_count": 33,
   "metadata": {},
   "outputs": [],
   "source": [
    "class SurnamesMLP(nn.Module):\n",
    "    def __init__(self, input_vocab_size, hidden_size, output_vocab_size):\n",
    "        super(SurnamesMLP, self).__init__()\n",
    "        self.fc1 = nn.Linear(input_vocab_size, hidden_size)\n",
    "        self.fc2 = nn.Linear(hidden_size, output_vocab_size)\n",
    "        \n",
    "    def forward(self, input_vec, apply_softmax=True):\n",
    "        hidden = F.relu(self.fc1(input_vec))\n",
    "        output = F.dropout(self.fc2(hidden), .5)\n",
    "        if apply_softmax == True:\n",
    "            output = torch.softmax(output, dim=1)\n",
    "        return output"
   ]
  },
  {
   "cell_type": "code",
   "execution_count": 34,
   "metadata": {},
   "outputs": [],
   "source": [
    "model = SurnamesMLP(dataset.input_size(), 10, dataset.output_size()).to(device)"
   ]
  },
  {
   "cell_type": "code",
   "execution_count": 35,
   "metadata": {},
   "outputs": [
    {
     "name": "stdout",
     "output_type": "stream",
     "text": [
      "SurnamesMLP(\n",
      "  (fc1): Linear(in_features=87, out_features=10, bias=True)\n",
      "  (fc2): Linear(in_features=10, out_features=18, bias=True)\n",
      ")\n"
     ]
    }
   ],
   "source": [
    "print(model)"
   ]
  },
  {
   "cell_type": "code",
   "execution_count": 36,
   "metadata": {},
   "outputs": [
    {
     "data": {
      "text/plain": [
       "(tensor([0., 0., 1., 1., 0., 0., 0., 1., 0., 0., 0., 0., 0., 0., 1., 0., 0., 0.,\n",
       "         0., 0., 1., 0., 0., 0., 0., 0., 0., 0., 0., 0., 0., 0., 0., 0., 0., 0.,\n",
       "         0., 0., 0., 0., 0., 0., 1., 0., 0., 0., 0., 0., 0., 0., 0., 0., 0., 0.,\n",
       "         0., 0., 0., 0., 0., 0., 0., 0., 0., 0., 0., 0., 0., 0., 0., 0., 0., 0.,\n",
       "         0., 0., 0., 0., 0., 0., 0., 0., 0., 0., 0., 0., 0., 0., 0.],\n",
       "        device='cuda:0'), tensor([11], device='cuda:0'))"
      ]
     },
     "execution_count": 36,
     "metadata": {},
     "output_type": "execute_result"
    }
   ],
   "source": [
    "x_data_from_dataset = next(iter(dataset))['x_data'].to(device)\n",
    "y_target_from_dataset = next(iter(dataset))['y_target'].to(device)\n",
    "x_data_from_dataset, y_target_from_dataset"
   ]
  },
  {
   "cell_type": "code",
   "execution_count": 37,
   "metadata": {},
   "outputs": [],
   "source": [
    "from torch.utils.data import DataLoader\n",
    "dataloader = DataLoader(dataset=dataset, batch_size=4, \n",
    "                        drop_last=False, shuffle=True)"
   ]
  },
  {
   "cell_type": "code",
   "execution_count": 38,
   "metadata": {},
   "outputs": [
    {
     "data": {
      "text/plain": [
       "(tensor([[0., 0., 1., 0., 0., 0., 0., 0., 1., 0., 1., 1., 0., 0., 0., 0., 0., 0.,\n",
       "          0., 0., 0., 0., 0., 1., 0., 0., 0., 0., 0., 0., 0., 0., 0., 0., 0., 0.,\n",
       "          0., 0., 0., 0., 0., 0., 0., 0., 0., 0., 0., 0., 0., 0., 0., 0., 1., 0.,\n",
       "          0., 0., 0., 0., 0., 0., 0., 0., 0., 0., 0., 0., 0., 0., 0., 0., 0., 0.,\n",
       "          0., 0., 0., 0., 0., 0., 0., 0., 0., 0., 0., 0., 0., 0., 0.],\n",
       "         [0., 0., 1., 1., 0., 0., 0., 1., 0., 0., 0., 1., 0., 0., 0., 0., 1., 1.,\n",
       "          0., 0., 0., 1., 0., 1., 0., 1., 0., 1., 0., 1., 0., 0., 0., 0., 0., 0.,\n",
       "          0., 0., 0., 0., 0., 0., 0., 0., 0., 0., 0., 0., 0., 0., 0., 0., 0., 0.,\n",
       "          0., 0., 0., 0., 0., 0., 0., 0., 0., 0., 0., 0., 0., 0., 0., 0., 0., 0.,\n",
       "          0., 0., 0., 0., 0., 0., 0., 0., 0., 0., 0., 0., 0., 0., 0.],\n",
       "         [0., 0., 1., 0., 0., 0., 0., 0., 0., 0., 0., 0., 0., 0., 0., 0., 0., 1.,\n",
       "          0., 0., 0., 0., 0., 0., 0., 0., 0., 0., 0., 0., 0., 0., 0., 0., 1., 0.,\n",
       "          0., 0., 0., 0., 0., 0., 0., 0., 0., 0., 0., 0., 0., 0., 0., 1., 0., 0.,\n",
       "          0., 0., 0., 0., 0., 0., 0., 0., 0., 0., 0., 0., 0., 0., 0., 0., 0., 0.,\n",
       "          0., 0., 0., 0., 0., 0., 0., 0., 0., 0., 0., 0., 0., 0., 0.],\n",
       "         [0., 0., 0., 1., 1., 0., 0., 1., 1., 0., 0., 0., 1., 0., 1., 0., 0., 0.,\n",
       "          0., 0., 0., 1., 0., 0., 0., 1., 0., 1., 0., 0., 0., 0., 0., 0., 0., 0.,\n",
       "          0., 1., 0., 0., 0., 0., 0., 0., 0., 0., 0., 0., 0., 0., 0., 0., 0., 0.,\n",
       "          0., 0., 0., 0., 0., 0., 0., 0., 0., 0., 0., 0., 0., 0., 0., 0., 0., 0.,\n",
       "          0., 0., 0., 0., 0., 0., 0., 0., 0., 0., 0., 0., 0., 0., 0.]],\n",
       "        device='cuda:0'), tensor([[8],\n",
       "         [1],\n",
       "         [8],\n",
       "         [1]], device='cuda:0'))"
      ]
     },
     "execution_count": 38,
     "metadata": {},
     "output_type": "execute_result"
    }
   ],
   "source": [
    "sample = next(iter(dataloader))\n",
    "x_data = sample['x_data']\n",
    "y_target = sample['y_target']\n",
    "x_data, y_target"
   ]
  },
  {
   "cell_type": "code",
   "execution_count": 39,
   "metadata": {},
   "outputs": [
    {
     "name": "stdout",
     "output_type": "stream",
     "text": [
      "tensor([[-0.0648,  0.1412,  0.2989,  0.0212,  0.0881, -0.1492, -0.1143,  0.2394,\n",
      "          0.1283,  0.2644,  0.3406, -0.2151, -0.1421, -0.1582, -0.2191,  0.0995,\n",
      "         -0.2002,  0.1542],\n",
      "        [ 0.0092,  0.1243,  0.2937, -0.0371,  0.0606, -0.1154, -0.1205,  0.2654,\n",
      "          0.1809,  0.2089,  0.2895, -0.2836, -0.2014, -0.1898, -0.2572,  0.1311,\n",
      "         -0.2275,  0.1046],\n",
      "        [-0.0575,  0.1795,  0.3181, -0.0843,  0.0304, -0.1182, -0.1482,  0.2736,\n",
      "          0.2335,  0.2542,  0.2939, -0.3368, -0.1505, -0.1989, -0.2271,  0.1226,\n",
      "         -0.1813,  0.1149],\n",
      "        [-0.0658,  0.1971,  0.2967, -0.0368,  0.0371, -0.1569, -0.1764,  0.2122,\n",
      "          0.1610,  0.2752,  0.2742, -0.2954, -0.1391, -0.2159, -0.2168,  0.0799,\n",
      "         -0.1667,  0.0926]], device='cuda:0', grad_fn=<DropoutBackward>)\n",
      "tensor([8, 1, 8, 1], device='cuda:0')\n"
     ]
    }
   ],
   "source": [
    "y_pred = model(x_data, apply_softmax=False)\n",
    "print(y_pred)\n",
    "print(y_target.view(-1))"
   ]
  },
  {
   "cell_type": "code",
   "execution_count": 40,
   "metadata": {},
   "outputs": [],
   "source": [
    "ce_loss = nn.CrossEntropyLoss()"
   ]
  },
  {
   "cell_type": "code",
   "execution_count": 41,
   "metadata": {},
   "outputs": [
    {
     "data": {
      "text/plain": [
       "tensor(2.7551, device='cuda:0', grad_fn=<NllLossBackward>)"
      ]
     },
     "execution_count": 41,
     "metadata": {},
     "output_type": "execute_result"
    }
   ],
   "source": [
    "ce_loss(y_pred, y_target.view(-1))"
   ]
  },
  {
   "cell_type": "code",
   "execution_count": 42,
   "metadata": {},
   "outputs": [
    {
     "data": {
      "text/plain": [
       "tensor(2.7551)"
      ]
     },
     "execution_count": 42,
     "metadata": {},
     "output_type": "execute_result"
    }
   ],
   "source": [
    "# Manual check:\n",
    "sf_mx = torch.softmax(y_pred, dim=1)\n",
    "torch.mean(-torch.log(torch.tensor([sf_mx[i, val.item()] for i, val in enumerate(y_target)])))"
   ]
  },
  {
   "cell_type": "code",
   "execution_count": 43,
   "metadata": {},
   "outputs": [],
   "source": [
    "from torch.optim import Adam\n",
    "from tqdm import tqdm as tqdm\n",
    "import pdb"
   ]
  },
  {
   "cell_type": "code",
   "execution_count": 44,
   "metadata": {},
   "outputs": [],
   "source": [
    "model = SurnamesMLP(dataset.input_size(), 300, dataset.output_size()).to(device)\n",
    "optim = Adam(params=model.parameters(), lr=0.001)"
   ]
  },
  {
   "cell_type": "code",
   "execution_count": 45,
   "metadata": {},
   "outputs": [],
   "source": [
    "def run_batch(model, dataset, batch_type, batch_size, debug=False):\n",
    "    \n",
    "    if debug: pdb.set_trace()\n",
    "\n",
    "    dataset.set_split(batch_type)\n",
    "    dataloader = DataLoader(dataset=dataset, batch_size=batch_size, \n",
    "                            drop_last=False, shuffle=True)\n",
    "\n",
    "    running_loss = 0\n",
    "    running_acc = 0\n",
    "\n",
    "    if batch_type == 'train':\n",
    "        model.train()\n",
    "    else:\n",
    "        model.eval()\n",
    "\n",
    "    #for sample in tqdm(dataloader, desc='{:<{w}}'.format(batch_type, w=6)):\n",
    "    for sample in dataloader:\n",
    "\n",
    "        if model.training:\n",
    "            model.zero_grad()\n",
    "\n",
    "        x_data = sample['x_data']\n",
    "        y_target = sample['y_target']\n",
    "\n",
    "        y_pred = model(x_data, apply_softmax=False)\n",
    "        loss = ce_loss(y_pred, y_target.view(-1))\n",
    "\n",
    "        _, idx = torch.topk(torch.softmax(y_pred, dim=1), 1)\n",
    "        acc = torch.sum(y_target == idx).float()\n",
    "\n",
    "        if model.training:\n",
    "            loss.backward()\n",
    "            optim.step()\n",
    "\n",
    "        running_loss += loss.to('cpu') * x_data.shape[0]\n",
    "        running_acc += acc\n",
    "\n",
    "    running_loss /= len(dataset)\n",
    "    running_acc /= len(dataset)\n",
    "    \n",
    "    return round(running_loss.item(),4), round(running_acc.item(),4)"
   ]
  },
  {
   "cell_type": "code",
   "execution_count": 21,
   "metadata": {},
   "outputs": [],
   "source": [
    "hist = []"
   ]
  },
  {
   "cell_type": "code",
   "execution_count": 46,
   "metadata": {
    "scrolled": true
   },
   "outputs": [
    {
     "name": "stdout",
     "output_type": "stream",
     "text": [
      "1 / 120 : (2.3246, 0.3408) (2.0042, 0.4439)\n",
      "2 / 120 : (1.8391, 0.4828) (1.7036, 0.5024)\n",
      "3 / 120 : (1.6122, 0.5234) (1.5512, 0.5351)\n",
      "4 / 120 : (1.4892, 0.5494) (1.4601, 0.5522)\n",
      "5 / 120 : (1.4055, 0.5674) (1.3968, 0.5634)\n",
      "6 / 120 : (1.3462, 0.58) (1.3507, 0.579)\n",
      "7 / 120 : (1.2995, 0.597) (1.3174, 0.5888)\n",
      "8 / 120 : (1.2616, 0.6034) (1.286, 0.5937)\n",
      "9 / 120 : (1.2289, 0.6123) (1.2581, 0.6127)\n",
      "10 / 120 : (1.2014, 0.622) (1.2377, 0.6146)\n",
      "11 / 120 : (1.1738, 0.632) (1.2222, 0.6254)\n",
      "12 / 120 : (1.1499, 0.6427) (1.2065, 0.6288)\n",
      "13 / 120 : (1.131, 0.6474) (1.1882, 0.6395)\n",
      "14 / 120 : (1.1098, 0.655) (1.179, 0.6463)\n",
      "15 / 120 : (1.0924, 0.6619) (1.1633, 0.6454)\n",
      "16 / 120 : (1.0747, 0.668) (1.1536, 0.6537)\n",
      "17 / 120 : (1.0588, 0.6738) (1.1428, 0.6561)\n",
      "18 / 120 : (1.0452, 0.6811) (1.1341, 0.6541)\n",
      "19 / 120 : (1.0309, 0.6803) (1.1267, 0.6605)\n",
      "20 / 120 : (1.0182, 0.6867) (1.1195, 0.658)\n",
      "21 / 120 : (1.0035, 0.6896) (1.1102, 0.6615)\n",
      "22 / 120 : (0.9919, 0.6931) (1.1048, 0.6659)\n",
      "23 / 120 : (0.9804, 0.6962) (1.0997, 0.6668)\n",
      "24 / 120 : (0.9692, 0.698) (1.0939, 0.6688)\n",
      "25 / 120 : (0.9591, 0.7015) (1.0893, 0.6712)\n",
      "26 / 120 : (0.9484, 0.7067) (1.0815, 0.6712)\n",
      "27 / 120 : (0.939, 0.7098) (1.0777, 0.6654)\n",
      "28 / 120 : (0.9304, 0.7079) (1.0729, 0.6741)\n",
      "29 / 120 : (0.9215, 0.7096) (1.0707, 0.6737)\n",
      "30 / 120 : (0.9119, 0.7148) (1.0654, 0.6732)\n",
      "31 / 120 : (0.9042, 0.719) (1.0639, 0.6785)\n",
      "32 / 120 : (0.8951, 0.7171) (1.0601, 0.682)\n",
      "33 / 120 : (0.8864, 0.7227) (1.0577, 0.6727)\n",
      "34 / 120 : (0.8789, 0.7232) (1.0532, 0.6805)\n",
      "35 / 120 : (0.8703, 0.7272) (1.0501, 0.6766)\n",
      "36 / 120 : (0.8625, 0.7305) (1.0462, 0.6766)\n",
      "37 / 120 : (0.8553, 0.731) (1.0474, 0.6756)\n",
      "38 / 120 : (0.8487, 0.7343) (1.0431, 0.6761)\n",
      "39 / 120 : (0.8418, 0.7326) (1.0431, 0.6751)\n",
      "40 / 120 : (0.8321, 0.7354) (1.0404, 0.6776)\n",
      "41 / 120 : (0.8261, 0.7389) (1.037, 0.681)\n",
      "42 / 120 : (0.8195, 0.7377) (1.037, 0.6805)\n",
      "43 / 120 : (0.8117, 0.7439) (1.0365, 0.6854)\n",
      "44 / 120 : (0.8068, 0.7432) (1.0353, 0.6824)\n",
      "45 / 120 : (0.8009, 0.7456) (1.0331, 0.681)\n",
      "46 / 120 : (0.7936, 0.747) (1.0296, 0.6844)\n",
      "47 / 120 : (0.7874, 0.7483) (1.0289, 0.68)\n",
      "48 / 120 : (0.7829, 0.7519) (1.0324, 0.6771)\n",
      "49 / 120 : (0.775, 0.7539) (1.0309, 0.6844)\n",
      "50 / 120 : (0.7706, 0.7538) (1.0287, 0.6844)\n",
      "51 / 120 : (0.764, 0.7586) (1.0294, 0.6815)\n",
      "52 / 120 : (0.7605, 0.7581) (1.0283, 0.6795)\n",
      "53 / 120 : (0.7531, 0.76) (1.0246, 0.6805)\n",
      "54 / 120 : (0.7486, 0.7627) (1.0257, 0.6878)\n",
      "55 / 120 : (0.7416, 0.7669) (1.0272, 0.6878)\n",
      "56 / 120 : (0.7371, 0.7671) (1.0224, 0.6873)\n",
      "57 / 120 : (0.7312, 0.7702) (1.0283, 0.6854)\n",
      "58 / 120 : (0.7275, 0.768) (1.0248, 0.6834)\n",
      "59 / 120 : (0.722, 0.7718) (1.0243, 0.6873)\n",
      "60 / 120 : (0.7165, 0.7736) (1.0227, 0.6844)\n",
      "61 / 120 : (0.7114, 0.7743) (1.0284, 0.68)\n",
      "62 / 120 : (0.7053, 0.7772) (1.0229, 0.6912)\n",
      "63 / 120 : (0.7017, 0.7776) (1.0284, 0.6815)\n",
      "64 / 120 : (0.6969, 0.7828) (1.0236, 0.6873)\n",
      "65 / 120 : (0.6929, 0.7812) (1.0258, 0.6859)\n",
      "66 / 120 : (0.6871, 0.7849) (1.0295, 0.681)\n",
      "67 / 120 : (0.6832, 0.7841) (1.0273, 0.6844)\n",
      "68 / 120 : (0.6789, 0.7868) (1.0266, 0.6868)\n",
      "69 / 120 : (0.6731, 0.7881) (1.0266, 0.6829)\n",
      "70 / 120 : (0.6694, 0.7891) (1.0249, 0.6868)\n",
      "71 / 120 : (0.6668, 0.7878) (1.026, 0.6873)\n",
      "72 / 120 : (0.6624, 0.7919) (1.0252, 0.6898)\n",
      "73 / 120 : (0.656, 0.7928) (1.0254, 0.6907)\n",
      "74 / 120 : (0.652, 0.7956) (1.0287, 0.6898)\n",
      "75 / 120 : (0.648, 0.7942) (1.0321, 0.6912)\n",
      "76 / 120 : (0.6451, 0.7953) (1.0301, 0.6951)\n",
      "77 / 120 : (0.6401, 0.7972) (1.035, 0.6849)\n",
      "78 / 120 : (0.6373, 0.798) (1.0282, 0.6907)\n",
      "79 / 120 : (0.6313, 0.8016) (1.0322, 0.6902)\n",
      "80 / 120 : (0.6296, 0.8) (1.0313, 0.6907)\n",
      "81 / 120 : (0.6251, 0.798) (1.0335, 0.6912)\n",
      "82 / 120 : (0.6212, 0.8024) (1.0372, 0.6941)\n",
      "83 / 120 : (0.6174, 0.8028) (1.0334, 0.6941)\n",
      "84 / 120 : (0.6149, 0.8047) (1.0399, 0.682)\n",
      "85 / 120 : (0.6096, 0.8063) (1.0402, 0.6922)\n",
      "86 / 120 : (0.6064, 0.808) (1.0372, 0.6922)\n",
      "87 / 120 : (0.6039, 0.8062) (1.0382, 0.6907)\n",
      "88 / 120 : (0.5997, 0.8105) (1.0386, 0.6912)\n",
      "89 / 120 : (0.5956, 0.812) (1.0419, 0.6917)\n",
      "90 / 120 : (0.5916, 0.8106) (1.04, 0.6883)\n",
      "91 / 120 : (0.5883, 0.8127) (1.046, 0.6927)\n",
      "92 / 120 : (0.5849, 0.8137) (1.045, 0.6927)\n",
      "93 / 120 : (0.5815, 0.8156) (1.0451, 0.6927)\n",
      "94 / 120 : (0.5769, 0.8155) (1.0512, 0.6927)\n",
      "95 / 120 : (0.5752, 0.8159) (1.0527, 0.6946)\n",
      "96 / 120 : (0.5714, 0.8163) (1.0528, 0.6883)\n",
      "97 / 120 : (0.5688, 0.8197) (1.049, 0.6902)\n",
      "98 / 120 : (0.5645, 0.8211) (1.0559, 0.6868)\n",
      "99 / 120 : (0.5622, 0.8187) (1.0561, 0.6917)\n",
      "100 / 120 : (0.5596, 0.8212) (1.0573, 0.6951)\n",
      "101 / 120 : (0.5556, 0.8221) (1.0604, 0.6863)\n",
      "102 / 120 : (0.5512, 0.8259) (1.0588, 0.6907)\n",
      "103 / 120 : (0.5489, 0.8231) (1.0654, 0.6824)\n",
      "104 / 120 : (0.547, 0.8258) (1.064, 0.6859)\n",
      "105 / 120 : (0.5439, 0.8255) (1.0621, 0.6898)\n",
      "106 / 120 : (0.541, 0.8274) (1.0666, 0.6922)\n",
      "107 / 120 : (0.5379, 0.8269) (1.0724, 0.6834)\n",
      "108 / 120 : (0.5344, 0.8295) (1.0694, 0.6878)\n",
      "109 / 120 : (0.5317, 0.8292) (1.0725, 0.6834)\n",
      "110 / 120 : (0.5291, 0.831) (1.0722, 0.6834)\n",
      "111 / 120 : (0.5276, 0.8318) (1.0722, 0.6863)\n",
      "112 / 120 : (0.5229, 0.8332) (1.0757, 0.6859)\n",
      "113 / 120 : (0.5204, 0.8325) (1.0804, 0.6888)\n",
      "114 / 120 : (0.5184, 0.8339) (1.08, 0.6824)\n",
      "115 / 120 : (0.5141, 0.8355) (1.0803, 0.6893)\n",
      "116 / 120 : (0.5117, 0.8345) (1.0779, 0.6863)\n",
      "117 / 120 : (0.5091, 0.8355) (1.0792, 0.6888)\n",
      "118 / 120 : (0.5067, 0.8338) (1.088, 0.6834)\n",
      "119 / 120 : (0.506, 0.8368) (1.0871, 0.6873)\n",
      "120 / 120 : (0.5025, 0.8386) (1.0884, 0.6883)\n"
     ]
    }
   ],
   "source": [
    "num_epochs = 120\n",
    "for epoch in range(num_epochs):\n",
    "    tr_loss, tr_acc = run_batch(model, dataset, 'train', 200)\n",
    "    val_loss, val_acc = run_batch(model, dataset, 'val', 200)\n",
    "    print('{} / {} :'.format(epoch+1, num_epochs), (tr_loss, tr_acc), (val_loss, val_acc))\n",
    "    hist.append([tr_loss, tr_acc, val_loss, val_acc])"
   ]
  },
  {
   "cell_type": "code",
   "execution_count": 47,
   "metadata": {},
   "outputs": [],
   "source": [
    "import matplotlib.pyplot as plt\n",
    "import numpy as np"
   ]
  },
  {
   "cell_type": "code",
   "execution_count": 48,
   "metadata": {},
   "outputs": [],
   "source": [
    "plt_hist = np.array(hist)"
   ]
  },
  {
   "cell_type": "code",
   "execution_count": 49,
   "metadata": {},
   "outputs": [
    {
     "data": {
      "text/plain": [
       "[<matplotlib.lines.Line2D at 0x7ffa40fd2470>,\n",
       " <matplotlib.lines.Line2D at 0x7ffa40fd25c0>]"
      ]
     },
     "execution_count": 49,
     "metadata": {},
     "output_type": "execute_result"
    },
    {
     "data": {
      "image/png": "[encoded data removed]",
      "text/plain": [
       "<Figure size 432x288 with 1 Axes>"
      ]
     },
     "metadata": {
      "needs_background": "light"
     },
     "output_type": "display_data"
    }
   ],
   "source": [
    "plt.plot(plt_hist[:,0], 'r', plt_hist[:,2], 'g')"
   ]
  },
  {
   "cell_type": "code",
   "execution_count": 50,
   "metadata": {},
   "outputs": [
    {
     "data": {
      "text/plain": [
       "[<matplotlib.lines.Line2D at 0x7ffa40f3a9e8>,\n",
       " <matplotlib.lines.Line2D at 0x7ffa40f3ab38>]"
      ]
     },
     "execution_count": 50,
     "metadata": {},
     "output_type": "execute_result"
    },
    {
     "data": {
      "image/png": "[encoded data removed]",
      "text/plain": [
       "<Figure size 432x288 with 1 Axes>"
      ]
     },
     "metadata": {
      "needs_background": "light"
     },
     "output_type": "display_data"
    }
   ],
   "source": [
    "plt.plot(plt_hist[:,1], 'r', plt_hist[:,3], 'g')"
   ]
  },
  {
   "cell_type": "code",
   "execution_count": 51,
   "metadata": {},
   "outputs": [
    {
     "data": {
      "text/plain": [
       "(1.1273, 0.678)"
      ]
     },
     "execution_count": 51,
     "metadata": {},
     "output_type": "execute_result"
    }
   ],
   "source": [
    "run_batch(model, dataset, 'test', 512)"
   ]
  },
  {
   "cell_type": "code",
   "execution_count": 52,
   "metadata": {},
   "outputs": [],
   "source": [
    "def predict_nationality(surname):\n",
    "    x_data = torch.tensor(dataset._vectorizer.vectorize(surname)).float().view(1,-1).to(device)\n",
    "    y_pred = model(x_data, apply_softmax=True)\n",
    "    probs, idx = y_pred.topk(5)\n",
    "    topk = list(idx.squeeze().cpu().numpy())\n",
    "    for i, k in enumerate(topk):\n",
    "        print('{} {:2.0%}'.format(\n",
    "            dataset._vectorizer.nationality_vocab.lookup_index(k),\n",
    "            probs[0,i].item()))"
   ]
  },
  {
   "cell_type": "code",
   "execution_count": 53,
   "metadata": {},
   "outputs": [
    {
     "name": "stdout",
     "output_type": "stream",
     "text": [
      "Russian 100%\n",
      "Greek 0%\n",
      "English 0%\n",
      "Czech 0%\n",
      "German 0%\n"
     ]
    }
   ],
   "source": [
    "predict_nationality('Bagmevsky')"
   ]
  },
  {
   "cell_type": "code",
   "execution_count": 58,
   "metadata": {},
   "outputs": [
    {
     "name": "stdout",
     "output_type": "stream",
     "text": [
      "Irish 100%\n",
      "Italian 0%\n",
      "Spanish 0%\n",
      "Russian 0%\n",
      "French 0%\n"
     ]
    }
   ],
   "source": [
    "predict_nationality('O\\'Neil')"
   ]
  },
  {
   "cell_type": "code",
   "execution_count": 55,
   "metadata": {},
   "outputs": [
    {
     "name": "stdout",
     "output_type": "stream",
     "text": [
      "English 46%\n",
      "Spanish 34%\n",
      "French 16%\n",
      "Italian 1%\n",
      "German 1%\n"
     ]
    }
   ],
   "source": [
    "predict_nationality('Oliveira')"
   ]
  },
  {
   "cell_type": "code",
   "execution_count": null,
   "metadata": {},
   "outputs": [],
   "source": []
  }
 ],
 "metadata": {
  "kernelspec": {
   "display_name": "Python 3",
   "language": "python",
   "name": "python3"
  },
  "language_info": {
   "codemirror_mode": {
    "name": "ipython",
    "version": 3
   },
   "file_extension": ".py",
   "mimetype": "text/x-python",
   "name": "python",
   "nbconvert_exporter": "python",
   "pygments_lexer": "ipython3",
   "version": "3.7.0"
  }
 },
 "nbformat": 4,
 "nbformat_minor": 2
}
