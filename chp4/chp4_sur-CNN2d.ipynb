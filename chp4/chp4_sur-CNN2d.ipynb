{
 "cells": [
  {
   "cell_type": "code",
   "execution_count": 1,
   "metadata": {},
   "outputs": [],
   "source": [
    "from chp4_sur_CNN import SurnamesDataset, SurnamesVectorizer\n",
    "import torch\n",
    "from torch import nn\n",
    "import torch.nn.functional as F\n",
    "import pdb"
   ]
  },
  {
   "cell_type": "code",
   "execution_count": 2,
   "metadata": {},
   "outputs": [],
   "source": [
    "filename = '../data/data/names/full_dataset.csv'\n",
    "dataset = SurnamesDataset.load_dataset_and_make_vectorizer(filename)\n",
    "device = torch.device('cuda:0') if torch.cuda.is_available() else torch.device('cpu')"
   ]
  },
  {
   "cell_type": "code",
   "execution_count": 3,
   "metadata": {},
   "outputs": [
    {
     "data": {
      "text/plain": [
       "device(type='cuda', index=0)"
      ]
     },
     "execution_count": 3,
     "metadata": {},
     "output_type": "execute_result"
    }
   ],
   "source": [
    "device"
   ]
  },
  {
   "cell_type": "code",
   "execution_count": 4,
   "metadata": {},
   "outputs": [
    {
     "data": {
      "text/plain": [
       "87"
      ]
     },
     "execution_count": 4,
     "metadata": {},
     "output_type": "execute_result"
    }
   ],
   "source": [
    "dataset.input_size()"
   ]
  },
  {
   "cell_type": "code",
   "execution_count": 5,
   "metadata": {},
   "outputs": [
    {
     "data": {
      "text/plain": [
       "18"
      ]
     },
     "execution_count": 5,
     "metadata": {},
     "output_type": "execute_result"
    }
   ],
   "source": [
    "dataset.output_size()"
   ]
  },
  {
   "cell_type": "code",
   "execution_count": 6,
   "metadata": {},
   "outputs": [
    {
     "data": {
      "text/plain": [
       "20"
      ]
     },
     "execution_count": 6,
     "metadata": {},
     "output_type": "execute_result"
    }
   ],
   "source": [
    "dataset.max_surname_len"
   ]
  },
  {
   "cell_type": "code",
   "execution_count": 7,
   "metadata": {},
   "outputs": [
    {
     "data": {
      "text/plain": [
       "Unnamed: 0        5040\n",
       "surname           Last\n",
       "nationality    English\n",
       "split            train\n",
       "Name: 0, dtype: object"
      ]
     },
     "execution_count": 7,
     "metadata": {},
     "output_type": "execute_result"
    }
   ],
   "source": [
    "dataset.get_item(0)"
   ]
  },
  {
   "cell_type": "code",
   "execution_count": 8,
   "metadata": {},
   "outputs": [
    {
     "data": {
      "text/plain": [
       "array([[0., 0., 0., ..., 0., 0., 0.],\n",
       "       [1., 0., 0., ..., 0., 0., 0.],\n",
       "       [0., 1., 0., ..., 0., 0., 0.],\n",
       "       ...,\n",
       "       [0., 0., 0., ..., 0., 0., 0.],\n",
       "       [0., 0., 0., ..., 0., 0., 0.],\n",
       "       [0., 0., 0., ..., 0., 0., 0.]])"
      ]
     },
     "execution_count": 8,
     "metadata": {},
     "output_type": "execute_result"
    }
   ],
   "source": [
    "dataset._vectorizer.vectorize('Last', dataset.max_surname_len)"
   ]
  },
  {
   "cell_type": "code",
   "execution_count": 9,
   "metadata": {},
   "outputs": [
    {
     "name": "stdout",
     "output_type": "stream",
     "text": [
      "{'idx': 0, 'x_data': tensor([[0., 0., 0.,  ..., 0., 0., 0.],\n",
      "        [1., 0., 0.,  ..., 0., 0., 0.],\n",
      "        [0., 1., 0.,  ..., 0., 0., 0.],\n",
      "        ...,\n",
      "        [0., 0., 0.,  ..., 0., 0., 0.],\n",
      "        [0., 0., 0.,  ..., 0., 0., 0.],\n",
      "        [0., 0., 0.,  ..., 0., 0., 0.]], device='cuda:0'), 'y_target': tensor([0], device='cuda:0')}\n",
      "{'idx': 1, 'x_data': tensor([[0., 0., 0.,  ..., 0., 0., 0.],\n",
      "        [0., 0., 0.,  ..., 0., 0., 0.],\n",
      "        [0., 0., 0.,  ..., 0., 0., 0.],\n",
      "        ...,\n",
      "        [0., 0., 0.,  ..., 0., 0., 0.],\n",
      "        [0., 0., 0.,  ..., 0., 0., 0.],\n",
      "        [0., 0., 0.,  ..., 0., 0., 0.]], device='cuda:0'), 'y_target': tensor([1], device='cuda:0')}\n"
     ]
    }
   ],
   "source": [
    "dataset.head(2)"
   ]
  },
  {
   "cell_type": "code",
   "execution_count": 10,
   "metadata": {},
   "outputs": [
    {
     "data": {
      "text/plain": [
       "tensor([[0., 0., 0.,  ..., 0., 0., 0.],\n",
       "        [1., 0., 0.,  ..., 0., 0., 0.],\n",
       "        [0., 1., 0.,  ..., 0., 0., 0.],\n",
       "        ...,\n",
       "        [0., 0., 0.,  ..., 0., 0., 0.],\n",
       "        [0., 0., 0.,  ..., 0., 0., 0.],\n",
       "        [0., 0., 0.,  ..., 0., 0., 0.]], device='cuda:0')"
      ]
     },
     "execution_count": 10,
     "metadata": {},
     "output_type": "execute_result"
    }
   ],
   "source": [
    "dataset[0]['x_data']"
   ]
  },
  {
   "cell_type": "code",
   "execution_count": 11,
   "metadata": {},
   "outputs": [],
   "source": [
    "import pdb\n",
    "class SurnamesCNN(nn.Module):\n",
    "    def __init__(self, input_vocab_size, output_vocab_size):\n",
    "        \n",
    "        super(SurnamesCNN, self).__init__()\n",
    "        self.cnn1 = nn.Conv2d(in_channels=1, out_channels=32, kernel_size=(input_vocab_size, 5))\n",
    "        self.bn = nn.BatchNorm1d(num_features=32)\n",
    "        self.cnn2 = nn.Conv1d(in_channels=32, out_channels=64, kernel_size=3, stride=2)\n",
    "        self.resnets = nn.ModuleList([\n",
    "            nn.Conv1d(in_channels=64, out_channels=64, kernel_size=3, padding=1) for i in range(20)\n",
    "        ])\n",
    "        self.cnn3 = nn.Conv1d(in_channels=64, out_channels=128, kernel_size=3, stride=2)\n",
    "        self.cnn4 = nn.Conv1d(in_channels=128, out_channels=256, kernel_size=3)\n",
    "        self.fc = nn.Linear(256, output_vocab_size)\n",
    "        \n",
    "    def forward(self, input_vec, apply_softmax=True):\n",
    "        #pdb.set_trace()\n",
    "        hidden1 = self.bn(F.elu(self.cnn1(input_vec.unsqueeze(dim=1)).squeeze(dim=2)))\n",
    "        hidden2 = F.dropout(F.elu(self.cnn2(hidden1)))\n",
    "        hidden3_0 = hidden2\n",
    "        for i, resnet in enumerate(self.resnets):\n",
    "            hidden3_0 = resnet(hidden3_0) + hidden2\n",
    "        hidden3 = F.dropout(F.elu(self.cnn3(hidden3_0)))\n",
    "        hidden4 = F.elu(self.cnn4(hidden3))\n",
    "        \n",
    "        output = self.fc(hidden4.squeeze())\n",
    "        if apply_softmax == True:\n",
    "            output = torch.softmax(output, dim=0)\n",
    "        return output"
   ]
  },
  {
   "cell_type": "code",
   "execution_count": 12,
   "metadata": {},
   "outputs": [],
   "source": [
    "model = SurnamesCNN(dataset.input_size(), dataset.output_size()).to(device)"
   ]
  },
  {
   "cell_type": "code",
   "execution_count": 13,
   "metadata": {},
   "outputs": [
    {
     "name": "stdout",
     "output_type": "stream",
     "text": [
      "SurnamesCNN(\n",
      "  (cnn1): Conv2d(1, 32, kernel_size=(87, 5), stride=(1, 1))\n",
      "  (bn): BatchNorm1d(32, eps=1e-05, momentum=0.1, affine=True, track_running_stats=True)\n",
      "  (cnn2): Conv1d(32, 64, kernel_size=(3,), stride=(2,))\n",
      "  (resnets): ModuleList(\n",
      "    (0): Conv1d(64, 64, kernel_size=(3,), stride=(1,), padding=(1,))\n",
      "    (1): Conv1d(64, 64, kernel_size=(3,), stride=(1,), padding=(1,))\n",
      "    (2): Conv1d(64, 64, kernel_size=(3,), stride=(1,), padding=(1,))\n",
      "    (3): Conv1d(64, 64, kernel_size=(3,), stride=(1,), padding=(1,))\n",
      "    (4): Conv1d(64, 64, kernel_size=(3,), stride=(1,), padding=(1,))\n",
      "    (5): Conv1d(64, 64, kernel_size=(3,), stride=(1,), padding=(1,))\n",
      "    (6): Conv1d(64, 64, kernel_size=(3,), stride=(1,), padding=(1,))\n",
      "    (7): Conv1d(64, 64, kernel_size=(3,), stride=(1,), padding=(1,))\n",
      "    (8): Conv1d(64, 64, kernel_size=(3,), stride=(1,), padding=(1,))\n",
      "    (9): Conv1d(64, 64, kernel_size=(3,), stride=(1,), padding=(1,))\n",
      "    (10): Conv1d(64, 64, kernel_size=(3,), stride=(1,), padding=(1,))\n",
      "    (11): Conv1d(64, 64, kernel_size=(3,), stride=(1,), padding=(1,))\n",
      "    (12): Conv1d(64, 64, kernel_size=(3,), stride=(1,), padding=(1,))\n",
      "    (13): Conv1d(64, 64, kernel_size=(3,), stride=(1,), padding=(1,))\n",
      "    (14): Conv1d(64, 64, kernel_size=(3,), stride=(1,), padding=(1,))\n",
      "    (15): Conv1d(64, 64, kernel_size=(3,), stride=(1,), padding=(1,))\n",
      "    (16): Conv1d(64, 64, kernel_size=(3,), stride=(1,), padding=(1,))\n",
      "    (17): Conv1d(64, 64, kernel_size=(3,), stride=(1,), padding=(1,))\n",
      "    (18): Conv1d(64, 64, kernel_size=(3,), stride=(1,), padding=(1,))\n",
      "    (19): Conv1d(64, 64, kernel_size=(3,), stride=(1,), padding=(1,))\n",
      "  )\n",
      "  (cnn3): Conv1d(64, 128, kernel_size=(3,), stride=(2,))\n",
      "  (cnn4): Conv1d(128, 256, kernel_size=(3,), stride=(1,))\n",
      "  (fc): Linear(in_features=256, out_features=18, bias=True)\n",
      ")\n"
     ]
    }
   ],
   "source": [
    "print(model)"
   ]
  },
  {
   "cell_type": "code",
   "execution_count": 14,
   "metadata": {},
   "outputs": [
    {
     "data": {
      "text/plain": [
       "(tensor([[0., 0., 0.,  ..., 0., 0., 0.],\n",
       "         [1., 0., 0.,  ..., 0., 0., 0.],\n",
       "         [0., 1., 0.,  ..., 0., 0., 0.],\n",
       "         ...,\n",
       "         [0., 0., 0.,  ..., 0., 0., 0.],\n",
       "         [0., 0., 0.,  ..., 0., 0., 0.],\n",
       "         [0., 0., 0.,  ..., 0., 0., 0.]], device='cuda:0'),\n",
       " tensor([0], device='cuda:0'))"
      ]
     },
     "execution_count": 14,
     "metadata": {},
     "output_type": "execute_result"
    }
   ],
   "source": [
    "x_data_from_dataset = next(iter(dataset))['x_data'].to(device)\n",
    "y_target_from_dataset = next(iter(dataset))['y_target'].to(device)\n",
    "x_data_from_dataset, y_target_from_dataset"
   ]
  },
  {
   "cell_type": "code",
   "execution_count": 15,
   "metadata": {},
   "outputs": [],
   "source": [
    "from torch.utils.data import DataLoader\n",
    "dataloader = DataLoader(dataset=dataset, batch_size=4, \n",
    "                        drop_last=False, shuffle=True)"
   ]
  },
  {
   "cell_type": "code",
   "execution_count": 16,
   "metadata": {},
   "outputs": [
    {
     "data": {
      "text/plain": [
       "(tensor([[[0., 0., 0.,  ..., 0., 0., 0.],\n",
       "          [0., 0., 0.,  ..., 0., 0., 0.],\n",
       "          [0., 0., 0.,  ..., 0., 0., 0.],\n",
       "          ...,\n",
       "          [0., 0., 0.,  ..., 0., 0., 0.],\n",
       "          [0., 0., 0.,  ..., 0., 0., 0.],\n",
       "          [0., 0., 0.,  ..., 0., 0., 0.]],\n",
       " \n",
       "         [[0., 0., 0.,  ..., 0., 0., 0.],\n",
       "          [0., 0., 0.,  ..., 0., 0., 0.],\n",
       "          [0., 1., 0.,  ..., 0., 0., 0.],\n",
       "          ...,\n",
       "          [0., 0., 0.,  ..., 0., 0., 0.],\n",
       "          [0., 0., 0.,  ..., 0., 0., 0.],\n",
       "          [0., 0., 0.,  ..., 0., 0., 0.]],\n",
       " \n",
       "         [[0., 0., 0.,  ..., 0., 0., 0.],\n",
       "          [0., 0., 0.,  ..., 0., 0., 0.],\n",
       "          [0., 0., 0.,  ..., 0., 0., 0.],\n",
       "          ...,\n",
       "          [0., 0., 0.,  ..., 0., 0., 0.],\n",
       "          [0., 0., 0.,  ..., 0., 0., 0.],\n",
       "          [0., 0., 0.,  ..., 0., 0., 0.]],\n",
       " \n",
       "         [[0., 0., 0.,  ..., 0., 0., 0.],\n",
       "          [0., 0., 0.,  ..., 0., 0., 0.],\n",
       "          [0., 0., 0.,  ..., 0., 0., 0.],\n",
       "          ...,\n",
       "          [0., 0., 0.,  ..., 0., 0., 0.],\n",
       "          [0., 0., 0.,  ..., 0., 0., 0.],\n",
       "          [0., 0., 0.,  ..., 0., 0., 0.]]], device='cuda:0'), tensor([[0],\n",
       "         [1],\n",
       "         [1],\n",
       "         [0]], device='cuda:0'))"
      ]
     },
     "execution_count": 16,
     "metadata": {},
     "output_type": "execute_result"
    }
   ],
   "source": [
    "sample = next(iter(dataloader))\n",
    "x_data = sample['x_data']\n",
    "y_target = sample['y_target']\n",
    "x_data, y_target"
   ]
  },
  {
   "cell_type": "code",
   "execution_count": 17,
   "metadata": {},
   "outputs": [
    {
     "name": "stdout",
     "output_type": "stream",
     "text": [
      "tensor([[-0.0810,  0.0025,  0.0525, -0.1001,  0.1164,  0.0047,  0.0426, -0.0675,\n",
      "          0.0274, -0.0446, -0.0295,  0.0139, -0.0726,  0.0194,  0.0707, -0.0218,\n",
      "          0.0434,  0.0167],\n",
      "        [-0.0569,  0.0904,  0.0121,  0.0788,  0.0505,  0.0085,  0.0370, -0.0084,\n",
      "          0.0128,  0.1197, -0.1247,  0.0547, -0.0857,  0.0712,  0.0861, -0.0817,\n",
      "         -0.0656,  0.0381],\n",
      "        [-0.1371,  0.0819,  0.0077,  0.0380,  0.1275, -0.0490,  0.1095, -0.0078,\n",
      "         -0.0109, -0.0146, -0.0286,  0.0241, -0.0394,  0.1112,  0.1218, -0.0644,\n",
      "          0.0518,  0.0251],\n",
      "        [-0.1082, -0.0457, -0.0337,  0.0057,  0.0028, -0.0770,  0.0246, -0.0347,\n",
      "          0.0762,  0.0145,  0.0167,  0.0063, -0.0997,  0.0332,  0.0784,  0.0177,\n",
      "         -0.0179,  0.0576]], device='cuda:0', grad_fn=<ThAddmmBackward>)\n",
      "tensor([0, 1, 1, 0], device='cuda:0')\n"
     ]
    }
   ],
   "source": [
    "y_pred = model(x_data, apply_softmax=False)\n",
    "print(y_pred)\n",
    "print(y_target.view(-1))"
   ]
  },
  {
   "cell_type": "code",
   "execution_count": 18,
   "metadata": {},
   "outputs": [],
   "source": [
    "ce_loss = nn.CrossEntropyLoss()"
   ]
  },
  {
   "cell_type": "code",
   "execution_count": 19,
   "metadata": {},
   "outputs": [
    {
     "data": {
      "text/plain": [
       "tensor(2.9034, device='cuda:0', grad_fn=<NllLossBackward>)"
      ]
     },
     "execution_count": 19,
     "metadata": {},
     "output_type": "execute_result"
    }
   ],
   "source": [
    "ce_loss(y_pred, y_target.view(-1))"
   ]
  },
  {
   "cell_type": "code",
   "execution_count": 20,
   "metadata": {},
   "outputs": [
    {
     "data": {
      "text/plain": [
       "tensor(2.9034)"
      ]
     },
     "execution_count": 20,
     "metadata": {},
     "output_type": "execute_result"
    }
   ],
   "source": [
    "# Manual check:\n",
    "sf_mx = torch.softmax(y_pred, dim=1)\n",
    "torch.mean(-torch.log(torch.tensor([sf_mx[i, val.item()] for i, val in enumerate(y_target)])))"
   ]
  },
  {
   "cell_type": "code",
   "execution_count": 21,
   "metadata": {},
   "outputs": [],
   "source": [
    "from torch.optim import Adam\n",
    "from tqdm import tqdm as tqdm\n",
    "import pdb"
   ]
  },
  {
   "cell_type": "code",
   "execution_count": 22,
   "metadata": {},
   "outputs": [],
   "source": [
    "model = SurnamesCNN(dataset.input_size(), dataset.output_size()).to(device)\n",
    "optim = Adam(params=model.parameters(), lr=0.001)"
   ]
  },
  {
   "cell_type": "code",
   "execution_count": 23,
   "metadata": {},
   "outputs": [],
   "source": [
    "def run_batch(model, dataset, batch_type, batch_size, debug=False):\n",
    "    \n",
    "    if debug: pdb.set_trace()\n",
    "\n",
    "    dataset.set_split(batch_type)\n",
    "    dataloader = DataLoader(dataset=dataset, batch_size=batch_size, \n",
    "                            drop_last=False, shuffle=True)\n",
    "\n",
    "    running_loss = 0\n",
    "    running_acc = 0\n",
    "\n",
    "    if batch_type == 'train':\n",
    "        model.train()\n",
    "    else:\n",
    "        model.eval()\n",
    "\n",
    "    #for sample in tqdm(dataloader, desc='{:<{w}}'.format(batch_type, w=6)):\n",
    "    for sample in dataloader:\n",
    "\n",
    "        if model.training:\n",
    "            model.zero_grad()\n",
    "\n",
    "        x_data = sample['x_data']\n",
    "        y_target = sample['y_target']\n",
    "\n",
    "        y_pred = model(x_data, apply_softmax=False)\n",
    "        loss = ce_loss(y_pred, y_target.view(-1))\n",
    "\n",
    "        _, idx = torch.topk(torch.softmax(y_pred, dim=1), 1)\n",
    "        acc = torch.sum(y_target == idx).float()\n",
    "\n",
    "        if model.training:\n",
    "            loss.backward()\n",
    "            optim.step()\n",
    "\n",
    "        running_loss += loss.to('cpu') * x_data.shape[0]\n",
    "        running_acc += acc\n",
    "\n",
    "    running_loss /= len(dataset)\n",
    "    running_acc /= len(dataset)\n",
    "    \n",
    "    return round(running_loss.item(),4), round(running_acc.item(),4)"
   ]
  },
  {
   "cell_type": "code",
   "execution_count": 24,
   "metadata": {},
   "outputs": [],
   "source": [
    "hist = []"
   ]
  },
  {
   "cell_type": "code",
   "execution_count": 25,
   "metadata": {
    "scrolled": false
   },
   "outputs": [
    {
     "name": "stdout",
     "output_type": "stream",
     "text": [
      "1 / 50 : (2.0703, 0.4183) (2.2971, 0.4483)\n",
      "2 / 50 : (1.5284, 0.5569) (1.9083, 0.5512)\n",
      "3 / 50 : (1.3411, 0.6144) (1.4373, 0.598)\n",
      "4 / 50 : (1.2052, 0.6444) (1.1824, 0.6707)\n",
      "5 / 50 : (1.1031, 0.6735) (1.0942, 0.6737)\n",
      "6 / 50 : (1.0245, 0.695) (1.0444, 0.6898)\n",
      "7 / 50 : (0.9645, 0.7123) (1.0066, 0.7068)\n",
      "8 / 50 : (0.9025, 0.7295) (0.9959, 0.7)\n",
      "9 / 50 : (0.8557, 0.7424) (0.9372, 0.719)\n",
      "10 / 50 : (0.8161, 0.7491) (0.9375, 0.718)\n",
      "11 / 50 : (0.7875, 0.7585) (0.9286, 0.7151)\n",
      "12 / 50 : (0.7587, 0.7693) (0.9229, 0.7268)\n",
      "13 / 50 : (0.7245, 0.7766) (0.886, 0.7312)\n",
      "14 / 50 : (0.6934, 0.7819) (0.9121, 0.7293)\n",
      "15 / 50 : (0.6696, 0.7847) (0.8605, 0.7468)\n",
      "16 / 50 : (0.6525, 0.7925) (0.8636, 0.7449)\n",
      "17 / 50 : (0.6317, 0.7974) (0.8724, 0.741)\n",
      "18 / 50 : (0.6275, 0.7995) (0.8734, 0.742)\n",
      "19 / 50 : (0.5819, 0.814) (0.8589, 0.738)\n",
      "20 / 50 : (0.5593, 0.8199) (0.8856, 0.7478)\n",
      "21 / 50 : (0.5406, 0.8225) (0.882, 0.7322)\n",
      "22 / 50 : (0.5245, 0.8295) (0.8786, 0.7532)\n",
      "23 / 50 : (0.487, 0.8377) (0.8874, 0.739)\n",
      "24 / 50 : (0.4636, 0.8464) (0.9223, 0.7434)\n",
      "25 / 50 : (0.4762, 0.84) (0.9334, 0.7405)\n",
      "26 / 50 : (0.4445, 0.8508) (0.9342, 0.7488)\n",
      "27 / 50 : (0.4359, 0.8531) (0.9478, 0.7293)\n",
      "28 / 50 : (0.4276, 0.852) (0.9945, 0.7434)\n",
      "29 / 50 : (0.4004, 0.8622) (0.9927, 0.7551)\n",
      "30 / 50 : (0.3833, 0.8689) (0.9958, 0.7566)\n",
      "31 / 50 : (0.3561, 0.8783) (1.0205, 0.7429)\n",
      "32 / 50 : (0.3492, 0.8778) (1.1121, 0.7268)\n",
      "33 / 50 : (0.3756, 0.8694) (1.0702, 0.7307)\n",
      "34 / 50 : (0.331, 0.8853) (1.1191, 0.7263)\n",
      "35 / 50 : (0.3126, 0.8896) (1.1126, 0.7293)\n",
      "36 / 50 : (0.2984, 0.8944) (1.1582, 0.7268)\n",
      "37 / 50 : (0.2877, 0.8972) (1.1732, 0.7395)\n",
      "38 / 50 : (0.2833, 0.9009) (1.1726, 0.7395)\n",
      "39 / 50 : (0.2694, 0.905) (1.1952, 0.738)\n",
      "40 / 50 : (0.2379, 0.915) (1.2554, 0.7449)\n",
      "41 / 50 : (0.2388, 0.9121) (1.2771, 0.7424)\n",
      "42 / 50 : (0.2171, 0.9219) (1.3225, 0.7332)\n",
      "43 / 50 : (0.2085, 0.9242) (1.3427, 0.7434)\n",
      "44 / 50 : (0.192, 0.9323) (1.3976, 0.7366)\n",
      "45 / 50 : (0.202, 0.929) (1.4291, 0.74)\n",
      "46 / 50 : (0.1993, 0.9294) (1.3882, 0.721)\n",
      "47 / 50 : (0.1943, 0.9272) (1.461, 0.7229)\n",
      "48 / 50 : (0.2308, 0.9183) (1.4097, 0.7298)\n",
      "49 / 50 : (0.2823, 0.9047) (1.4145, 0.7215)\n",
      "50 / 50 : (0.2451, 0.9111) (1.3646, 0.7205)\n"
     ]
    }
   ],
   "source": [
    "num_epochs = 50\n",
    "for epoch in range(num_epochs):\n",
    "    tr_loss, tr_acc = run_batch(model, dataset, 'train', 528)\n",
    "    val_loss, val_acc = run_batch(model, dataset, 'val', 256)\n",
    "    print('{} / {} :'.format(epoch+1, num_epochs), (tr_loss, tr_acc), (val_loss, val_acc))\n",
    "    hist.append([tr_loss, tr_acc, val_loss, val_acc])"
   ]
  },
  {
   "cell_type": "code",
   "execution_count": 26,
   "metadata": {},
   "outputs": [],
   "source": [
    "import matplotlib.pyplot as plt\n",
    "import numpy as np"
   ]
  },
  {
   "cell_type": "code",
   "execution_count": 27,
   "metadata": {},
   "outputs": [],
   "source": [
    "plt_hist = np.array(hist)"
   ]
  },
  {
   "cell_type": "code",
   "execution_count": 28,
   "metadata": {},
   "outputs": [
    {
     "data": {
      "text/plain": [
       "[<matplotlib.lines.Line2D at 0x7f50c8a299b0>,\n",
       " <matplotlib.lines.Line2D at 0x7f50c8a29b00>]"
      ]
     },
     "execution_count": 28,
     "metadata": {},
     "output_type": "execute_result"
    },
    {
     "data": {
      "image/png": "[encoded data removed]",
      "text/plain": [
       "<Figure size 432x288 with 1 Axes>"
      ]
     },
     "metadata": {
      "needs_background": "light"
     },
     "output_type": "display_data"
    }
   ],
   "source": [
    "plt.plot(plt_hist[:,0], 'r', plt_hist[:,2], 'g')"
   ]
  },
  {
   "cell_type": "code",
   "execution_count": 29,
   "metadata": {},
   "outputs": [
    {
     "data": {
      "text/plain": [
       "[<matplotlib.lines.Line2D at 0x7f50c89b67b8>,\n",
       " <matplotlib.lines.Line2D at 0x7f50c89b6908>]"
      ]
     },
     "execution_count": 29,
     "metadata": {},
     "output_type": "execute_result"
    },
    {
     "data": {
      "image/png": "[encoded data removed]",
      "text/plain": [
       "<Figure size 432x288 with 1 Axes>"
      ]
     },
     "metadata": {
      "needs_background": "light"
     },
     "output_type": "display_data"
    }
   ],
   "source": [
    "plt.plot(plt_hist[:,1], 'r', plt_hist[:,3], 'g')"
   ]
  },
  {
   "cell_type": "code",
   "execution_count": 30,
   "metadata": {},
   "outputs": [
    {
     "data": {
      "text/plain": [
       "(1.4382, 0.7039)"
      ]
     },
     "execution_count": 30,
     "metadata": {},
     "output_type": "execute_result"
    }
   ],
   "source": [
    "run_batch(model, dataset, 'test', 512)"
   ]
  },
  {
   "cell_type": "code",
   "execution_count": 31,
   "metadata": {},
   "outputs": [],
   "source": [
    "def predict_nationality(surname):\n",
    "    x_data = torch.tensor(dataset._vectorizer.vectorize(surname, \n",
    "                                                        dataset.max_surname_len)).float().unsqueeze(dim=0).to(device)\n",
    "    y_pred = model(x_data, apply_softmax=True)\n",
    "    probs, idx = y_pred.topk(5)\n",
    "    topk = list(idx.squeeze().cpu().numpy())\n",
    "    for i, k in enumerate(topk):\n",
    "        print('{} {:2.0%}'.format(\n",
    "            dataset._vectorizer.nationality_vocab.lookup_index(k),\n",
    "            probs[i].item()))"
   ]
  },
  {
   "cell_type": "code",
   "execution_count": 32,
   "metadata": {},
   "outputs": [
    {
     "data": {
      "text/plain": [
       "torch.Size([1, 87, 20])"
      ]
     },
     "execution_count": 32,
     "metadata": {},
     "output_type": "execute_result"
    }
   ],
   "source": [
    "torch.tensor(dataset._vectorizer.vectorize('Bagmevsky', dataset.max_surname_len)).float().unsqueeze(dim=0).shape"
   ]
  },
  {
   "cell_type": "code",
   "execution_count": 33,
   "metadata": {},
   "outputs": [
    {
     "name": "stdout",
     "output_type": "stream",
     "text": [
      "Russian 100%\n",
      "Czech 0%\n",
      "German 0%\n",
      "Polish 0%\n",
      "Greek 0%\n"
     ]
    }
   ],
   "source": [
    "predict_nationality('Bagmevsky')"
   ]
  },
  {
   "cell_type": "code",
   "execution_count": 34,
   "metadata": {},
   "outputs": [
    {
     "name": "stdout",
     "output_type": "stream",
     "text": [
      "Irish 100%\n",
      "English 0%\n",
      "French 0%\n",
      "Scottish 0%\n",
      "Spanish 0%\n"
     ]
    }
   ],
   "source": [
    "predict_nationality('O\\'Neil')"
   ]
  },
  {
   "cell_type": "code",
   "execution_count": 35,
   "metadata": {},
   "outputs": [
    {
     "name": "stdout",
     "output_type": "stream",
     "text": [
      "English 66%\n",
      "Spanish 23%\n",
      "Portuguese 11%\n",
      "French 0%\n",
      "Italian 0%\n"
     ]
    }
   ],
   "source": [
    "predict_nationality('Oliveira')"
   ]
  },
  {
   "cell_type": "code",
   "execution_count": null,
   "metadata": {},
   "outputs": [],
   "source": []
  }
 ],
 "metadata": {
  "kernelspec": {
   "display_name": "Python 3",
   "language": "python",
   "name": "python3"
  },
  "language_info": {
   "codemirror_mode": {
    "name": "ipython",
    "version": 3
   },
   "file_extension": ".py",
   "mimetype": "text/x-python",
   "name": "python",
   "nbconvert_exporter": "python",
   "pygments_lexer": "ipython3",
   "version": "3.7.1"
  }
 },
 "nbformat": 4,
 "nbformat_minor": 2
}
