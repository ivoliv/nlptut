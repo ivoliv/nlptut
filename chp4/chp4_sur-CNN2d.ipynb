{
 "cells": [
  {
   "cell_type": "code",
   "execution_count": 1,
   "metadata": {},
   "outputs": [],
   "source": [
    "from chp4_sur_CNN import SurnamesDataset, SurnamesVectorizer\n",
    "import torch\n",
    "from torch import nn\n",
    "import torch.nn.functional as F\n",
    "import pdb"
   ]
  },
  {
   "cell_type": "code",
   "execution_count": 2,
   "metadata": {},
   "outputs": [],
   "source": [
    "filename = './data/data/names/full_dataset.csv'\n",
    "dataset = SurnamesDataset.load_dataset_and_make_vectorizer(filename)\n",
    "device = torch.device('cuda:0') if torch.cuda.is_available() else torch.device('cpu')"
   ]
  },
  {
   "cell_type": "code",
   "execution_count": 3,
   "metadata": {},
   "outputs": [
    {
     "data": {
      "text/plain": [
       "device(type='cuda', index=0)"
      ]
     },
     "execution_count": 3,
     "metadata": {},
     "output_type": "execute_result"
    }
   ],
   "source": [
    "device"
   ]
  },
  {
   "cell_type": "code",
   "execution_count": 4,
   "metadata": {},
   "outputs": [
    {
     "data": {
      "text/plain": [
       "87"
      ]
     },
     "execution_count": 4,
     "metadata": {},
     "output_type": "execute_result"
    }
   ],
   "source": [
    "dataset.input_size()"
   ]
  },
  {
   "cell_type": "code",
   "execution_count": 5,
   "metadata": {},
   "outputs": [
    {
     "data": {
      "text/plain": [
       "18"
      ]
     },
     "execution_count": 5,
     "metadata": {},
     "output_type": "execute_result"
    }
   ],
   "source": [
    "dataset.output_size()"
   ]
  },
  {
   "cell_type": "code",
   "execution_count": 6,
   "metadata": {},
   "outputs": [
    {
     "data": {
      "text/plain": [
       "20"
      ]
     },
     "execution_count": 6,
     "metadata": {},
     "output_type": "execute_result"
    }
   ],
   "source": [
    "dataset.max_surname_len"
   ]
  },
  {
   "cell_type": "code",
   "execution_count": 7,
   "metadata": {},
   "outputs": [
    {
     "data": {
      "text/plain": [
       "Unnamed: 0        5040\n",
       "surname           Last\n",
       "nationality    English\n",
       "split            train\n",
       "Name: 0, dtype: object"
      ]
     },
     "execution_count": 7,
     "metadata": {},
     "output_type": "execute_result"
    }
   ],
   "source": [
    "dataset.get_item(0)"
   ]
  },
  {
   "cell_type": "code",
   "execution_count": 8,
   "metadata": {},
   "outputs": [
    {
     "data": {
      "text/plain": [
       "array([[0., 0., 0., ..., 0., 0., 0.],\n",
       "       [1., 0., 0., ..., 0., 0., 0.],\n",
       "       [0., 1., 0., ..., 0., 0., 0.],\n",
       "       ...,\n",
       "       [0., 0., 0., ..., 0., 0., 0.],\n",
       "       [0., 0., 0., ..., 0., 0., 0.],\n",
       "       [0., 0., 0., ..., 0., 0., 0.]])"
      ]
     },
     "execution_count": 8,
     "metadata": {},
     "output_type": "execute_result"
    }
   ],
   "source": [
    "dataset._vectorizer.vectorize('Last', dataset.max_surname_len)"
   ]
  },
  {
   "cell_type": "code",
   "execution_count": 9,
   "metadata": {},
   "outputs": [
    {
     "name": "stdout",
     "output_type": "stream",
     "text": [
      "{'idx': 0, 'x_data': tensor([[0., 0., 0.,  ..., 0., 0., 0.],\n",
      "        [1., 0., 0.,  ..., 0., 0., 0.],\n",
      "        [0., 1., 0.,  ..., 0., 0., 0.],\n",
      "        ...,\n",
      "        [0., 0., 0.,  ..., 0., 0., 0.],\n",
      "        [0., 0., 0.,  ..., 0., 0., 0.],\n",
      "        [0., 0., 0.,  ..., 0., 0., 0.]], device='cuda:0'), 'y_target': tensor([0], device='cuda:0')}\n",
      "{'idx': 1, 'x_data': tensor([[0., 0., 0.,  ..., 0., 0., 0.],\n",
      "        [0., 0., 0.,  ..., 0., 0., 0.],\n",
      "        [0., 0., 0.,  ..., 0., 0., 0.],\n",
      "        ...,\n",
      "        [0., 0., 0.,  ..., 0., 0., 0.],\n",
      "        [0., 0., 0.,  ..., 0., 0., 0.],\n",
      "        [0., 0., 0.,  ..., 0., 0., 0.]], device='cuda:0'), 'y_target': tensor([1], device='cuda:0')}\n"
     ]
    }
   ],
   "source": [
    "dataset.head(2)"
   ]
  },
  {
   "cell_type": "code",
   "execution_count": 10,
   "metadata": {},
   "outputs": [
    {
     "data": {
      "text/plain": [
       "tensor([[0., 0., 0.,  ..., 0., 0., 0.],\n",
       "        [1., 0., 0.,  ..., 0., 0., 0.],\n",
       "        [0., 1., 0.,  ..., 0., 0., 0.],\n",
       "        ...,\n",
       "        [0., 0., 0.,  ..., 0., 0., 0.],\n",
       "        [0., 0., 0.,  ..., 0., 0., 0.],\n",
       "        [0., 0., 0.,  ..., 0., 0., 0.]], device='cuda:0')"
      ]
     },
     "execution_count": 10,
     "metadata": {},
     "output_type": "execute_result"
    }
   ],
   "source": [
    "dataset[0]['x_data']"
   ]
  },
  {
   "cell_type": "code",
   "execution_count": 190,
   "metadata": {},
   "outputs": [],
   "source": [
    "import pdb\n",
    "class SurnamesCNN(nn.Module):\n",
    "    def __init__(self, input_vocab_size, output_vocab_size):\n",
    "        \n",
    "        super(SurnamesCNN, self).__init__()\n",
    "        self.cnn1 = nn.Conv2d(in_channels=1, out_channels=32, kernel_size=(input_vocab_size, 5))\n",
    "        self.bn = nn.BatchNorm1d(num_features=32)\n",
    "        self.cnn2 = nn.Conv1d(in_channels=32, out_channels=64, kernel_size=3, stride=2)\n",
    "        self.resnets = nn.ModuleList([\n",
    "            nn.Conv1d(in_channels=64, out_channels=64, kernel_size=3, padding=1) for i in range(20)\n",
    "        ])\n",
    "        self.cnn3 = nn.Conv1d(in_channels=64, out_channels=128, kernel_size=3, stride=2)\n",
    "        self.cnn4 = nn.Conv1d(in_channels=128, out_channels=256, kernel_size=3)\n",
    "        self.fc = nn.Linear(256, output_vocab_size)\n",
    "        \n",
    "    def forward(self, input_vec, apply_softmax=True):\n",
    "        #pdb.set_trace()\n",
    "        hidden1 = self.bn(F.elu(self.cnn1(input_vec.unsqueeze(dim=1)).squeeze(dim=2)))\n",
    "        hidden2 = F.dropout(F.elu(self.cnn2(hidden1)))\n",
    "        hidden3_0 = hidden2\n",
    "        for i, resnet in enumerate(self.resnets):\n",
    "            hidden3_0 = resnet(hidden3_0) + hidden2\n",
    "        hidden3 = F.dropout(F.elu(self.cnn3(hidden3_0)))\n",
    "        hidden4 = F.elu(self.cnn4(hidden3))\n",
    "        \n",
    "        output = self.fc(hidden4.squeeze())\n",
    "        if apply_softmax == True:\n",
    "            output = torch.softmax(output, dim=0)\n",
    "        return output"
   ]
  },
  {
   "cell_type": "code",
   "execution_count": 191,
   "metadata": {},
   "outputs": [],
   "source": [
    "model = SurnamesCNN(dataset.input_size(), dataset.output_size()).to(device)"
   ]
  },
  {
   "cell_type": "code",
   "execution_count": 192,
   "metadata": {},
   "outputs": [
    {
     "name": "stdout",
     "output_type": "stream",
     "text": [
      "SurnamesCNN(\n",
      "  (cnn1): Conv2d(1, 32, kernel_size=(87, 5), stride=(1, 1))\n",
      "  (bn): BatchNorm1d(32, eps=1e-05, momentum=0.1, affine=True, track_running_stats=True)\n",
      "  (cnn2): Conv1d(32, 64, kernel_size=(3,), stride=(2,))\n",
      "  (resnets): ModuleList(\n",
      "    (0): Conv1d(64, 64, kernel_size=(3,), stride=(1,), padding=(1,))\n",
      "    (1): Conv1d(64, 64, kernel_size=(3,), stride=(1,), padding=(1,))\n",
      "    (2): Conv1d(64, 64, kernel_size=(3,), stride=(1,), padding=(1,))\n",
      "    (3): Conv1d(64, 64, kernel_size=(3,), stride=(1,), padding=(1,))\n",
      "    (4): Conv1d(64, 64, kernel_size=(3,), stride=(1,), padding=(1,))\n",
      "    (5): Conv1d(64, 64, kernel_size=(3,), stride=(1,), padding=(1,))\n",
      "    (6): Conv1d(64, 64, kernel_size=(3,), stride=(1,), padding=(1,))\n",
      "    (7): Conv1d(64, 64, kernel_size=(3,), stride=(1,), padding=(1,))\n",
      "    (8): Conv1d(64, 64, kernel_size=(3,), stride=(1,), padding=(1,))\n",
      "    (9): Conv1d(64, 64, kernel_size=(3,), stride=(1,), padding=(1,))\n",
      "    (10): Conv1d(64, 64, kernel_size=(3,), stride=(1,), padding=(1,))\n",
      "    (11): Conv1d(64, 64, kernel_size=(3,), stride=(1,), padding=(1,))\n",
      "    (12): Conv1d(64, 64, kernel_size=(3,), stride=(1,), padding=(1,))\n",
      "    (13): Conv1d(64, 64, kernel_size=(3,), stride=(1,), padding=(1,))\n",
      "    (14): Conv1d(64, 64, kernel_size=(3,), stride=(1,), padding=(1,))\n",
      "    (15): Conv1d(64, 64, kernel_size=(3,), stride=(1,), padding=(1,))\n",
      "    (16): Conv1d(64, 64, kernel_size=(3,), stride=(1,), padding=(1,))\n",
      "    (17): Conv1d(64, 64, kernel_size=(3,), stride=(1,), padding=(1,))\n",
      "    (18): Conv1d(64, 64, kernel_size=(3,), stride=(1,), padding=(1,))\n",
      "    (19): Conv1d(64, 64, kernel_size=(3,), stride=(1,), padding=(1,))\n",
      "  )\n",
      "  (cnn3): Conv1d(64, 128, kernel_size=(3,), stride=(2,))\n",
      "  (cnn4): Conv1d(128, 256, kernel_size=(3,), stride=(1,))\n",
      "  (fc): Linear(in_features=256, out_features=18, bias=True)\n",
      ")\n"
     ]
    }
   ],
   "source": [
    "print(model)"
   ]
  },
  {
   "cell_type": "code",
   "execution_count": 193,
   "metadata": {},
   "outputs": [
    {
     "data": {
      "text/plain": [
       "(tensor([[0., 0., 0.,  ..., 0., 0., 0.],\n",
       "         [0., 0., 0.,  ..., 0., 0., 0.],\n",
       "         [0., 0., 0.,  ..., 0., 0., 0.],\n",
       "         ...,\n",
       "         [0., 0., 0.,  ..., 0., 0., 0.],\n",
       "         [0., 0., 0.,  ..., 0., 0., 0.],\n",
       "         [0., 0., 0.,  ..., 0., 0., 0.]], device='cuda:0'),\n",
       " tensor([11], device='cuda:0'))"
      ]
     },
     "execution_count": 193,
     "metadata": {},
     "output_type": "execute_result"
    }
   ],
   "source": [
    "x_data_from_dataset = next(iter(dataset))['x_data'].to(device)\n",
    "y_target_from_dataset = next(iter(dataset))['y_target'].to(device)\n",
    "x_data_from_dataset, y_target_from_dataset"
   ]
  },
  {
   "cell_type": "code",
   "execution_count": 194,
   "metadata": {},
   "outputs": [],
   "source": [
    "from torch.utils.data import DataLoader\n",
    "dataloader = DataLoader(dataset=dataset, batch_size=4, \n",
    "                        drop_last=False, shuffle=True)"
   ]
  },
  {
   "cell_type": "code",
   "execution_count": 195,
   "metadata": {},
   "outputs": [
    {
     "data": {
      "text/plain": [
       "(tensor([[[0., 0., 0.,  ..., 0., 0., 0.],\n",
       "          [0., 0., 0.,  ..., 0., 0., 0.],\n",
       "          [0., 0., 0.,  ..., 0., 0., 0.],\n",
       "          ...,\n",
       "          [0., 0., 0.,  ..., 0., 0., 0.],\n",
       "          [0., 0., 0.,  ..., 0., 0., 0.],\n",
       "          [0., 0., 0.,  ..., 0., 0., 0.]],\n",
       " \n",
       "         [[0., 0., 0.,  ..., 0., 0., 0.],\n",
       "          [0., 0., 0.,  ..., 0., 0., 0.],\n",
       "          [0., 0., 0.,  ..., 0., 0., 0.],\n",
       "          ...,\n",
       "          [0., 0., 0.,  ..., 0., 0., 0.],\n",
       "          [0., 0., 0.,  ..., 0., 0., 0.],\n",
       "          [0., 0., 0.,  ..., 0., 0., 0.]],\n",
       " \n",
       "         [[0., 0., 0.,  ..., 0., 0., 0.],\n",
       "          [0., 0., 0.,  ..., 0., 0., 0.],\n",
       "          [0., 0., 0.,  ..., 0., 0., 0.],\n",
       "          ...,\n",
       "          [0., 0., 0.,  ..., 0., 0., 0.],\n",
       "          [0., 0., 0.,  ..., 0., 0., 0.],\n",
       "          [0., 0., 0.,  ..., 0., 0., 0.]],\n",
       " \n",
       "         [[0., 0., 0.,  ..., 0., 0., 0.],\n",
       "          [0., 0., 0.,  ..., 0., 0., 0.],\n",
       "          [0., 0., 0.,  ..., 0., 0., 0.],\n",
       "          ...,\n",
       "          [0., 0., 0.,  ..., 0., 0., 0.],\n",
       "          [0., 0., 0.,  ..., 0., 0., 0.],\n",
       "          [0., 0., 0.,  ..., 0., 0., 0.]]], device='cuda:0'), tensor([[6],\n",
       "         [2],\n",
       "         [1],\n",
       "         [0]], device='cuda:0'))"
      ]
     },
     "execution_count": 195,
     "metadata": {},
     "output_type": "execute_result"
    }
   ],
   "source": [
    "sample = next(iter(dataloader))\n",
    "x_data = sample['x_data']\n",
    "y_target = sample['y_target']\n",
    "x_data, y_target"
   ]
  },
  {
   "cell_type": "code",
   "execution_count": 196,
   "metadata": {},
   "outputs": [
    {
     "name": "stdout",
     "output_type": "stream",
     "text": [
      "tensor([[-0.0109, -0.0414, -0.1078,  0.0140,  0.0354,  0.1210, -0.0111,  0.0168,\n",
      "          0.0451,  0.0699, -0.1107, -0.0077, -0.0948,  0.0463, -0.0237,  0.0324,\n",
      "         -0.0481, -0.0855],\n",
      "        [ 0.0092, -0.0039, -0.1106, -0.1222,  0.0418,  0.1468, -0.0091, -0.1123,\n",
      "          0.0473,  0.0855, -0.0601,  0.0025, -0.1712, -0.0650,  0.0927,  0.0651,\n",
      "         -0.1444, -0.0352],\n",
      "        [ 0.0020,  0.0250, -0.0856,  0.0888, -0.0333,  0.0631,  0.1121,  0.0456,\n",
      "          0.1549,  0.0036,  0.0013,  0.1136, -0.0180,  0.0449,  0.0315,  0.0058,\n",
      "          0.0082, -0.0910],\n",
      "        [-0.0408, -0.0503, -0.0925, -0.0295, -0.0490,  0.0947,  0.0154, -0.0509,\n",
      "          0.1026,  0.0625, -0.0209, -0.0100,  0.0001,  0.0171,  0.0202,  0.0702,\n",
      "          0.0166, -0.0687]], device='cuda:0', grad_fn=<ThAddmmBackward>)\n",
      "tensor([6, 2, 1, 0], device='cuda:0')\n"
     ]
    }
   ],
   "source": [
    "y_pred = model(x_data, apply_softmax=False)\n",
    "print(y_pred)\n",
    "print(y_target.view(-1))"
   ]
  },
  {
   "cell_type": "code",
   "execution_count": 197,
   "metadata": {},
   "outputs": [],
   "source": [
    "ce_loss = nn.CrossEntropyLoss()"
   ]
  },
  {
   "cell_type": "code",
   "execution_count": 198,
   "metadata": {},
   "outputs": [
    {
     "data": {
      "text/plain": [
       "tensor(2.9264, device='cuda:0', grad_fn=<NllLossBackward>)"
      ]
     },
     "execution_count": 198,
     "metadata": {},
     "output_type": "execute_result"
    }
   ],
   "source": [
    "ce_loss(y_pred, y_target.view(-1))"
   ]
  },
  {
   "cell_type": "code",
   "execution_count": 199,
   "metadata": {},
   "outputs": [
    {
     "data": {
      "text/plain": [
       "tensor(2.9264)"
      ]
     },
     "execution_count": 199,
     "metadata": {},
     "output_type": "execute_result"
    }
   ],
   "source": [
    "# Manual check:\n",
    "sf_mx = torch.softmax(y_pred, dim=1)\n",
    "torch.mean(-torch.log(torch.tensor([sf_mx[i, val.item()] for i, val in enumerate(y_target)])))"
   ]
  },
  {
   "cell_type": "code",
   "execution_count": 200,
   "metadata": {},
   "outputs": [],
   "source": [
    "from torch.optim import Adam\n",
    "from tqdm import tqdm as tqdm\n",
    "import pdb"
   ]
  },
  {
   "cell_type": "code",
   "execution_count": 201,
   "metadata": {},
   "outputs": [],
   "source": [
    "model = SurnamesCNN(dataset.input_size(), dataset.output_size()).to(device)\n",
    "optim = Adam(params=model.parameters(), lr=0.001)"
   ]
  },
  {
   "cell_type": "code",
   "execution_count": 202,
   "metadata": {},
   "outputs": [],
   "source": [
    "def run_batch(model, dataset, batch_type, batch_size, debug=False):\n",
    "    \n",
    "    if debug: pdb.set_trace()\n",
    "\n",
    "    dataset.set_split(batch_type)\n",
    "    dataloader = DataLoader(dataset=dataset, batch_size=batch_size, \n",
    "                            drop_last=False, shuffle=True)\n",
    "\n",
    "    running_loss = 0\n",
    "    running_acc = 0\n",
    "\n",
    "    if batch_type == 'train':\n",
    "        model.train()\n",
    "    else:\n",
    "        model.eval()\n",
    "\n",
    "    #for sample in tqdm(dataloader, desc='{:<{w}}'.format(batch_type, w=6)):\n",
    "    for sample in dataloader:\n",
    "\n",
    "        if model.training:\n",
    "            model.zero_grad()\n",
    "\n",
    "        x_data = sample['x_data']\n",
    "        y_target = sample['y_target']\n",
    "\n",
    "        y_pred = model(x_data, apply_softmax=False)\n",
    "        loss = ce_loss(y_pred, y_target.view(-1))\n",
    "\n",
    "        _, idx = torch.topk(torch.softmax(y_pred, dim=1), 1)\n",
    "        acc = torch.sum(y_target == idx).float()\n",
    "\n",
    "        if model.training:\n",
    "            loss.backward()\n",
    "            optim.step()\n",
    "\n",
    "        running_loss += loss.to('cpu') * x_data.shape[0]\n",
    "        running_acc += acc\n",
    "\n",
    "    running_loss /= len(dataset)\n",
    "    running_acc /= len(dataset)\n",
    "    \n",
    "    return round(running_loss.item(),4), round(running_acc.item(),4)"
   ]
  },
  {
   "cell_type": "code",
   "execution_count": 157,
   "metadata": {},
   "outputs": [],
   "source": [
    "hist = []"
   ]
  },
  {
   "cell_type": "code",
   "execution_count": 203,
   "metadata": {
    "scrolled": false
   },
   "outputs": [
    {
     "name": "stdout",
     "output_type": "stream",
     "text": [
      "1 / 50 : (2.0933, 0.41) (2.1688, 0.5054)\n",
      "2 / 50 : (1.5087, 0.5666) (1.7658, 0.5502)\n",
      "3 / 50 : (1.2854, 0.6241) (1.3188, 0.6346)\n",
      "4 / 50 : (1.1567, 0.6621) (1.1239, 0.6707)\n",
      "5 / 50 : (1.0636, 0.6895) (1.0497, 0.6898)\n",
      "6 / 50 : (0.988, 0.7059) (1.0156, 0.701)\n",
      "7 / 50 : (0.9168, 0.7242) (0.9736, 0.7122)\n",
      "8 / 50 : (0.871, 0.7347) (0.96, 0.7088)\n",
      "9 / 50 : (0.8336, 0.7447) (0.9074, 0.7234)\n",
      "10 / 50 : (0.789, 0.7549) (0.9049, 0.7263)\n",
      "11 / 50 : (0.7527, 0.7673) (0.901, 0.7273)\n",
      "12 / 50 : (0.7136, 0.7761) (0.8764, 0.7302)\n",
      "13 / 50 : (0.7108, 0.7768) (0.8732, 0.7312)\n",
      "14 / 50 : (0.6627, 0.7933) (0.8749, 0.7366)\n",
      "15 / 50 : (0.6409, 0.7967) (0.8766, 0.7351)\n",
      "16 / 50 : (0.6275, 0.7979) (0.8749, 0.7327)\n",
      "17 / 50 : (0.6014, 0.8063) (0.874, 0.7327)\n",
      "18 / 50 : (0.5865, 0.8079) (0.8583, 0.7415)\n",
      "19 / 50 : (0.5541, 0.8186) (0.8571, 0.7454)\n",
      "20 / 50 : (0.5317, 0.8252) (0.8541, 0.7532)\n",
      "21 / 50 : (0.5204, 0.8255) (0.9087, 0.7356)\n",
      "22 / 50 : (0.4976, 0.8368) (0.9304, 0.7341)\n",
      "23 / 50 : (0.4817, 0.8415) (0.9278, 0.7298)\n",
      "24 / 50 : (0.4642, 0.8456) (0.9029, 0.7434)\n",
      "25 / 50 : (0.4426, 0.8516) (0.9314, 0.738)\n",
      "26 / 50 : (0.4237, 0.8593) (0.9448, 0.7356)\n",
      "27 / 50 : (0.398, 0.8624) (1.0031, 0.7385)\n",
      "28 / 50 : (0.3842, 0.8671) (0.9953, 0.7341)\n",
      "29 / 50 : (0.3689, 0.8734) (0.9637, 0.739)\n",
      "30 / 50 : (0.3617, 0.8758) (1.0319, 0.74)\n",
      "31 / 50 : (0.3498, 0.8753) (1.0511, 0.7307)\n",
      "32 / 50 : (0.3157, 0.8889) (1.0454, 0.7312)\n",
      "33 / 50 : (0.2941, 0.9009) (1.0912, 0.7415)\n",
      "34 / 50 : (0.2871, 0.8989) (1.1432, 0.722)\n",
      "35 / 50 : (0.291, 0.8966) (1.1786, 0.7151)\n",
      "36 / 50 : (0.3099, 0.8904) (1.149, 0.7298)\n",
      "37 / 50 : (0.2968, 0.8957) (1.1535, 0.7293)\n",
      "38 / 50 : (0.2645, 0.9038) (1.19, 0.7195)\n",
      "39 / 50 : (0.2405, 0.916) (1.2454, 0.7239)\n",
      "40 / 50 : (0.2218, 0.9189) (1.251, 0.7117)\n",
      "41 / 50 : (0.2462, 0.9138) (1.2836, 0.7263)\n",
      "42 / 50 : (0.2304, 0.9163) (1.2935, 0.7239)\n",
      "43 / 50 : (0.2355, 0.9173) (1.3202, 0.7229)\n",
      "44 / 50 : (0.1992, 0.9298) (1.3144, 0.7327)\n",
      "45 / 50 : (0.1985, 0.9288) (1.3035, 0.7341)\n",
      "46 / 50 : (0.1815, 0.9329) (1.36, 0.7302)\n",
      "47 / 50 : (0.1659, 0.937) (1.3703, 0.7288)\n",
      "48 / 50 : (0.1718, 0.9387) (1.4429, 0.7254)\n",
      "49 / 50 : (0.1944, 0.93) (1.4371, 0.72)\n",
      "50 / 50 : (0.1624, 0.9402) (1.417, 0.7259)\n"
     ]
    }
   ],
   "source": [
    "num_epochs = 50\n",
    "for epoch in range(num_epochs):\n",
    "    tr_loss, tr_acc = run_batch(model, dataset, 'train', 528)\n",
    "    val_loss, val_acc = run_batch(model, dataset, 'val', 256)\n",
    "    print('{} / {} :'.format(epoch+1, num_epochs), (tr_loss, tr_acc), (val_loss, val_acc))\n",
    "    hist.append([tr_loss, tr_acc, val_loss, val_acc])"
   ]
  },
  {
   "cell_type": "code",
   "execution_count": 204,
   "metadata": {},
   "outputs": [],
   "source": [
    "import matplotlib.pyplot as plt\n",
    "import numpy as np"
   ]
  },
  {
   "cell_type": "code",
   "execution_count": 205,
   "metadata": {},
   "outputs": [],
   "source": [
    "plt_hist = np.array(hist)"
   ]
  },
  {
   "cell_type": "code",
   "execution_count": 206,
   "metadata": {},
   "outputs": [
    {
     "data": {
      "text/plain": [
       "[<matplotlib.lines.Line2D at 0x7f935ad2c438>,\n",
       " <matplotlib.lines.Line2D at 0x7f935ad2c588>]"
      ]
     },
     "execution_count": 206,
     "metadata": {},
     "output_type": "execute_result"
    },
    {
     "data": {
      "image/png": "[encoded data removed]",
      "text/plain": [
       "<Figure size 432x288 with 1 Axes>"
      ]
     },
     "metadata": {
      "needs_background": "light"
     },
     "output_type": "display_data"
    }
   ],
   "source": [
    "plt.plot(plt_hist[:,0], 'r', plt_hist[:,2], 'g')"
   ]
  },
  {
   "cell_type": "code",
   "execution_count": 207,
   "metadata": {},
   "outputs": [
    {
     "data": {
      "text/plain": [
       "[<matplotlib.lines.Line2D at 0x7f935acff668>,\n",
       " <matplotlib.lines.Line2D at 0x7f935acff7b8>]"
      ]
     },
     "execution_count": 207,
     "metadata": {},
     "output_type": "execute_result"
    },
    {
     "data": {
      "image/png": "[encoded data removed]",
      "text/plain": [
       "<Figure size 432x288 with 1 Axes>"
      ]
     },
     "metadata": {
      "needs_background": "light"
     },
     "output_type": "display_data"
    }
   ],
   "source": [
    "plt.plot(plt_hist[:,1], 'r', plt_hist[:,3], 'g')"
   ]
  },
  {
   "cell_type": "code",
   "execution_count": 208,
   "metadata": {},
   "outputs": [
    {
     "data": {
      "text/plain": [
       "(1.5496, 0.722)"
      ]
     },
     "execution_count": 208,
     "metadata": {},
     "output_type": "execute_result"
    }
   ],
   "source": [
    "run_batch(model, dataset, 'test', 512)"
   ]
  },
  {
   "cell_type": "code",
   "execution_count": 209,
   "metadata": {},
   "outputs": [],
   "source": [
    "def predict_nationality(surname):\n",
    "    x_data = torch.tensor(dataset._vectorizer.vectorize(surname, \n",
    "                                                        dataset.max_surname_len)).float().unsqueeze(dim=0).to(device)\n",
    "    y_pred = model(x_data, apply_softmax=True)\n",
    "    probs, idx = y_pred.topk(5)\n",
    "    topk = list(idx.squeeze().cpu().numpy())\n",
    "    for i, k in enumerate(topk):\n",
    "        print('{} {:2.0%}'.format(\n",
    "            dataset._vectorizer.nationality_vocab.lookup_index(k),\n",
    "            probs[i].item()))"
   ]
  },
  {
   "cell_type": "code",
   "execution_count": 210,
   "metadata": {},
   "outputs": [
    {
     "data": {
      "text/plain": [
       "torch.Size([1, 87, 20])"
      ]
     },
     "execution_count": 210,
     "metadata": {},
     "output_type": "execute_result"
    }
   ],
   "source": [
    "torch.tensor(dataset._vectorizer.vectorize('Bagmevsky', dataset.max_surname_len)).float().unsqueeze(dim=0).shape"
   ]
  },
  {
   "cell_type": "code",
   "execution_count": 211,
   "metadata": {},
   "outputs": [
    {
     "name": "stdout",
     "output_type": "stream",
     "text": [
      "Russian 100%\n",
      "Polish 0%\n",
      "Czech 0%\n",
      "German 0%\n",
      "English 0%\n"
     ]
    }
   ],
   "source": [
    "predict_nationality('Bagmevsky')"
   ]
  },
  {
   "cell_type": "code",
   "execution_count": 212,
   "metadata": {},
   "outputs": [
    {
     "name": "stdout",
     "output_type": "stream",
     "text": [
      "French 59%\n",
      "Irish 35%\n",
      "English 4%\n",
      "Russian 1%\n",
      "Italian 0%\n"
     ]
    }
   ],
   "source": [
    "predict_nationality('O\\'Neil')"
   ]
  },
  {
   "cell_type": "code",
   "execution_count": 213,
   "metadata": {},
   "outputs": [
    {
     "name": "stdout",
     "output_type": "stream",
     "text": [
      "Portuguese 91%\n",
      "Japanese 5%\n",
      "Spanish 3%\n",
      "English 2%\n",
      "French 0%\n"
     ]
    }
   ],
   "source": [
    "predict_nationality('Oliveira')"
   ]
  },
  {
   "cell_type": "code",
   "execution_count": null,
   "metadata": {},
   "outputs": [],
   "source": []
  }
 ],
 "metadata": {
  "kernelspec": {
   "display_name": "Python 3",
   "language": "python",
   "name": "python3"
  },
  "language_info": {
   "codemirror_mode": {
    "name": "ipython",
    "version": 3
   },
   "file_extension": ".py",
   "mimetype": "text/x-python",
   "name": "python",
   "nbconvert_exporter": "python",
   "pygments_lexer": "ipython3",
   "version": "3.7.0"
  }
 },
 "nbformat": 4,
 "nbformat_minor": 2
}
