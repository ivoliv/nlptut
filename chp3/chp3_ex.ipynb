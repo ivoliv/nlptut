{
 "cells": [
  {
   "cell_type": "code",
   "execution_count": 1,
   "metadata": {},
   "outputs": [
    {
     "name": "stderr",
     "output_type": "stream",
     "text": [
      "/anaconda3/envs/ONE/lib/python3.7/site-packages/sklearn/utils/__init__.py:4: DeprecationWarning: Using or importing the ABCs from 'collections' instead of from 'collections.abc' is deprecated, and in 3.8 it will stop working\n",
      "  from collections import Sequence\n"
     ]
    }
   ],
   "source": [
    "import pandas as pd\n",
    "import os\n",
    "import matplotlib.pyplot as plt\n",
    "import collections\n",
    "from sklearn.model_selection import train_test_split\n",
    "import torch\n",
    "\n",
    "import numpy as np\n",
    "\n",
    "device = torch.device('cuda') if torch.cuda.is_available() else torch.device('cpu')"
   ]
  },
  {
   "cell_type": "code",
   "execution_count": 2,
   "metadata": {},
   "outputs": [],
   "source": [
    "# rating: 1 = bad, 2 = good\n",
    "def read_data(root, directory, file, rows=None):\n",
    "    df = pd.read_csv(os.path.join(root, directory, file), header=None, nrows=rows)\n",
    "    df.columns = ['review', 'rating']\n",
    "    df['len'] = df['review'].apply(lambda x: len(x))\n",
    "    return df"
   ]
  },
  {
   "cell_type": "code",
   "execution_count": 3,
   "metadata": {},
   "outputs": [],
   "source": [
    "root = '/Users/ivoliv/data/yelp/YELP_BINARY'\n",
    "\n",
    "df_train_orig = read_data(root, 'training', 'YELP_BINARY__FULL.csv', 56000)\n",
    "df_test = read_data(root, 'eval', 'YELP_BINARY__TEST.csv', 3800)"
   ]
  },
  {
   "cell_type": "code",
   "execution_count": 4,
   "metadata": {},
   "outputs": [
    {
     "data": {
      "text/plain": [
       "((56000, 3), (3800, 3))"
      ]
     },
     "execution_count": 4,
     "metadata": {},
     "output_type": "execute_result"
    }
   ],
   "source": [
    "df_train_orig.shape, df_test.shape"
   ]
  },
  {
   "cell_type": "code",
   "execution_count": 5,
   "metadata": {},
   "outputs": [
    {
     "data": {
      "text/html": [
       "<div>\n",
       "<style scoped>\n",
       "    .dataframe tbody tr th:only-of-type {\n",
       "        vertical-align: middle;\n",
       "    }\n",
       "\n",
       "    .dataframe tbody tr th {\n",
       "        vertical-align: top;\n",
       "    }\n",
       "\n",
       "    .dataframe thead th {\n",
       "        text-align: right;\n",
       "    }\n",
       "</style>\n",
       "<table border=\"1\" class=\"dataframe\">\n",
       "  <thead>\n",
       "    <tr style=\"text-align: right;\">\n",
       "      <th></th>\n",
       "      <th>review</th>\n",
       "      <th>rating</th>\n",
       "      <th>len</th>\n",
       "    </tr>\n",
       "  </thead>\n",
       "  <tbody>\n",
       "    <tr>\n",
       "      <th>0</th>\n",
       "      <td>Unfortunately, the frustration of being Dr. Go...</td>\n",
       "      <td>1</td>\n",
       "      <td>643</td>\n",
       "    </tr>\n",
       "    <tr>\n",
       "      <th>1</th>\n",
       "      <td>Been going to Dr. Goldberg for over 10 years. ...</td>\n",
       "      <td>2</td>\n",
       "      <td>495</td>\n",
       "    </tr>\n",
       "    <tr>\n",
       "      <th>2</th>\n",
       "      <td>I don't know what Dr. Goldberg was like before...</td>\n",
       "      <td>1</td>\n",
       "      <td>1143</td>\n",
       "    </tr>\n",
       "    <tr>\n",
       "      <th>3</th>\n",
       "      <td>I'm writing this review to give you a heads up...</td>\n",
       "      <td>1</td>\n",
       "      <td>1050</td>\n",
       "    </tr>\n",
       "    <tr>\n",
       "      <th>4</th>\n",
       "      <td>All the food is great here. But the best thing...</td>\n",
       "      <td>2</td>\n",
       "      <td>425</td>\n",
       "    </tr>\n",
       "  </tbody>\n",
       "</table>\n",
       "</div>"
      ],
      "text/plain": [
       "                                              review  rating   len\n",
       "0  Unfortunately, the frustration of being Dr. Go...       1   643\n",
       "1  Been going to Dr. Goldberg for over 10 years. ...       2   495\n",
       "2  I don't know what Dr. Goldberg was like before...       1  1143\n",
       "3  I'm writing this review to give you a heads up...       1  1050\n",
       "4  All the food is great here. But the best thing...       2   425"
      ]
     },
     "execution_count": 5,
     "metadata": {},
     "output_type": "execute_result"
    }
   ],
   "source": [
    "df_train_orig[:5]"
   ]
  },
  {
   "cell_type": "code",
   "execution_count": 6,
   "metadata": {},
   "outputs": [
    {
     "data": {
      "text/plain": [
       "(\"Unfortunately, the frustration of being Dr. Goldberg's patient is a repeat of the experience I've had with so many other doctors in NYC -- good doctor, terrible staff.  It seems that his staff simply never answers the phone.  It usually takes 2 hours of repeated calling to get an answer.  Who has time for that or wants to deal with it?  I have run into this problem with many other doctors and I just don't get it.  You have office workers, you have patients with medical needs, why isn't anyone answering the phone?  It's incomprehensible and not work the aggravation.  It's with regret that I feel that I have to give Dr. Goldberg 2 stars.\",\n",
       " 1)"
      ]
     },
     "execution_count": 6,
     "metadata": {},
     "output_type": "execute_result"
    }
   ],
   "source": [
    "df_train_orig['review'][0], df_train_orig['rating'][0]"
   ]
  },
  {
   "cell_type": "code",
   "execution_count": 7,
   "metadata": {},
   "outputs": [
    {
     "data": {
      "text/plain": [
       "array([[<matplotlib.axes._subplots.AxesSubplot object at 0x1a20dd3f98>,\n",
       "        <matplotlib.axes._subplots.AxesSubplot object at 0x1a20e86908>]],\n",
       "      dtype=object)"
      ]
     },
     "execution_count": 7,
     "metadata": {},
     "output_type": "execute_result"
    },
    {
     "data": {
      "image/png": "[encoded data removed]",
      "text/plain": [
       "<Figure size 432x288 with 2 Axes>"
      ]
     },
     "metadata": {
      "needs_background": "light"
     },
     "output_type": "display_data"
    }
   ],
   "source": [
    "df_train_orig.hist()"
   ]
  },
  {
   "cell_type": "code",
   "execution_count": 8,
   "metadata": {},
   "outputs": [],
   "source": [
    "# Splitting the subset to create new train and val\n",
    "X_train, X_val = train_test_split(np.asarray([*df_train_orig.index]), test_size=0.1, random_state=123,\n",
    "                                  shuffle=True, stratify=[*df_train_orig['rating']])"
   ]
  },
  {
   "cell_type": "code",
   "execution_count": 9,
   "metadata": {},
   "outputs": [],
   "source": [
    "df_train = df_train_orig[df_train_orig.index.isin(X_train)]\n",
    "df_val = df_train_orig[df_train_orig.index.isin(X_val)]"
   ]
  },
  {
   "cell_type": "code",
   "execution_count": 10,
   "metadata": {},
   "outputs": [
    {
     "data": {
      "text/plain": [
       "((50400, 3), (5600, 3), (3800, 3))"
      ]
     },
     "execution_count": 10,
     "metadata": {},
     "output_type": "execute_result"
    }
   ],
   "source": [
    "df_train.shape, df_val.shape, df_test.shape"
   ]
  },
  {
   "cell_type": "code",
   "execution_count": 11,
   "metadata": {},
   "outputs": [
    {
     "data": {
      "text/plain": [
       "(array([[<matplotlib.axes._subplots.AxesSubplot object at 0x1a20e49e80>,\n",
       "         <matplotlib.axes._subplots.AxesSubplot object at 0x1a23e6c898>]],\n",
       "       dtype=object),\n",
       " array([[<matplotlib.axes._subplots.AxesSubplot object at 0x1a23ebae48>,\n",
       "         <matplotlib.axes._subplots.AxesSubplot object at 0x1a240ad668>]],\n",
       "       dtype=object))"
      ]
     },
     "execution_count": 11,
     "metadata": {},
     "output_type": "execute_result"
    },
    {
     "data": {
      "image/png": "[encoded data removed]",
      "text/plain": [
       "<Figure size 432x288 with 2 Axes>"
      ]
     },
     "metadata": {
      "needs_background": "light"
     },
     "output_type": "display_data"
    },
    {
     "data": {
      "image/png": "[encoded data removed]",
      "text/plain": [
       "<Figure size 432x288 with 2 Axes>"
      ]
     },
     "metadata": {
      "needs_background": "light"
     },
     "output_type": "display_data"
    }
   ],
   "source": [
    "df_train.hist(), df_val.hist()"
   ]
  },
  {
   "cell_type": "code",
   "execution_count": 12,
   "metadata": {},
   "outputs": [],
   "source": [
    "pd.set_option('mode.chained_assignment', None)\n",
    "df_train['split'] = 'train'\n",
    "df_val['split'] = 'val'\n",
    "df_test['split'] = 'test'\n",
    "final_reviews = pd.concat([df_train, df_val, df_test])\n",
    "final_reviews.reset_index(inplace=True)"
   ]
  },
  {
   "cell_type": "code",
   "execution_count": 13,
   "metadata": {},
   "outputs": [
    {
     "data": {
      "text/html": [
       "<div>\n",
       "<style scoped>\n",
       "    .dataframe tbody tr th:only-of-type {\n",
       "        vertical-align: middle;\n",
       "    }\n",
       "\n",
       "    .dataframe tbody tr th {\n",
       "        vertical-align: top;\n",
       "    }\n",
       "\n",
       "    .dataframe thead th {\n",
       "        text-align: right;\n",
       "    }\n",
       "</style>\n",
       "<table border=\"1\" class=\"dataframe\">\n",
       "  <thead>\n",
       "    <tr style=\"text-align: right;\">\n",
       "      <th></th>\n",
       "      <th>index</th>\n",
       "      <th>review</th>\n",
       "      <th>rating</th>\n",
       "      <th>len</th>\n",
       "      <th>split</th>\n",
       "    </tr>\n",
       "  </thead>\n",
       "  <tbody>\n",
       "    <tr>\n",
       "      <th>0</th>\n",
       "      <td>0</td>\n",
       "      <td>Unfortunately, the frustration of being Dr. Go...</td>\n",
       "      <td>1</td>\n",
       "      <td>643</td>\n",
       "      <td>train</td>\n",
       "    </tr>\n",
       "    <tr>\n",
       "      <th>1</th>\n",
       "      <td>1</td>\n",
       "      <td>Been going to Dr. Goldberg for over 10 years. ...</td>\n",
       "      <td>2</td>\n",
       "      <td>495</td>\n",
       "      <td>train</td>\n",
       "    </tr>\n",
       "    <tr>\n",
       "      <th>2</th>\n",
       "      <td>2</td>\n",
       "      <td>I don't know what Dr. Goldberg was like before...</td>\n",
       "      <td>1</td>\n",
       "      <td>1143</td>\n",
       "      <td>train</td>\n",
       "    </tr>\n",
       "    <tr>\n",
       "      <th>3</th>\n",
       "      <td>3</td>\n",
       "      <td>I'm writing this review to give you a heads up...</td>\n",
       "      <td>1</td>\n",
       "      <td>1050</td>\n",
       "      <td>train</td>\n",
       "    </tr>\n",
       "    <tr>\n",
       "      <th>4</th>\n",
       "      <td>4</td>\n",
       "      <td>All the food is great here. But the best thing...</td>\n",
       "      <td>2</td>\n",
       "      <td>425</td>\n",
       "      <td>train</td>\n",
       "    </tr>\n",
       "  </tbody>\n",
       "</table>\n",
       "</div>"
      ],
      "text/plain": [
       "   index                                             review  rating   len  \\\n",
       "0      0  Unfortunately, the frustration of being Dr. Go...       1   643   \n",
       "1      1  Been going to Dr. Goldberg for over 10 years. ...       2   495   \n",
       "2      2  I don't know what Dr. Goldberg was like before...       1  1143   \n",
       "3      3  I'm writing this review to give you a heads up...       1  1050   \n",
       "4      4  All the food is great here. But the best thing...       2   425   \n",
       "\n",
       "   split  \n",
       "0  train  \n",
       "1  train  \n",
       "2  train  \n",
       "3  train  \n",
       "4  train  "
      ]
     },
     "execution_count": 13,
     "metadata": {},
     "output_type": "execute_result"
    }
   ],
   "source": [
    "final_reviews[:5]"
   ]
  },
  {
   "cell_type": "code",
   "execution_count": 14,
   "metadata": {},
   "outputs": [
    {
     "data": {
      "text/plain": [
       "train    50400\n",
       "val       5600\n",
       "test      3800\n",
       "Name: split, dtype: int64"
      ]
     },
     "execution_count": 14,
     "metadata": {},
     "output_type": "execute_result"
    }
   ],
   "source": [
    "final_reviews['split'].value_counts()"
   ]
  },
  {
   "cell_type": "code",
   "execution_count": 15,
   "metadata": {},
   "outputs": [
    {
     "data": {
      "text/plain": [
       "\"Unfortunately, the frustration of being Dr. Goldberg's patient is a repeat of the experience I've had with so many other doctors in NYC -- good doctor, terrible staff.  It seems that his staff simply never answers the phone.  It usually takes 2 hours of repeated calling to get an answer.  Who has time for that or wants to deal with it?  I have run into this problem with many other doctors and I just don't get it.  You have office workers, you have patients with medical needs, why isn't anyone answering the phone?  It's incomprehensible and not work the aggravation.  It's with regret that I feel that I have to give Dr. Goldberg 2 stars.\""
      ]
     },
     "execution_count": 15,
     "metadata": {},
     "output_type": "execute_result"
    }
   ],
   "source": [
    "text = final_reviews['review'][0]\n",
    "text"
   ]
  },
  {
   "cell_type": "code",
   "execution_count": 16,
   "metadata": {},
   "outputs": [],
   "source": [
    "import re\n",
    "def preprocess_text(text):\n",
    "    text = text.lower()\n",
    "    text = re.sub(r\"([.,!?])\", r\" \\1 \", text)\n",
    "    text = re.sub(r\"[^a-zA-Z.,!?]+\", r\" \", text)\n",
    "    return text"
   ]
  },
  {
   "cell_type": "code",
   "execution_count": 17,
   "metadata": {},
   "outputs": [
    {
     "data": {
      "text/plain": [
       "'unfortunately , the frustration of being dr . goldberg s patient is a repeat of the experience i ve had with so many other doctors in nyc good doctor , terrible staff . it seems that his staff simply never answers the phone . it usually takes hours of repeated calling to get an answer . who has time for that or wants to deal with it ? i have run into this problem with many other doctors and i just don t get it . you have office workers , you have patients with medical needs , why isn t anyone answering the phone ? it s incomprehensible and not work the aggravation . it s with regret that i feel that i have to give dr . goldberg stars . '"
      ]
     },
     "execution_count": 17,
     "metadata": {},
     "output_type": "execute_result"
    }
   ],
   "source": [
    "preprocess_text(text)"
   ]
  },
  {
   "cell_type": "code",
   "execution_count": 18,
   "metadata": {},
   "outputs": [],
   "source": [
    "final_reviews.review = final_reviews.review.apply(preprocess_text)"
   ]
  },
  {
   "cell_type": "code",
   "execution_count": 19,
   "metadata": {},
   "outputs": [
    {
     "data": {
      "text/html": [
       "<div>\n",
       "<style scoped>\n",
       "    .dataframe tbody tr th:only-of-type {\n",
       "        vertical-align: middle;\n",
       "    }\n",
       "\n",
       "    .dataframe tbody tr th {\n",
       "        vertical-align: top;\n",
       "    }\n",
       "\n",
       "    .dataframe thead th {\n",
       "        text-align: right;\n",
       "    }\n",
       "</style>\n",
       "<table border=\"1\" class=\"dataframe\">\n",
       "  <thead>\n",
       "    <tr style=\"text-align: right;\">\n",
       "      <th></th>\n",
       "      <th>index</th>\n",
       "      <th>review</th>\n",
       "      <th>rating</th>\n",
       "      <th>len</th>\n",
       "      <th>split</th>\n",
       "    </tr>\n",
       "  </thead>\n",
       "  <tbody>\n",
       "    <tr>\n",
       "      <th>0</th>\n",
       "      <td>0</td>\n",
       "      <td>unfortunately , the frustration of being dr . ...</td>\n",
       "      <td>1</td>\n",
       "      <td>643</td>\n",
       "      <td>train</td>\n",
       "    </tr>\n",
       "    <tr>\n",
       "      <th>1</th>\n",
       "      <td>1</td>\n",
       "      <td>been going to dr . goldberg for over years . i...</td>\n",
       "      <td>2</td>\n",
       "      <td>495</td>\n",
       "      <td>train</td>\n",
       "    </tr>\n",
       "    <tr>\n",
       "      <th>2</th>\n",
       "      <td>2</td>\n",
       "      <td>i don t know what dr . goldberg was like befor...</td>\n",
       "      <td>1</td>\n",
       "      <td>1143</td>\n",
       "      <td>train</td>\n",
       "    </tr>\n",
       "    <tr>\n",
       "      <th>3</th>\n",
       "      <td>3</td>\n",
       "      <td>i m writing this review to give you a heads up...</td>\n",
       "      <td>1</td>\n",
       "      <td>1050</td>\n",
       "      <td>train</td>\n",
       "    </tr>\n",
       "    <tr>\n",
       "      <th>4</th>\n",
       "      <td>4</td>\n",
       "      <td>all the food is great here . but the best thin...</td>\n",
       "      <td>2</td>\n",
       "      <td>425</td>\n",
       "      <td>train</td>\n",
       "    </tr>\n",
       "  </tbody>\n",
       "</table>\n",
       "</div>"
      ],
      "text/plain": [
       "   index                                             review  rating   len  \\\n",
       "0      0  unfortunately , the frustration of being dr . ...       1   643   \n",
       "1      1  been going to dr . goldberg for over years . i...       2   495   \n",
       "2      2  i don t know what dr . goldberg was like befor...       1  1143   \n",
       "3      3  i m writing this review to give you a heads up...       1  1050   \n",
       "4      4  all the food is great here . but the best thin...       2   425   \n",
       "\n",
       "   split  \n",
       "0  train  \n",
       "1  train  \n",
       "2  train  \n",
       "3  train  \n",
       "4  train  "
      ]
     },
     "execution_count": 19,
     "metadata": {},
     "output_type": "execute_result"
    }
   ],
   "source": [
    "final_reviews[:5]"
   ]
  },
  {
   "cell_type": "markdown",
   "metadata": {},
   "source": [
    "## Save data to csv, same directory"
   ]
  },
  {
   "cell_type": "code",
   "execution_count": 20,
   "metadata": {},
   "outputs": [],
   "source": [
    "final_reviews.to_csv(os.path.join(root, 'YELP_BINARY__ALL.csv'))"
   ]
  },
  {
   "cell_type": "markdown",
   "metadata": {},
   "source": [
    "# Data is preped. Now begin building the datasets class, vectorization, and loaders."
   ]
  },
  {
   "cell_type": "markdown",
   "metadata": {},
   "source": [
    "# Dataset"
   ]
  },
  {
   "cell_type": "code",
   "execution_count": 21,
   "metadata": {},
   "outputs": [],
   "source": [
    "from torch.utils.data import Dataset"
   ]
  },
  {
   "cell_type": "code",
   "execution_count": 22,
   "metadata": {},
   "outputs": [],
   "source": [
    "class ReviewDataset(Dataset):\n",
    "    \n",
    "    def __init__(self, review_df, vectorizer):\n",
    "        \n",
    "        self.review_df = review_df\n",
    "        self.vectorizer = vectorizer\n",
    "        \n",
    "        self.train_df = self.review_df[self.review_df.split == 'train']\n",
    "        self.train_size = len(self.train_df)\n",
    "        \n",
    "        self.val_df = self.review_df[self.review_df.split == 'val']\n",
    "        self.val_size = len(self.val_df)\n",
    "        \n",
    "        self.test_df = self.review_df[self.review_df.split == 'test']\n",
    "        self.test_size = len(self.test_df)\n",
    "        \n",
    "        self._lookup_dict = {'train': (self.train_df, self.train_size),\n",
    "                             'val': (self.val_df, self.val_size),\n",
    "                             'test': (self.test_df, self.test_size)}\n",
    "\n",
    "        self.set_split('train')\n",
    "        \n",
    "    def set_split(self, split='train'):\n",
    "        \n",
    "        self._target_split = split\n",
    "        self._target_df, self._target_size = self._lookup_dict[split]\n",
    "        \n",
    "    def __len__(self):\n",
    "        \"\"\" Return the size of the (selected) data set\n",
    "        \"\"\"\n",
    "        return self._target_size\n",
    "    \n",
    "    def get_text(self, index):\n",
    "        return self._target_df.iloc[index]\n",
    "    \n",
    "    def __getitem__(self, index):\n",
    "        \n",
    "        \"\"\" Return the `index` item in the dataset\n",
    "        In particular, from the indexed row, return:\n",
    "        - review vector (x_data) \n",
    "        - rating index token (y_target)\n",
    "        \"\"\"\n",
    "        \n",
    "        row = self._target_df.iloc[index]\n",
    "        \n",
    "        review_vector = self.vectorizer.vectorize(row.review)\n",
    "        \n",
    "        rating_index = torch.tensor(self.vectorizer.ratings_vocab.lookup_token(row.rating)).view(1)\n",
    "        \n",
    "        return {'idx': index,\n",
    "                'x_data': review_vector,\n",
    "                'y_target': rating_index}\n",
    "    \n",
    "    def get_num_batches(self, batch_size):\n",
    "        \n",
    "        return len(self) // batch_size\n",
    "    \n",
    "    def get_vectorizer(self):\n",
    "        \n",
    "        return self._vectorizer\n",
    "\n",
    "    @classmethod\n",
    "    def load_dataset_and_make_vectorizer(cls, filename):\n",
    "        \n",
    "        review_df = pd.read_csv(filename)\n",
    "        return cls(review_df, ReviewVectorizer.from_dataframe(review_df))"
   ]
  },
  {
   "cell_type": "markdown",
   "metadata": {},
   "source": [
    "# Vocabulary, Vectorizer, Dataloader"
   ]
  },
  {
   "cell_type": "markdown",
   "metadata": {},
   "source": [
    "## Vocab"
   ]
  },
  {
   "cell_type": "code",
   "execution_count": 23,
   "metadata": {},
   "outputs": [],
   "source": [
    "class Vocabulary(object):\n",
    "    \n",
    "    def __init__(self, token_to_index=None, add_unk=True, unk_token='<UNK>'):\n",
    "        \n",
    "        if token_to_index is None:\n",
    "            token_to_index = {}\n",
    "        self._token_to_index = token_to_index\n",
    "        \n",
    "        self._index_to_token = {idx: token for idx, token in self._token_to_index.items()}\n",
    "        \n",
    "        self._add_unk = add_unk\n",
    "        self._unk_token = unk_token\n",
    "        \n",
    "        self.unk_index = -1\n",
    "        if add_unk:\n",
    "            self.unk_index = self.add_token(unk_token)\n",
    "        \n",
    "    def add_token(self, token):\n",
    "        \n",
    "        if token not in self._token_to_index:\n",
    "            token_index = len(self)\n",
    "            self._token_to_index[token] = token_index\n",
    "            self._index_to_token[token_index] = token\n",
    "        else:\n",
    "            token_index = self._token_to_index[token]\n",
    "            \n",
    "        return token_index\n",
    "        \n",
    "    def lookup_token(self, token):\n",
    "        \n",
    "        if self._unk_token:\n",
    "            return self._token_to_index.get(token, self.unk_index)\n",
    "        else:\n",
    "            return self._token_to_index[token]\n",
    "    \n",
    "    def lookup_index(self, index):\n",
    "        \n",
    "        if index in self._index_to_token:\n",
    "            return self._index_to_token[index]\n",
    "        else:\n",
    "            raise KeyError('the index {} is not in the vocabulary'.format(index))\n",
    "        \n",
    "    def __len__(self):\n",
    "        return len(self._token_to_index)\n",
    "    \n",
    "    def __str__(self):\n",
    "        return \"<Vocabulary(size=%d)>\" % len(self)\n",
    "    \n",
    "    def to_serializable(self):\n",
    "        return {'token_to_idx': self._token_to_index, \n",
    "                'add_unk': self._add_unk, \n",
    "                'unk_token': self._unk_token}\n",
    "    \n",
    "    @classmethod\n",
    "    def from_serializable(cls, contents):\n",
    "        return cls(**contents)"
   ]
  },
  {
   "cell_type": "code",
   "execution_count": 24,
   "metadata": {},
   "outputs": [],
   "source": [
    "vocab = Vocabulary()"
   ]
  },
  {
   "cell_type": "code",
   "execution_count": 25,
   "metadata": {},
   "outputs": [
    {
     "data": {
      "text/plain": [
       "{'<UNK>': 0}"
      ]
     },
     "execution_count": 25,
     "metadata": {},
     "output_type": "execute_result"
    }
   ],
   "source": [
    "vocab._token_to_index"
   ]
  },
  {
   "cell_type": "code",
   "execution_count": 26,
   "metadata": {},
   "outputs": [
    {
     "data": {
      "text/plain": [
       "1"
      ]
     },
     "execution_count": 26,
     "metadata": {},
     "output_type": "execute_result"
    }
   ],
   "source": [
    "vocab.add_token('word')"
   ]
  },
  {
   "cell_type": "code",
   "execution_count": 27,
   "metadata": {},
   "outputs": [
    {
     "data": {
      "text/plain": [
       "{'<UNK>': 0, 'word': 1}"
      ]
     },
     "execution_count": 27,
     "metadata": {},
     "output_type": "execute_result"
    }
   ],
   "source": [
    "vocab._token_to_index"
   ]
  },
  {
   "cell_type": "code",
   "execution_count": 28,
   "metadata": {},
   "outputs": [
    {
     "data": {
      "text/plain": [
       "{0: '<UNK>', 1: 'word'}"
      ]
     },
     "execution_count": 28,
     "metadata": {},
     "output_type": "execute_result"
    }
   ],
   "source": [
    "vocab._index_to_token"
   ]
  },
  {
   "cell_type": "code",
   "execution_count": 29,
   "metadata": {},
   "outputs": [
    {
     "data": {
      "text/plain": [
       "'word'"
      ]
     },
     "execution_count": 29,
     "metadata": {},
     "output_type": "execute_result"
    }
   ],
   "source": [
    "vocab.lookup_index(1)"
   ]
  },
  {
   "cell_type": "code",
   "execution_count": 30,
   "metadata": {},
   "outputs": [
    {
     "data": {
      "text/plain": [
       "1"
      ]
     },
     "execution_count": 30,
     "metadata": {},
     "output_type": "execute_result"
    }
   ],
   "source": [
    "vocab.lookup_token('word')"
   ]
  },
  {
   "cell_type": "code",
   "execution_count": 31,
   "metadata": {},
   "outputs": [
    {
     "data": {
      "text/plain": [
       "2"
      ]
     },
     "execution_count": 31,
     "metadata": {},
     "output_type": "execute_result"
    }
   ],
   "source": [
    "vocab.add_token('Word')"
   ]
  },
  {
   "cell_type": "code",
   "execution_count": 32,
   "metadata": {},
   "outputs": [
    {
     "data": {
      "text/plain": [
       "{0: '<UNK>', 1: 'word', 2: 'Word'}"
      ]
     },
     "execution_count": 32,
     "metadata": {},
     "output_type": "execute_result"
    }
   ],
   "source": [
    "vocab._index_to_token"
   ]
  },
  {
   "cell_type": "code",
   "execution_count": 33,
   "metadata": {},
   "outputs": [
    {
     "name": "stdout",
     "output_type": "stream",
     "text": [
      "<Vocabulary(size=3)>\n"
     ]
    }
   ],
   "source": [
    "print(vocab)"
   ]
  },
  {
   "cell_type": "markdown",
   "metadata": {},
   "source": [
    "## Vectorizer"
   ]
  },
  {
   "cell_type": "code",
   "execution_count": 34,
   "metadata": {},
   "outputs": [
    {
     "data": {
      "text/plain": [
       "'unfortunately , the frustration of being dr . goldberg s patient is a repeat of the experience i ve had with so many other doctors in nyc good doctor , terrible staff . it seems that his staff simply never answers the phone . it usually takes hours of repeated calling to get an answer . who has time for that or wants to deal with it ? i have run into this problem with many other doctors and i just don t get it . you have office workers , you have patients with medical needs , why isn t anyone answering the phone ? it s incomprehensible and not work the aggravation . it s with regret that i feel that i have to give dr . goldberg stars . '"
      ]
     },
     "execution_count": 34,
     "metadata": {},
     "output_type": "execute_result"
    }
   ],
   "source": [
    "ex = final_reviews.iloc[0]\n",
    "ex.review"
   ]
  },
  {
   "cell_type": "code",
   "execution_count": 35,
   "metadata": {},
   "outputs": [],
   "source": [
    "class ReviewVectorizer(object):\n",
    "    \n",
    "    def __init__(self, reviews_vocab, ratings_vocab):\n",
    "        \n",
    "        self.reviews_vocab = reviews_vocab\n",
    "        self.ratings_vocab = ratings_vocab\n",
    "        \n",
    "    def vectorize(self, text):\n",
    "        \n",
    "        vector = torch.zeros(len(self.reviews_vocab))\n",
    "        for tok in text.split():\n",
    "            index = self.reviews_vocab.lookup_token(tok)\n",
    "            vector[index] = 1  # collapsed one-hot representation\n",
    "        \n",
    "        return torch.Tensor(vector)\n",
    "            \n",
    "    @classmethod\n",
    "    def from_dataframe(cls, review_df):\n",
    "\n",
    "        reviews_vocab = Vocabulary()\n",
    "        ratings_vocab = Vocabulary(add_unk=False, \n",
    "                                   token_to_index={1: 0., 2: 1.})\n",
    "        \n",
    "        for row in review_df.iterrows():\n",
    "            for tok in (row[1].review).split():\n",
    "                reviews_vocab.add_token(tok)\n",
    "                \n",
    "        return cls(reviews_vocab, ratings_vocab)"
   ]
  },
  {
   "cell_type": "code",
   "execution_count": 36,
   "metadata": {},
   "outputs": [],
   "source": [
    "vectorizer = ReviewVectorizer.from_dataframe(final_reviews)"
   ]
  },
  {
   "cell_type": "code",
   "execution_count": 37,
   "metadata": {},
   "outputs": [
    {
     "data": {
      "text/plain": [
       "1"
      ]
     },
     "execution_count": 37,
     "metadata": {},
     "output_type": "execute_result"
    }
   ],
   "source": [
    "vectorizer.reviews_vocab.lookup_token('unfortunately')"
   ]
  },
  {
   "cell_type": "code",
   "execution_count": 38,
   "metadata": {},
   "outputs": [
    {
     "data": {
      "text/plain": [
       "tensor([0., 1., 1., 1., 1., 1., 1., 1., 1., 1., 1., 1., 1., 1., 1., 1., 1., 1.,\n",
       "        1., 1., 1., 1., 1., 1., 1., 1., 1., 1., 1., 1., 1., 1., 1., 1., 1., 1.,\n",
       "        1., 1., 1., 1., 1., 1., 1., 1., 1., 1., 1., 1., 1., 1., 1., 1., 1., 1.,\n",
       "        1., 1., 1., 1., 1., 1., 1., 1., 1., 1., 1., 1., 1., 1., 1., 1., 1., 1.,\n",
       "        1., 1., 1., 1., 1., 1., 1., 1., 1., 1., 0., 0., 0., 0., 0., 0., 0., 0.,\n",
       "        0., 0., 0., 0., 0., 0., 0., 0., 0., 0.])"
      ]
     },
     "execution_count": 38,
     "metadata": {},
     "output_type": "execute_result"
    }
   ],
   "source": [
    "vectorizer.vectorize(final_reviews.iloc[0].review)[:100]"
   ]
  },
  {
   "cell_type": "code",
   "execution_count": 39,
   "metadata": {},
   "outputs": [
    {
     "data": {
      "text/plain": [
       "tensor([0., 0., 1., 1., 0., 1., 0., 1., 1., 1., 1., 1., 1., 0., 0., 0., 1., 0.,\n",
       "        0., 1., 0., 0., 0., 0., 1., 0., 0., 0., 0., 0., 1., 0., 1., 1., 0., 0.,\n",
       "        0., 0., 0., 0., 0., 0., 0., 1., 0., 0., 0., 0., 0., 0., 1., 0., 1., 0.,\n",
       "        0., 1., 0., 0., 0., 0., 1., 0., 0., 1., 1., 0., 0., 1., 1., 0., 0., 0.,\n",
       "        0., 0., 0., 1., 0., 0., 0., 0., 0., 0., 1., 1., 1., 1., 1., 1., 1., 1.,\n",
       "        1., 1., 1., 1., 1., 1., 1., 1., 1., 1.])"
      ]
     },
     "execution_count": 39,
     "metadata": {},
     "output_type": "execute_result"
    }
   ],
   "source": [
    "vectorizer.vectorize(final_reviews.iloc[1].review)[:100]"
   ]
  },
  {
   "cell_type": "code",
   "execution_count": 40,
   "metadata": {},
   "outputs": [
    {
     "data": {
      "text/plain": [
       "['<UNK>',\n",
       " 'unfortunately',\n",
       " ',',\n",
       " 'the',\n",
       " 'frustration',\n",
       " 'of',\n",
       " 'being',\n",
       " 'dr',\n",
       " '.',\n",
       " 'goldberg']"
      ]
     },
     "execution_count": 40,
     "metadata": {},
     "output_type": "execute_result"
    }
   ],
   "source": [
    "[vectorizer.reviews_vocab._index_to_token[i] for i in range(10)]"
   ]
  },
  {
   "cell_type": "code",
   "execution_count": 41,
   "metadata": {},
   "outputs": [
    {
     "data": {
      "text/plain": [
       "63524"
      ]
     },
     "execution_count": 41,
     "metadata": {},
     "output_type": "execute_result"
    }
   ],
   "source": [
    "len(vectorizer.vectorize(final_reviews.iloc[1].review))"
   ]
  },
  {
   "cell_type": "code",
   "execution_count": 42,
   "metadata": {},
   "outputs": [
    {
     "data": {
      "text/plain": [
       "63524"
      ]
     },
     "execution_count": 42,
     "metadata": {},
     "output_type": "execute_result"
    }
   ],
   "source": [
    "len(vectorizer.reviews_vocab)"
   ]
  },
  {
   "cell_type": "code",
   "execution_count": 43,
   "metadata": {},
   "outputs": [
    {
     "name": "stdout",
     "output_type": "stream",
     "text": [
      "<Vocabulary(size=2)>\n"
     ]
    },
    {
     "data": {
      "text/plain": [
       "{'token_to_idx': {1: 0.0, 2: 1.0}, 'add_unk': False, 'unk_token': '<UNK>'}"
      ]
     },
     "execution_count": 43,
     "metadata": {},
     "output_type": "execute_result"
    }
   ],
   "source": [
    "print(vectorizer.ratings_vocab)\n",
    "vectorizer.ratings_vocab.to_serializable()"
   ]
  },
  {
   "cell_type": "markdown",
   "metadata": {},
   "source": [
    "## Dataloader"
   ]
  },
  {
   "cell_type": "code",
   "execution_count": 44,
   "metadata": {},
   "outputs": [
    {
     "data": {
      "text/plain": [
       "{'idx': 0,\n",
       " 'x_data': tensor([0., 1., 1.,  ..., 0., 0., 0.]),\n",
       " 'y_target': tensor([0.])}"
      ]
     },
     "execution_count": 44,
     "metadata": {},
     "output_type": "execute_result"
    }
   ],
   "source": [
    "dataset = ReviewDataset.load_dataset_and_make_vectorizer(os.path.join(root, 'YELP_BINARY__ALL.csv'))\n",
    "dataset.__getitem__(0)"
   ]
  },
  {
   "cell_type": "code",
   "execution_count": 45,
   "metadata": {},
   "outputs": [
    {
     "data": {
      "text/plain": [
       "{'idx': 1,\n",
       " 'x_data': tensor([0., 0., 1.,  ..., 0., 0., 0.]),\n",
       " 'y_target': tensor([1.])}"
      ]
     },
     "execution_count": 45,
     "metadata": {},
     "output_type": "execute_result"
    }
   ],
   "source": [
    "dataset.__getitem__(1)"
   ]
  },
  {
   "cell_type": "code",
   "execution_count": 206,
   "metadata": {},
   "outputs": [
    {
     "data": {
      "text/plain": [
       "Unnamed: 0                                                    1\n",
       "index                                                         1\n",
       "review        been going to dr . goldberg for over years . i...\n",
       "rating                                                        2\n",
       "len                                                         495\n",
       "split                                                     train\n",
       "Name: 1, dtype: object"
      ]
     },
     "execution_count": 206,
     "metadata": {},
     "output_type": "execute_result"
    }
   ],
   "source": [
    "dataset.get_text(1)"
   ]
  },
  {
   "cell_type": "code",
   "execution_count": 46,
   "metadata": {},
   "outputs": [],
   "source": [
    "from torch.utils.data import DataLoader"
   ]
  },
  {
   "cell_type": "code",
   "execution_count": 47,
   "metadata": {},
   "outputs": [],
   "source": [
    "dataloader = DataLoader(dataset=dataset, batch_size=16,\n",
    "                        shuffle=True, drop_last=False)"
   ]
  },
  {
   "cell_type": "code",
   "execution_count": 48,
   "metadata": {},
   "outputs": [
    {
     "data": {
      "text/plain": [
       "16"
      ]
     },
     "execution_count": 48,
     "metadata": {},
     "output_type": "execute_result"
    }
   ],
   "source": [
    "dataloader.batch_size"
   ]
  },
  {
   "cell_type": "code",
   "execution_count": 49,
   "metadata": {},
   "outputs": [
    {
     "name": "stdout",
     "output_type": "stream",
     "text": [
      "{'x_data': tensor([[0., 0., 1.,  ..., 0., 0., 0.],\n",
      "        [0., 0., 0.,  ..., 0., 0., 0.],\n",
      "        [0., 0., 0.,  ..., 0., 0., 0.],\n",
      "        ...,\n",
      "        [0., 0., 1.,  ..., 0., 0., 0.],\n",
      "        [0., 0., 1.,  ..., 0., 0., 0.],\n",
      "        [0., 0., 1.,  ..., 0., 0., 0.]]), 'y_target': tensor([[1.],\n",
      "        [0.],\n",
      "        [1.],\n",
      "        [0.],\n",
      "        [1.],\n",
      "        [1.],\n",
      "        [1.],\n",
      "        [0.],\n",
      "        [1.],\n",
      "        [1.],\n",
      "        [1.],\n",
      "        [0.],\n",
      "        [1.],\n",
      "        [1.],\n",
      "        [0.],\n",
      "        [1.]])}\n",
      "torch.Size([16, 63524]) torch.Size([16, 1])\n"
     ]
    }
   ],
   "source": [
    "for i in dataloader:\n",
    "    print(i)\n",
    "    print(i['x_data'].shape, i['y_target'].shape)\n",
    "    break"
   ]
  },
  {
   "cell_type": "code",
   "execution_count": 50,
   "metadata": {},
   "outputs": [],
   "source": [
    "def generate_batches(dataset, batch_size, shuffle=True,\n",
    "                     drop_last=True, device='cpu'):\n",
    "    \"\"\"\n",
    "    A generator function which wraps the PyTorch DataLoader. It will \n",
    "    ensure each tensor is on the right device location.\n",
    "    \"\"\"\n",
    "    dataloader = DataLoader(dataset=dataset, batch_size=batch_size,\n",
    "                            shuffle=shuffle, drop_last=drop_last)\n",
    "\n",
    "    for data_dict in dataloader:\n",
    "        out_data_dict = {}\n",
    "        for name, tensor in data_dict.items():\n",
    "            out_data_dict[name] = data_dict[name].to(device)\n",
    "        yield out_data_dict"
   ]
  },
  {
   "cell_type": "markdown",
   "metadata": {},
   "source": [
    "# Simple fully connected classifier (MLP)"
   ]
  },
  {
   "cell_type": "code",
   "execution_count": 51,
   "metadata": {},
   "outputs": [],
   "source": [
    "import torch.nn as nn"
   ]
  },
  {
   "cell_type": "code",
   "execution_count": 52,
   "metadata": {},
   "outputs": [],
   "source": [
    "class ReviewClassifier(nn.Module):\n",
    "    def __init__(self, num_features):\n",
    "        super(ReviewClassifier, self).__init__()\n",
    "        self.fc = nn.Linear(in_features=num_features, out_features=1)\n",
    "    \n",
    "    def forward(self, inputs, apply_sig=False):\n",
    "        out = self.fc(inputs)\n",
    "        if apply_sig:\n",
    "            out = torch.sigmoid(out)\n",
    "        return out"
   ]
  },
  {
   "cell_type": "code",
   "execution_count": 53,
   "metadata": {},
   "outputs": [
    {
     "name": "stdout",
     "output_type": "stream",
     "text": [
      "ReviewClassifier(\n",
      "  (fc): Linear(in_features=63524, out_features=1, bias=True)\n",
      ")\n"
     ]
    }
   ],
   "source": [
    "model = ReviewClassifier(len(vectorizer.reviews_vocab))\n",
    "print(model)"
   ]
  },
  {
   "cell_type": "code",
   "execution_count": 54,
   "metadata": {},
   "outputs": [],
   "source": [
    "model = model.to(device)"
   ]
  },
  {
   "cell_type": "code",
   "execution_count": 55,
   "metadata": {},
   "outputs": [],
   "source": [
    "data_dict = next(iter(dataloader))"
   ]
  },
  {
   "cell_type": "code",
   "execution_count": 56,
   "metadata": {},
   "outputs": [
    {
     "data": {
      "text/plain": [
       "tensor([[0., 0., 1.,  ..., 0., 0., 0.],\n",
       "        [0., 0., 1.,  ..., 0., 0., 0.],\n",
       "        [0., 0., 1.,  ..., 0., 0., 0.],\n",
       "        ...,\n",
       "        [0., 0., 1.,  ..., 0., 0., 0.],\n",
       "        [0., 0., 0.,  ..., 0., 0., 0.],\n",
       "        [0., 0., 1.,  ..., 0., 0., 0.]])"
      ]
     },
     "execution_count": 56,
     "metadata": {},
     "output_type": "execute_result"
    }
   ],
   "source": [
    "data_dict['x_data']"
   ]
  },
  {
   "cell_type": "code",
   "execution_count": 57,
   "metadata": {},
   "outputs": [
    {
     "data": {
      "text/plain": [
       "tensor([[1.],\n",
       "        [1.],\n",
       "        [0.],\n",
       "        [0.],\n",
       "        [1.],\n",
       "        [0.],\n",
       "        [0.],\n",
       "        [0.],\n",
       "        [1.],\n",
       "        [0.],\n",
       "        [1.],\n",
       "        [1.],\n",
       "        [0.],\n",
       "        [0.],\n",
       "        [1.],\n",
       "        [0.]])"
      ]
     },
     "execution_count": 57,
     "metadata": {},
     "output_type": "execute_result"
    }
   ],
   "source": [
    "data_dict['y_target']"
   ]
  },
  {
   "cell_type": "code",
   "execution_count": 58,
   "metadata": {},
   "outputs": [
    {
     "data": {
      "text/plain": [
       "tensor([[-0.0581],\n",
       "        [-0.0432],\n",
       "        [ 0.0047],\n",
       "        [ 0.0085],\n",
       "        [-0.0019],\n",
       "        [ 0.0006],\n",
       "        [ 0.0091],\n",
       "        [-0.0111],\n",
       "        [-0.0181],\n",
       "        [ 0.0296],\n",
       "        [-0.0333],\n",
       "        [-0.0108],\n",
       "        [-0.0195],\n",
       "        [-0.0216],\n",
       "        [-0.0030],\n",
       "        [-0.0175]], grad_fn=<ThAddmmBackward>)"
      ]
     },
     "execution_count": 58,
     "metadata": {},
     "output_type": "execute_result"
    }
   ],
   "source": [
    "model(data_dict['x_data'])"
   ]
  },
  {
   "cell_type": "code",
   "execution_count": 59,
   "metadata": {},
   "outputs": [
    {
     "data": {
      "text/plain": [
       "tensor([[0.4855, 1.0000],\n",
       "        [0.4892, 1.0000],\n",
       "        [0.5012, 0.0000],\n",
       "        [0.5021, 0.0000],\n",
       "        [0.4995, 1.0000],\n",
       "        [0.5001, 0.0000],\n",
       "        [0.5023, 0.0000],\n",
       "        [0.4972, 0.0000],\n",
       "        [0.4955, 1.0000],\n",
       "        [0.5074, 0.0000],\n",
       "        [0.4917, 1.0000],\n",
       "        [0.4973, 1.0000],\n",
       "        [0.4951, 0.0000],\n",
       "        [0.4946, 0.0000],\n",
       "        [0.4992, 1.0000],\n",
       "        [0.4956, 0.0000]], grad_fn=<CatBackward>)"
      ]
     },
     "execution_count": 59,
     "metadata": {},
     "output_type": "execute_result"
    }
   ],
   "source": [
    "torch.cat([model(data_dict['x_data'], apply_sig=True), data_dict['y_target']], dim=1)"
   ]
  },
  {
   "cell_type": "code",
   "execution_count": 60,
   "metadata": {},
   "outputs": [],
   "source": [
    "bce_loss = nn.BCEWithLogitsLoss()"
   ]
  },
  {
   "cell_type": "code",
   "execution_count": 61,
   "metadata": {},
   "outputs": [
    {
     "data": {
      "text/plain": [
       "tensor(0.6979, grad_fn=<MeanBackward1>)"
      ]
     },
     "execution_count": 61,
     "metadata": {},
     "output_type": "execute_result"
    }
   ],
   "source": [
    "y_pred = model(data_dict['x_data'], apply_sig=False)\n",
    "loss = bce_loss(y_pred, data_dict['y_target'])\n",
    "loss"
   ]
  },
  {
   "cell_type": "markdown",
   "metadata": {},
   "source": [
    "### Static (single) batch"
   ]
  },
  {
   "cell_type": "code",
   "execution_count": 62,
   "metadata": {},
   "outputs": [],
   "source": [
    "x_data = data_dict['x_data']\n",
    "y_target = data_dict['y_target']"
   ]
  },
  {
   "cell_type": "code",
   "execution_count": 63,
   "metadata": {},
   "outputs": [],
   "source": [
    "optim = torch.optim.Adam(model.parameters())\n",
    "hist = []"
   ]
  },
  {
   "cell_type": "code",
   "execution_count": 64,
   "metadata": {},
   "outputs": [
    {
     "name": "stdout",
     "output_type": "stream",
     "text": [
      "50 :   0.16 100.0%\n",
      "100 :  0.081 100.0%\n",
      "150 :  0.052 100.0%\n",
      "200 :  0.036 100.0%\n",
      "250 :  0.027 100.0%\n",
      "300 :  0.021 100.0%\n",
      "350 :  0.017 100.0%\n",
      "400 :  0.014 100.0%\n",
      "450 :  0.012 100.0%\n",
      "499 :   0.01 100.0%\n"
     ]
    }
   ],
   "source": [
    "for i in range(500):\n",
    "    model.zero_grad()\n",
    "    y_pred = model(x_data, apply_sig=False)\n",
    "    loss = bce_loss(y_pred, y_target)\n",
    "    loss.backward()\n",
    "    diffs = abs(torch.sigmoid(y_pred) - y_target)\n",
    "    acc = torch.sum(diffs < .5).item() / diffs.shape[0]\n",
    "    hist.append([loss, acc])\n",
    "    optim.step()\n",
    "    if i > 0 and i % 50 == 0:\n",
    "        print('{:0} : {:6.2} {:.1%}'.format(i, loss.item(), acc))\n",
    "print('{:0} : {:6.2} {:.1%}'.format(i, loss.item(), acc))"
   ]
  },
  {
   "cell_type": "code",
   "execution_count": 65,
   "metadata": {},
   "outputs": [
    {
     "data": {
      "text/plain": [
       "1.0"
      ]
     },
     "execution_count": 65,
     "metadata": {},
     "output_type": "execute_result"
    }
   ],
   "source": [
    "diffs = abs(torch.sigmoid(y_pred) - y_target)\n",
    "acc = torch.sum(diffs > .5e-5).item() / diffs.shape[0]\n",
    "acc"
   ]
  },
  {
   "cell_type": "code",
   "execution_count": 66,
   "metadata": {},
   "outputs": [
    {
     "data": {
      "text/plain": [
       "[<matplotlib.lines.Line2D at 0x1a211b7358>,\n",
       " <matplotlib.lines.Line2D at 0x1a211b74a8>]"
      ]
     },
     "execution_count": 66,
     "metadata": {},
     "output_type": "execute_result"
    },
    {
     "data": {
      "image/png": "[encoded data removed]",
      "text/plain": [
       "<Figure size 432x288 with 1 Axes>"
      ]
     },
     "metadata": {
      "needs_background": "light"
     },
     "output_type": "display_data"
    }
   ],
   "source": [
    "plt.plot(hist)"
   ]
  },
  {
   "cell_type": "code",
   "execution_count": 67,
   "metadata": {},
   "outputs": [
    {
     "data": {
      "text/plain": [
       "tensor([[0.0019],\n",
       "        [0.0026],\n",
       "        [0.0025],\n",
       "        [0.0066],\n",
       "        [0.0044],\n",
       "        [0.0627],\n",
       "        [0.0168],\n",
       "        [0.0077],\n",
       "        [0.0032],\n",
       "        [0.0059],\n",
       "        [0.0061],\n",
       "        [0.0175],\n",
       "        [0.0032],\n",
       "        [0.0038],\n",
       "        [0.0141],\n",
       "        [0.0019]], grad_fn=<AbsBackward>)"
      ]
     },
     "execution_count": 67,
     "metadata": {},
     "output_type": "execute_result"
    }
   ],
   "source": [
    "diffs"
   ]
  },
  {
   "cell_type": "code",
   "execution_count": 68,
   "metadata": {},
   "outputs": [],
   "source": [
    "data_dict = next(iter(dataloader))"
   ]
  },
  {
   "cell_type": "code",
   "execution_count": 69,
   "metadata": {},
   "outputs": [],
   "source": [
    "x_data = data_dict['x_data']\n",
    "y_target = data_dict['y_target']"
   ]
  },
  {
   "cell_type": "code",
   "execution_count": 70,
   "metadata": {},
   "outputs": [],
   "source": [
    "y_pred = model(x_data, apply_sig=False)"
   ]
  },
  {
   "cell_type": "code",
   "execution_count": 71,
   "metadata": {},
   "outputs": [
    {
     "data": {
      "text/plain": [
       "tensor([[0.8210, 1.0000],\n",
       "        [0.3904, 0.0000],\n",
       "        [0.5075, 0.0000],\n",
       "        [0.4997, 1.0000],\n",
       "        [0.6106, 0.0000],\n",
       "        [0.3474, 1.0000],\n",
       "        [0.6321, 0.0000],\n",
       "        [0.5620, 0.0000],\n",
       "        [0.5228, 1.0000],\n",
       "        [0.7896, 1.0000],\n",
       "        [0.4609, 0.0000],\n",
       "        [0.4123, 1.0000],\n",
       "        [0.3717, 1.0000],\n",
       "        [0.3008, 1.0000],\n",
       "        [0.1786, 0.0000],\n",
       "        [0.7059, 1.0000]], grad_fn=<CatBackward>)"
      ]
     },
     "execution_count": 71,
     "metadata": {},
     "output_type": "execute_result"
    }
   ],
   "source": [
    "torch.cat([torch.sigmoid(y_pred), y_target], dim=1)"
   ]
  },
  {
   "cell_type": "code",
   "execution_count": 72,
   "metadata": {},
   "outputs": [
    {
     "data": {
      "text/plain": [
       "tensor(0.6903, grad_fn=<MeanBackward1>)"
      ]
     },
     "execution_count": 72,
     "metadata": {},
     "output_type": "execute_result"
    }
   ],
   "source": [
    "bce_loss(y_pred, y_target)"
   ]
  },
  {
   "cell_type": "markdown",
   "metadata": {},
   "source": [
    "# Multiple batches (SGD)"
   ]
  },
  {
   "cell_type": "code",
   "execution_count": 73,
   "metadata": {},
   "outputs": [],
   "source": [
    "hist = []\n",
    "import tqdm\n",
    "batch_size = 32"
   ]
  },
  {
   "cell_type": "code",
   "execution_count": 74,
   "metadata": {},
   "outputs": [],
   "source": [
    "def run_batch(model, run_type='train', dataset=None, \n",
    "              batch_size=None, shuffle=True, drop_last=False):\n",
    "    \n",
    "    dataset.set_split(run_type)\n",
    "    dataloader = DataLoader(dataset=dataset, batch_size=batch_size,\n",
    "                            shuffle=True, drop_last=False)\n",
    "    if run_type == 'train':\n",
    "        model = model.train()\n",
    "    else:\n",
    "        model = model.eval()\n",
    "    \n",
    "    running_loss = 0\n",
    "    running_acc = 0\n",
    "    \n",
    "    for batch_dict in tqdm.tqdm(dataloader):\n",
    "        \n",
    "        if model.training:\n",
    "            model.zero_grad()\n",
    "        \n",
    "        x_data = batch_dict['x_data'].to(device)\n",
    "        y_target = batch_dict['y_target'].to(device)\n",
    "        \n",
    "        y_pred = model(x_data)\n",
    "        loss = bce_loss(y_pred, y_target)\n",
    "        \n",
    "        if model.training:\n",
    "            loss.backward()\n",
    "        \n",
    "        diffs = abs(torch.sigmoid(y_pred) - y_target)\n",
    "        acc = torch.sum(diffs < .5).item()\n",
    "        \n",
    "        running_loss += loss * batch_dict['x_data'].shape[0]\n",
    "        running_acc += acc\n",
    "        \n",
    "        if model.training:\n",
    "            optim.step()\n",
    "        \n",
    "    running_loss = running_loss / len(dataset)\n",
    "    running_acc = running_acc / len(dataset)\n",
    "    \n",
    "    return running_loss, running_acc"
   ]
  },
  {
   "cell_type": "code",
   "execution_count": 76,
   "metadata": {},
   "outputs": [
    {
     "name": "stderr",
     "output_type": "stream",
     "text": [
      "100%|██████████| 1575/1575 [01:34<00:00, 16.74it/s]\n",
      "100%|██████████| 175/175 [00:07<00:00, 22.87it/s]\n",
      "  0%|          | 2/1575 [00:00<01:34, 16.69it/s]"
     ]
    },
    {
     "name": "stdout",
     "output_type": "stream",
     "text": [
      "0 :   0.21 93.0% :   0.22 92.1%\n"
     ]
    },
    {
     "name": "stderr",
     "output_type": "stream",
     "text": [
      "100%|██████████| 1575/1575 [01:28<00:00, 17.74it/s]\n",
      "100%|██████████| 175/175 [00:08<00:00, 19.96it/s]\n",
      "  0%|          | 2/1575 [00:00<01:37, 16.06it/s]"
     ]
    },
    {
     "name": "stdout",
     "output_type": "stream",
     "text": [
      "1 :   0.17 94.2% :   0.21 92.4%\n"
     ]
    },
    {
     "name": "stderr",
     "output_type": "stream",
     "text": [
      "100%|██████████| 1575/1575 [01:24<00:00, 18.70it/s]\n",
      "100%|██████████| 175/175 [00:08<00:00, 19.70it/s]\n",
      "  0%|          | 2/1575 [00:00<01:27, 17.89it/s]"
     ]
    },
    {
     "name": "stdout",
     "output_type": "stream",
     "text": [
      "2 :   0.15 95.0% :    0.2 92.5%\n"
     ]
    },
    {
     "name": "stderr",
     "output_type": "stream",
     "text": [
      "100%|██████████| 1575/1575 [01:39<00:00, 15.79it/s]\n",
      "100%|██████████| 175/175 [00:08<00:00, 20.87it/s]\n",
      "  0%|          | 2/1575 [00:00<01:34, 16.68it/s]"
     ]
    },
    {
     "name": "stdout",
     "output_type": "stream",
     "text": [
      "3 :   0.14 95.4% :    0.2 92.5%\n"
     ]
    },
    {
     "name": "stderr",
     "output_type": "stream",
     "text": [
      "100%|██████████| 1575/1575 [01:24<00:00, 18.53it/s]\n",
      "100%|██████████| 175/175 [00:08<00:00, 21.56it/s]\n",
      "  0%|          | 2/1575 [00:00<01:34, 16.67it/s]"
     ]
    },
    {
     "name": "stdout",
     "output_type": "stream",
     "text": [
      "4 :   0.13 95.9% :    0.2 92.3%\n"
     ]
    },
    {
     "name": "stderr",
     "output_type": "stream",
     "text": [
      "100%|██████████| 1575/1575 [01:21<00:00, 19.36it/s]\n",
      "100%|██████████| 175/175 [00:08<00:00, 20.12it/s]\n",
      "  0%|          | 2/1575 [00:00<01:26, 18.24it/s]"
     ]
    },
    {
     "name": "stdout",
     "output_type": "stream",
     "text": [
      "5 :   0.12 96.2% :    0.2 92.2%\n"
     ]
    },
    {
     "name": "stderr",
     "output_type": "stream",
     "text": [
      "100%|██████████| 1575/1575 [01:17<00:00, 20.30it/s]\n",
      "100%|██████████| 175/175 [00:07<00:00, 23.77it/s]\n",
      "  0%|          | 3/1575 [00:00<01:17, 20.24it/s]"
     ]
    },
    {
     "name": "stdout",
     "output_type": "stream",
     "text": [
      "6 :   0.11 96.5% :    0.2 92.5%\n"
     ]
    },
    {
     "name": "stderr",
     "output_type": "stream",
     "text": [
      "100%|██████████| 1575/1575 [01:15<00:00, 20.83it/s]\n",
      "100%|██████████| 175/175 [00:07<00:00, 22.80it/s]\n",
      "  0%|          | 2/1575 [00:00<01:26, 18.25it/s]"
     ]
    },
    {
     "name": "stdout",
     "output_type": "stream",
     "text": [
      "7 :    0.1 96.8% :   0.21 92.3%\n"
     ]
    },
    {
     "name": "stderr",
     "output_type": "stream",
     "text": [
      "100%|██████████| 1575/1575 [01:17<00:00, 20.27it/s]\n",
      "100%|██████████| 175/175 [00:08<00:00, 21.25it/s]\n",
      "  0%|          | 2/1575 [00:00<01:34, 16.72it/s]"
     ]
    },
    {
     "name": "stdout",
     "output_type": "stream",
     "text": [
      "8 :  0.099 97.0% :   0.21 92.2%\n"
     ]
    },
    {
     "name": "stderr",
     "output_type": "stream",
     "text": [
      "100%|██████████| 1575/1575 [01:21<00:00, 19.38it/s]\n",
      "100%|██████████| 175/175 [00:08<00:00, 21.22it/s]"
     ]
    },
    {
     "name": "stdout",
     "output_type": "stream",
     "text": [
      "9 :  0.094 97.2% :   0.21 92.2%\n"
     ]
    },
    {
     "name": "stderr",
     "output_type": "stream",
     "text": [
      "\n"
     ]
    }
   ],
   "source": [
    "for epoch in range(10):\n",
    "    \n",
    "    running_loss_train, running_acc_train = run_batch(model, run_type='train', \n",
    "                                                      dataset=dataset, batch_size=batch_size, \n",
    "                                                      shuffle=True, drop_last=False)\n",
    "    \n",
    "    running_loss_val, running_acc_val = run_batch(model, run_type='val', \n",
    "                                                  dataset=dataset, batch_size=batch_size, \n",
    "                                                  shuffle=True, drop_last=False)\n",
    "    \n",
    "    hist.append([running_loss_train, running_acc_train, running_loss_val, running_acc_val])\n",
    "        \n",
    "    print('{:0} : {:6.2} {:.1%} : {:6.2} {:.1%}'.format(epoch, running_loss_train, running_acc_train,\n",
    "                                                               running_loss_val, running_acc_val))"
   ]
  },
  {
   "cell_type": "code",
   "execution_count": 77,
   "metadata": {},
   "outputs": [
    {
     "data": {
      "text/plain": [
       "[<matplotlib.lines.Line2D at 0x1a227ad208>,\n",
       " <matplotlib.lines.Line2D at 0x1a227ad4a8>,\n",
       " <matplotlib.lines.Line2D at 0x1a227ad630>,\n",
       " <matplotlib.lines.Line2D at 0x1a227ad898>]"
      ]
     },
     "execution_count": 77,
     "metadata": {},
     "output_type": "execute_result"
    },
    {
     "data": {
      "image/png": "[encoded data removed]",
      "text/plain": [
       "<Figure size 432x288 with 1 Axes>"
      ]
     },
     "metadata": {
      "needs_background": "light"
     },
     "output_type": "display_data"
    }
   ],
   "source": [
    "plt.plot(hist)"
   ]
  },
  {
   "cell_type": "code",
   "execution_count": 83,
   "metadata": {},
   "outputs": [
    {
     "name": "stderr",
     "output_type": "stream",
     "text": [
      "100%|██████████| 119/119 [00:05<00:00, 20.95it/s]\n"
     ]
    }
   ],
   "source": [
    "running_loss_test, running_acc_test = run_batch(model, run_type='test', \n",
    "                                                dataset=dataset, batch_size=batch_size, \n",
    "                                                shuffle=True, drop_last=False)"
   ]
  },
  {
   "cell_type": "code",
   "execution_count": 84,
   "metadata": {},
   "outputs": [
    {
     "name": "stdout",
     "output_type": "stream",
     "text": [
      "0.19227318465709686 0.9281578947368421\n"
     ]
    }
   ],
   "source": [
    "print(running_loss_test.item(), running_acc_test)"
   ]
  },
  {
   "cell_type": "markdown",
   "metadata": {},
   "source": [
    "# Find incorrect test examples"
   ]
  },
  {
   "cell_type": "code",
   "execution_count": 264,
   "metadata": {},
   "outputs": [],
   "source": [
    "dataset.set_split('test')\n",
    "dataloader = DataLoader(dataset=dataset, batch_size=batch_size,\n",
    "                        shuffle=True, drop_last=False)\n",
    "model = model.eval()"
   ]
  },
  {
   "cell_type": "code",
   "execution_count": 265,
   "metadata": {},
   "outputs": [],
   "source": [
    "batch = next(iter(dataloader))"
   ]
  },
  {
   "cell_type": "code",
   "execution_count": 266,
   "metadata": {},
   "outputs": [],
   "source": [
    "idx = batch['idx']\n",
    "x_data = batch['x_data'].to(device)\n",
    "y_target = batch['y_target'].to(device)"
   ]
  },
  {
   "cell_type": "code",
   "execution_count": 267,
   "metadata": {},
   "outputs": [
    {
     "data": {
      "text/plain": [
       "tensor([3018,  554, 1723, 2293, 1399, 2116, 3265, 3174, 1295, 1104, 1646,  298,\n",
       "        1262,   23,  578, 3702, 2487,  188, 2962, 3673, 3601,  247, 1857, 2123,\n",
       "        2039, 1711, 1970,  116, 2654,  601, 2698,  472])"
      ]
     },
     "execution_count": 267,
     "metadata": {},
     "output_type": "execute_result"
    }
   ],
   "source": [
    "idx"
   ]
  },
  {
   "cell_type": "code",
   "execution_count": 268,
   "metadata": {},
   "outputs": [],
   "source": [
    "y_pred = torch.sigmoid(model(x_data))"
   ]
  },
  {
   "cell_type": "code",
   "execution_count": 269,
   "metadata": {},
   "outputs": [],
   "source": [
    "miss = torch.round(y_pred) != y_target"
   ]
  },
  {
   "cell_type": "code",
   "execution_count": 270,
   "metadata": {},
   "outputs": [
    {
     "data": {
      "text/plain": [
       "[0, 2, 3, 4]"
      ]
     },
     "execution_count": 270,
     "metadata": {},
     "output_type": "execute_result"
    }
   ],
   "source": [
    "miss_list = list(miss.nonzero()[:,0].numpy())\n",
    "miss_list"
   ]
  },
  {
   "cell_type": "code",
   "execution_count": 271,
   "metadata": {},
   "outputs": [
    {
     "data": {
      "text/plain": [
       "[3018, 1723, 2293, 1399]"
      ]
     },
     "execution_count": 271,
     "metadata": {},
     "output_type": "execute_result"
    }
   ],
   "source": [
    "idx_miss = list(idx[miss_list].numpy())\n",
    "idx_miss"
   ]
  },
  {
   "cell_type": "code",
   "execution_count": 272,
   "metadata": {},
   "outputs": [
    {
     "name": "stdout",
     "output_type": "stream",
     "text": [
      "i have used smw for many years for routine maintenance on my a c and heater . i knew the unit was old , but for years they have been repairing it as needed , until finally they gave me the opinion that it needed to be replaced . i had to wait a couple days for the scheduled replacement , and during that time the a c died completely . scott came out to my house in the evening , just to see if there was anything he could do to get an extra day or two , but no luck . they moved up my installation time , and there was no charge for the extra service visit . i love my new unit and would never consider using any other company for my a c needs . \n",
      "tensor([0.3086], grad_fn=<SelectBackward>) tensor([1.])\n",
      "\n",
      "i strongly dislike this airport . i had to catch a connecting flight from phoenix to maui in another terminal . i had no idea i had to leave security , catch a bus , and then go through the tsa line again to get to the other terminal . i have an especially bitter taste in my mouth for sky harbor because this is where i lost my college class ring ! in my mind the only redeeming part of sky harbor is bar fly , the coolest airport bar ever . \n",
      "tensor([0.5384], grad_fn=<SelectBackward>) tensor([0.])\n",
      "\n",
      "this place is awesome . i brought my jeep cherokee because my brakes were making a squeezing noise . the owner said that i just need back brakes and my front brakes had another k miles on them . i will not go to another place . if i had brought my car to another shop , they would have told me to change the front brakes too . \n",
      "tensor([0.2674], grad_fn=<SelectBackward>) tensor([1.])\n",
      "\n",
      "i ordered some food to go and my order wasn t right so i came back . the manager , alex i believe , was very understanding about the fact that i was upset about having to come back so he compensated for my time . this experience wont keep me from coming back . the food was good as usual\n",
      "tensor([0.3826], grad_fn=<SelectBackward>) tensor([1.])\n",
      "\n"
     ]
    }
   ],
   "source": [
    "for i, idx in enumerate(miss_list):\n",
    "    print(dataset.get_text(idx_miss[i])['review'])\n",
    "    print(y_pred[idx], y_target[idx])\n",
    "    print()"
   ]
  },
  {
   "cell_type": "code",
   "execution_count": 281,
   "metadata": {},
   "outputs": [],
   "source": [
    "def predict(text):\n",
    "    pred = torch.round(torch.sigmoid(model(vectorizer.vectorize(text)))).item()\n",
    "    if pred == 1:\n",
    "        return 'positive'\n",
    "    else:\n",
    "        return 'negative'"
   ]
  },
  {
   "cell_type": "code",
   "execution_count": 289,
   "metadata": {},
   "outputs": [
    {
     "data": {
      "text/plain": [
       "'good'"
      ]
     },
     "execution_count": 289,
     "metadata": {},
     "output_type": "execute_result"
    }
   ],
   "source": [
    "predict('this is a pretty awesome book !')"
   ]
  },
  {
   "cell_type": "markdown",
   "metadata": {},
   "source": [
    "# Since BOW, looks at weights of words"
   ]
  },
  {
   "cell_type": "code",
   "execution_count": 303,
   "metadata": {},
   "outputs": [
    {
     "name": "stdout",
     "output_type": "stream",
     "text": [
      "ReviewClassifier(\n",
      "  (fc): Linear(in_features=63524, out_features=1, bias=True)\n",
      ")\n"
     ]
    }
   ],
   "source": [
    "print(model)"
   ]
  },
  {
   "cell_type": "code",
   "execution_count": 300,
   "metadata": {},
   "outputs": [
    {
     "data": {
      "text/plain": [
       "tensor([-0.0001, -1.0666,  0.0737,  ..., -0.0038, -0.0032,  0.0008])"
      ]
     },
     "execution_count": 300,
     "metadata": {},
     "output_type": "execute_result"
    }
   ],
   "source": [
    "fc_weights = model.fc.weight.detach().squeeze()\n",
    "fc_weights"
   ]
  },
  {
   "cell_type": "code",
   "execution_count": 322,
   "metadata": {},
   "outputs": [
    {
     "data": {
      "text/plain": [
       "[444, 768, 275, 736, 682, 4883, 645, 1515, 95, 1816]"
      ]
     },
     "execution_count": 322,
     "metadata": {},
     "output_type": "execute_result"
    }
   ],
   "source": [
    "_, indices = torch.sort(fc_weights, dim=0, descending=True)\n",
    "indices = list(indices.numpy())\n",
    "indices[:10]"
   ]
  },
  {
   "cell_type": "code",
   "execution_count": 321,
   "metadata": {},
   "outputs": [
    {
     "name": "stdout",
     "output_type": "stream",
     "text": [
      "pleasantly\n",
      "delicious\n",
      "fantastic\n",
      "excellent\n",
      "amazing\n",
      "ngreat\n",
      "awesome\n",
      "perfect\n",
      "great\n",
      "yummy\n"
     ]
    }
   ],
   "source": [
    "for idx in indices[:10]:\n",
    "    print(vectorizer.reviews_vocab.lookup_index(idx))"
   ]
  },
  {
   "cell_type": "code",
   "execution_count": 324,
   "metadata": {},
   "outputs": [
    {
     "data": {
      "text/plain": [
       "[3050, 2394, 1596, 28, 1426, 2180, 2989, 3134, 1977, 1433]"
      ]
     },
     "execution_count": 324,
     "metadata": {},
     "output_type": "execute_result"
    }
   ],
   "source": [
    "indices[-10:]"
   ]
  },
  {
   "cell_type": "code",
   "execution_count": 325,
   "metadata": {},
   "outputs": [
    {
     "name": "stdout",
     "output_type": "stream",
     "text": [
      "underwhelmed\n",
      "slowest\n",
      "rude\n",
      "terrible\n",
      "awful\n",
      "horrible\n",
      "meh\n",
      "mediocre\n",
      "bland\n",
      "worst\n"
     ]
    }
   ],
   "source": [
    "for idx in indices[-10:]:\n",
    "    print(vectorizer.reviews_vocab.lookup_index(idx))"
   ]
  },
  {
   "cell_type": "code",
   "execution_count": null,
   "metadata": {},
   "outputs": [],
   "source": []
  }
 ],
 "metadata": {
  "kernelspec": {
   "display_name": "Python 3",
   "language": "python",
   "name": "python3"
  },
  "language_info": {
   "codemirror_mode": {
    "name": "ipython",
    "version": 3
   },
   "file_extension": ".py",
   "mimetype": "text/x-python",
   "name": "python",
   "nbconvert_exporter": "python",
   "pygments_lexer": "ipython3",
   "version": "3.7.1"
  }
 },
 "nbformat": 4,
 "nbformat_minor": 2
}
