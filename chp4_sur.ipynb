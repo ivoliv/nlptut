{
 "cells": [
  {
   "cell_type": "code",
   "execution_count": 1,
   "metadata": {},
   "outputs": [],
   "source": [
    "from chp4_sur import SurnamesDataset, SurnamesVectorizer\n",
    "import torch\n",
    "from torch import nn\n",
    "import torch.nn.functional as F\n",
    "import pdb"
   ]
  },
  {
   "cell_type": "code",
   "execution_count": 2,
   "metadata": {},
   "outputs": [],
   "source": [
    "filename = './data/data/names/full_dataset.csv'\n",
    "dataset = SurnamesDataset.load_dataset_and_make_vectorizer(filename)"
   ]
  },
  {
   "cell_type": "code",
   "execution_count": 3,
   "metadata": {},
   "outputs": [
    {
     "data": {
      "text/plain": [
       "86"
      ]
     },
     "execution_count": 3,
     "metadata": {},
     "output_type": "execute_result"
    }
   ],
   "source": [
    "dataset.input_size()"
   ]
  },
  {
   "cell_type": "code",
   "execution_count": 4,
   "metadata": {},
   "outputs": [
    {
     "data": {
      "text/plain": [
       "18"
      ]
     },
     "execution_count": 4,
     "metadata": {},
     "output_type": "execute_result"
    }
   ],
   "source": [
    "dataset.output_size()"
   ]
  },
  {
   "cell_type": "code",
   "execution_count": 5,
   "metadata": {},
   "outputs": [
    {
     "data": {
      "text/plain": [
       "Unnamed: 0       2441\n",
       "surname        Sayegh\n",
       "nationality    Arabic\n",
       "split           train\n",
       "Name: 0, dtype: object"
      ]
     },
     "execution_count": 5,
     "metadata": {},
     "output_type": "execute_result"
    }
   ],
   "source": [
    "dataset.get_item(0)"
   ]
  },
  {
   "cell_type": "code",
   "execution_count": 6,
   "metadata": {},
   "outputs": [
    {
     "name": "stdout",
     "output_type": "stream",
     "text": [
      "{'idx': 0, 'x_data': tensor([0., 1., 1., 1., 1., 1., 1., 0., 0., 0., 0., 0., 0., 0., 0., 0., 0., 0.,\n",
      "        0., 0., 0., 0., 0., 0., 0., 0., 0., 0., 0., 0., 0., 0., 0., 0., 0., 0.,\n",
      "        0., 0., 0., 0., 0., 0., 0., 0., 0., 0., 0., 0., 0., 0., 0., 0., 0., 0.,\n",
      "        0., 0., 0., 0., 0., 0., 0., 0., 0., 0., 0., 0., 0., 0., 0., 0., 0., 0.,\n",
      "        0., 0., 0., 0., 0., 0., 0., 0., 0., 0., 0., 0., 0., 0.]), 'y_target': tensor([0])}\n",
      "{'idx': 1, 'x_data': tensor([0., 0., 1., 0., 0., 0., 1., 1., 1., 1., 1., 0., 0., 0., 0., 0., 0., 0.,\n",
      "        0., 0., 0., 0., 0., 0., 0., 0., 0., 0., 0., 0., 0., 0., 0., 0., 0., 0.,\n",
      "        0., 0., 0., 0., 0., 0., 0., 0., 0., 0., 0., 0., 0., 0., 0., 0., 0., 0.,\n",
      "        0., 0., 0., 0., 0., 0., 0., 0., 0., 0., 0., 0., 0., 0., 0., 0., 0., 0.,\n",
      "        0., 0., 0., 0., 0., 0., 0., 0., 0., 0., 0., 0., 0., 0.]), 'y_target': tensor([1])}\n"
     ]
    }
   ],
   "source": [
    "dataset.head(2)"
   ]
  },
  {
   "cell_type": "code",
   "execution_count": 7,
   "metadata": {},
   "outputs": [],
   "source": [
    "class SurnamesMLP(nn.Module):\n",
    "    def __init__(self, input_vocab_size, hidden_size, output_vocab_size):\n",
    "        super(SurnamesMLP, self).__init__()\n",
    "        self.fc1 = nn.Linear(input_vocab_size, hidden_size)\n",
    "        self.fc2 = nn.Linear(hidden_size, output_vocab_size)\n",
    "        \n",
    "    def forward(self, input_vec, apply_softmax=True):\n",
    "        hidden = F.relu(self.fc1(input_vec))\n",
    "        output = self.fc2(hidden)\n",
    "        if apply_softmax == True:\n",
    "            output = torch.softmax(output, dim=1)\n",
    "        return output"
   ]
  },
  {
   "cell_type": "code",
   "execution_count": 8,
   "metadata": {},
   "outputs": [],
   "source": [
    "model = SurnamesMLP(dataset.input_size(), 10, dataset.output_size())"
   ]
  },
  {
   "cell_type": "code",
   "execution_count": 9,
   "metadata": {},
   "outputs": [
    {
     "name": "stdout",
     "output_type": "stream",
     "text": [
      "SurnamesMLP(\n",
      "  (fc1): Linear(in_features=86, out_features=10, bias=True)\n",
      "  (fc2): Linear(in_features=10, out_features=18, bias=True)\n",
      ")\n"
     ]
    }
   ],
   "source": [
    "print(model)"
   ]
  },
  {
   "cell_type": "code",
   "execution_count": 10,
   "metadata": {},
   "outputs": [
    {
     "data": {
      "text/plain": [
       "(tensor([0., 1., 1., 1., 1., 1., 1., 0., 0., 0., 0., 0., 0., 0., 0., 0., 0., 0.,\n",
       "         0., 0., 0., 0., 0., 0., 0., 0., 0., 0., 0., 0., 0., 0., 0., 0., 0., 0.,\n",
       "         0., 0., 0., 0., 0., 0., 0., 0., 0., 0., 0., 0., 0., 0., 0., 0., 0., 0.,\n",
       "         0., 0., 0., 0., 0., 0., 0., 0., 0., 0., 0., 0., 0., 0., 0., 0., 0., 0.,\n",
       "         0., 0., 0., 0., 0., 0., 0., 0., 0., 0., 0., 0., 0., 0.]), tensor([0]))"
      ]
     },
     "execution_count": 10,
     "metadata": {},
     "output_type": "execute_result"
    }
   ],
   "source": [
    "x_data_from_dataset = next(iter(dataset))['x_data']\n",
    "y_target_from_dataset = next(iter(dataset))['y_target']\n",
    "x_data_from_dataset, y_target_from_dataset"
   ]
  },
  {
   "cell_type": "code",
   "execution_count": 11,
   "metadata": {},
   "outputs": [],
   "source": [
    "from torch.utils.data import DataLoader\n",
    "dataloader = DataLoader(dataset=dataset, batch_size=4, \n",
    "                        drop_last=False, shuffle=True)"
   ]
  },
  {
   "cell_type": "code",
   "execution_count": 12,
   "metadata": {},
   "outputs": [
    {
     "data": {
      "text/plain": [
       "(tensor([[0., 0., 0., 0., 1., 0., 0., 0., 0., 0., 0., 0., 0., 1., 0., 0., 0., 0.,\n",
       "          0., 0., 1., 1., 0., 0., 0., 0., 0., 1., 0., 0., 0., 1., 0., 0., 0., 0.,\n",
       "          0., 0., 0., 0., 0., 0., 0., 0., 0., 0., 0., 0., 0., 0., 0., 0., 0., 0.,\n",
       "          0., 0., 0., 0., 0., 0., 0., 0., 0., 0., 0., 0., 0., 0., 0., 0., 0., 0.,\n",
       "          0., 0., 0., 0., 0., 0., 0., 0., 0., 0., 0., 0., 0., 0.],\n",
       "         [0., 0., 0., 0., 0., 1., 0., 0., 0., 0., 1., 0., 0., 0., 0., 0., 0., 0.,\n",
       "          0., 0., 1., 1., 0., 0., 0., 0., 0., 0., 1., 0., 0., 0., 1., 0., 0., 0.,\n",
       "          0., 0., 0., 0., 0., 0., 0., 0., 0., 0., 0., 0., 0., 0., 0., 0., 0., 0.,\n",
       "          0., 0., 0., 0., 0., 0., 0., 0., 0., 0., 0., 0., 0., 0., 0., 0., 0., 0.,\n",
       "          0., 0., 0., 0., 0., 0., 0., 0., 0., 0., 0., 0., 0., 0.],\n",
       "         [0., 0., 1., 1., 1., 0., 0., 0., 0., 0., 0., 0., 0., 0., 0., 0., 0., 0.,\n",
       "          1., 0., 0., 0., 1., 0., 0., 0., 1., 0., 0., 0., 0., 0., 0., 0., 0., 0.,\n",
       "          0., 0., 0., 0., 0., 0., 0., 0., 0., 0., 0., 0., 0., 0., 0., 0., 0., 0.,\n",
       "          0., 0., 0., 0., 0., 0., 0., 0., 0., 0., 0., 0., 0., 0., 0., 0., 0., 0.,\n",
       "          0., 0., 0., 0., 0., 0., 0., 0., 0., 0., 0., 0., 0., 0.],\n",
       "         [0., 1., 1., 0., 0., 0., 1., 0., 0., 0., 0., 0., 1., 0., 0., 0., 0., 0.,\n",
       "          0., 0., 0., 0., 0., 0., 0., 0., 0., 0., 0., 0., 0., 0., 0., 0., 0., 0.,\n",
       "          0., 0., 0., 0., 0., 0., 0., 0., 0., 0., 0., 0., 0., 0., 0., 0., 0., 0.,\n",
       "          0., 0., 0., 0., 0., 0., 0., 0., 0., 0., 0., 0., 0., 0., 0., 0., 0., 0.,\n",
       "          0., 0., 0., 0., 0., 0., 0., 0., 0., 0., 0., 0., 0., 0.]]),\n",
       " tensor([[ 1],\n",
       "         [10],\n",
       "         [ 7],\n",
       "         [ 0]]))"
      ]
     },
     "execution_count": 12,
     "metadata": {},
     "output_type": "execute_result"
    }
   ],
   "source": [
    "sample = next(iter(dataloader))\n",
    "x_data = sample['x_data']\n",
    "y_target = sample['y_target']\n",
    "x_data, y_target"
   ]
  },
  {
   "cell_type": "code",
   "execution_count": 13,
   "metadata": {},
   "outputs": [
    {
     "name": "stdout",
     "output_type": "stream",
     "text": [
      "tensor([[ 0.3019, -0.2006,  0.2824,  0.3119,  0.2956,  0.0100, -0.1395,  0.2424,\n",
      "         -0.2681, -0.2305,  0.1721, -0.0869, -0.1734,  0.2923, -0.3103, -0.0373,\n",
      "         -0.1127,  0.0471],\n",
      "        [ 0.2553, -0.0876,  0.1538,  0.2243,  0.2423,  0.0252, -0.1251,  0.2008,\n",
      "         -0.3281, -0.1914,  0.1393, -0.1206, -0.2979,  0.3356, -0.3766, -0.1521,\n",
      "         -0.1491, -0.0566],\n",
      "        [ 0.3503, -0.1461,  0.1797,  0.2774,  0.2793,  0.0210, -0.1106,  0.2323,\n",
      "         -0.2821, -0.1579,  0.0865, -0.0712, -0.2495,  0.3214, -0.2993, -0.1021,\n",
      "         -0.2034, -0.0445],\n",
      "        [ 0.2801, -0.1908,  0.2382,  0.2819,  0.2721,  0.0358, -0.1513,  0.2410,\n",
      "         -0.3041, -0.2390,  0.1719, -0.0605, -0.2241,  0.3007, -0.2855, -0.0246,\n",
      "         -0.1517,  0.0461]], grad_fn=<ThAddmmBackward>)\n",
      "tensor([ 1, 10,  7,  0])\n"
     ]
    }
   ],
   "source": [
    "y_pred = model(x_data, apply_softmax=False)\n",
    "print(y_pred)\n",
    "print(y_target.view(-1))"
   ]
  },
  {
   "cell_type": "code",
   "execution_count": 14,
   "metadata": {},
   "outputs": [],
   "source": [
    "ce_loss = nn.CrossEntropyLoss()"
   ]
  },
  {
   "cell_type": "code",
   "execution_count": 15,
   "metadata": {},
   "outputs": [
    {
     "data": {
      "text/plain": [
       "tensor(2.8064, grad_fn=<NllLossBackward>)"
      ]
     },
     "execution_count": 15,
     "metadata": {},
     "output_type": "execute_result"
    }
   ],
   "source": [
    "ce_loss(y_pred, y_target.view(-1))"
   ]
  },
  {
   "cell_type": "code",
   "execution_count": 16,
   "metadata": {},
   "outputs": [
    {
     "data": {
      "text/plain": [
       "tensor(2.8064)"
      ]
     },
     "execution_count": 16,
     "metadata": {},
     "output_type": "execute_result"
    }
   ],
   "source": [
    "# Manual check:\n",
    "sf_mx = torch.softmax(y_pred, dim=1)\n",
    "torch.mean(-torch.log(torch.tensor([sf_mx[i, val.item()] for i, val in enumerate(y_target)])))"
   ]
  },
  {
   "cell_type": "code",
   "execution_count": 17,
   "metadata": {},
   "outputs": [],
   "source": [
    "from torch.optim import Adam\n",
    "from tqdm import tqdm as tqdm"
   ]
  },
  {
   "cell_type": "code",
   "execution_count": 18,
   "metadata": {},
   "outputs": [],
   "source": [
    "model = SurnamesMLP(dataset.input_size(), 300, dataset.output_size())\n",
    "optim = Adam(params=model.parameters(), lr=0.001)"
   ]
  },
  {
   "cell_type": "code",
   "execution_count": 19,
   "metadata": {},
   "outputs": [],
   "source": [
    "def run_batch(model, dataset, batch_type, batch_size):\n",
    "\n",
    "    dataset.set_split(batch_type)\n",
    "    dataloader = DataLoader(dataset=dataset, batch_size=batch_size, \n",
    "                            drop_last=False, shuffle=True)\n",
    "\n",
    "    running_loss = 0\n",
    "    running_acc = 0\n",
    "\n",
    "    if batch_type == 'train':\n",
    "        model.train()\n",
    "    else:\n",
    "        model.eval()\n",
    "\n",
    "    #for sample in tqdm(dataloader, desc='{:<{w}}'.format(batch_type, w=6)):\n",
    "    for sample in dataloader:\n",
    "\n",
    "        if model.training:\n",
    "            model.zero_grad()\n",
    "\n",
    "        x_data = sample['x_data']\n",
    "        y_target = sample['y_target']\n",
    "\n",
    "        y_pred = model(x_data)\n",
    "        loss = ce_loss(y_pred, y_target.view(-1))\n",
    "\n",
    "        _, idx = torch.topk(torch.softmax(y_pred, dim=1), 1)\n",
    "        acc = sum(y_target == idx).float()\n",
    "\n",
    "        if model.training:\n",
    "            loss.backward()\n",
    "            optim.step()\n",
    "\n",
    "        running_loss += loss * x_data.shape[0]\n",
    "        running_acc += acc\n",
    "\n",
    "    running_loss /= len(dataset)\n",
    "    running_acc /= len(dataset)\n",
    "    \n",
    "    return round(running_loss.item(),4), round(running_acc.item(),4)"
   ]
  },
  {
   "cell_type": "code",
   "execution_count": 20,
   "metadata": {},
   "outputs": [
    {
     "name": "stdout",
     "output_type": "stream",
     "text": [
      "1 / 100 : (2.6586, 0.3994) (2.5192, 0.498)\n",
      "2 / 100 : (2.495, 0.5051) (2.482, 0.5132)\n",
      "3 / 100 : (2.4738, 0.521) (2.4726, 0.5166)\n",
      "4 / 100 : (2.4632, 0.5293) (2.4645, 0.5259)\n",
      "5 / 100 : (2.457, 0.5332) (2.4598, 0.5337)\n",
      "6 / 100 : (2.4515, 0.5384) (2.456, 0.5337)\n",
      "7 / 100 : (2.4472, 0.5415) (2.4522, 0.5366)\n",
      "8 / 100 : (2.4436, 0.5453) (2.4503, 0.5366)\n",
      "9 / 100 : (2.4399, 0.5489) (2.4489, 0.5366)\n",
      "10 / 100 : (2.4364, 0.552) (2.4459, 0.539)\n",
      "11 / 100 : (2.4334, 0.5544) (2.4439, 0.542)\n",
      "12 / 100 : (2.4251, 0.5645) (2.4292, 0.561)\n",
      "13 / 100 : (2.4069, 0.5855) (2.4164, 0.5698)\n",
      "14 / 100 : (2.3973, 0.5934) (2.4112, 0.5751)\n",
      "15 / 100 : (2.3914, 0.5989) (2.4065, 0.581)\n",
      "16 / 100 : (2.3866, 0.6037) (2.4031, 0.581)\n",
      "17 / 100 : (2.3808, 0.6089) (2.3993, 0.5859)\n",
      "18 / 100 : (2.376, 0.6153) (2.3958, 0.5951)\n",
      "19 / 100 : (2.3727, 0.6172) (2.3934, 0.5951)\n",
      "20 / 100 : (2.3696, 0.6207) (2.3906, 0.598)\n",
      "21 / 100 : (2.3661, 0.6232) (2.3884, 0.6005)\n",
      "22 / 100 : (2.363, 0.6266) (2.3863, 0.601)\n",
      "23 / 100 : (2.3605, 0.6294) (2.3851, 0.6015)\n",
      "24 / 100 : (2.3575, 0.6329) (2.382, 0.6063)\n",
      "25 / 100 : (2.3542, 0.6345) (2.3821, 0.6068)\n",
      "26 / 100 : (2.3517, 0.6377) (2.3791, 0.6112)\n",
      "27 / 100 : (2.3486, 0.6407) (2.376, 0.6132)\n",
      "28 / 100 : (2.3455, 0.6454) (2.3761, 0.6078)\n",
      "29 / 100 : (2.3432, 0.6466) (2.3723, 0.618)\n",
      "30 / 100 : (2.341, 0.6492) (2.3699, 0.6156)\n",
      "31 / 100 : (2.3389, 0.6519) (2.3682, 0.6185)\n",
      "32 / 100 : (2.336, 0.6539) (2.368, 0.618)\n",
      "33 / 100 : (2.3342, 0.6565) (2.3676, 0.6171)\n",
      "34 / 100 : (2.3318, 0.6586) (2.3679, 0.6146)\n",
      "35 / 100 : (2.3284, 0.6633) (2.3665, 0.6171)\n",
      "36 / 100 : (2.3247, 0.6677) (2.3628, 0.6215)\n",
      "37 / 100 : (2.3218, 0.6692) (2.3633, 0.6239)\n",
      "38 / 100 : (2.3192, 0.6724) (2.3588, 0.6322)\n",
      "39 / 100 : (2.316, 0.6754) (2.3582, 0.6273)\n",
      "40 / 100 : (2.3128, 0.6785) (2.3576, 0.6268)\n",
      "41 / 100 : (2.3098, 0.681) (2.357, 0.6322)\n",
      "42 / 100 : (2.3068, 0.6845) (2.357, 0.6263)\n",
      "43 / 100 : (2.3041, 0.6881) (2.3527, 0.6337)\n",
      "44 / 100 : (2.3016, 0.6916) (2.3535, 0.6283)\n",
      "45 / 100 : (2.2991, 0.6933) (2.3538, 0.6302)\n",
      "46 / 100 : (2.2976, 0.6946) (2.3524, 0.6302)\n",
      "47 / 100 : (2.2948, 0.6977) (2.3506, 0.6322)\n",
      "48 / 100 : (2.2937, 0.6988) (2.3511, 0.6351)\n",
      "49 / 100 : (2.2915, 0.7014) (2.3488, 0.6356)\n",
      "50 / 100 : (2.2902, 0.7017) (2.3493, 0.6351)\n",
      "51 / 100 : (2.2884, 0.703) (2.3476, 0.6395)\n",
      "52 / 100 : (2.2869, 0.7046) (2.3487, 0.6356)\n",
      "53 / 100 : (2.2854, 0.707) (2.347, 0.638)\n",
      "54 / 100 : (2.2839, 0.7082) (2.3484, 0.6322)\n",
      "55 / 100 : (2.2824, 0.709) (2.3471, 0.6366)\n",
      "56 / 100 : (2.2819, 0.7099) (2.3475, 0.638)\n",
      "57 / 100 : (2.2805, 0.7103) (2.3457, 0.6385)\n",
      "58 / 100 : (2.2793, 0.7118) (2.3458, 0.6395)\n",
      "59 / 100 : (2.2783, 0.7126) (2.347, 0.639)\n",
      "60 / 100 : (2.2773, 0.7122) (2.3461, 0.6366)\n",
      "61 / 100 : (2.2761, 0.7146) (2.3452, 0.64)\n",
      "62 / 100 : (2.2746, 0.717) (2.3449, 0.6376)\n",
      "63 / 100 : (2.2735, 0.717) (2.3469, 0.6361)\n",
      "64 / 100 : (2.2727, 0.7184) (2.346, 0.638)\n",
      "65 / 100 : (2.2718, 0.7189) (2.3461, 0.6385)\n",
      "66 / 100 : (2.2707, 0.7201) (2.3456, 0.638)\n",
      "67 / 100 : (2.2697, 0.7206) (2.3444, 0.6395)\n",
      "68 / 100 : (2.2692, 0.7216) (2.3423, 0.6385)\n",
      "69 / 100 : (2.2683, 0.7228) (2.3442, 0.6376)\n",
      "70 / 100 : (2.2671, 0.7228) (2.3436, 0.6385)\n",
      "71 / 100 : (2.2669, 0.7229) (2.3427, 0.639)\n",
      "72 / 100 : (2.2662, 0.7236) (2.3434, 0.6415)\n",
      "73 / 100 : (2.265, 0.7242) (2.345, 0.638)\n",
      "74 / 100 : (2.2648, 0.7243) (2.3427, 0.64)\n",
      "75 / 100 : (2.2638, 0.7246) (2.3437, 0.64)\n",
      "76 / 100 : (2.2631, 0.7263) (2.3445, 0.638)\n",
      "77 / 100 : (2.2625, 0.7259) (2.3442, 0.6371)\n",
      "78 / 100 : (2.2617, 0.7267) (2.3418, 0.6444)\n",
      "79 / 100 : (2.2619, 0.7257) (2.3437, 0.6395)\n",
      "80 / 100 : (2.2607, 0.7271) (2.343, 0.6405)\n",
      "81 / 100 : (2.26, 0.7283) (2.3438, 0.6415)\n",
      "82 / 100 : (2.2596, 0.7282) (2.3446, 0.638)\n",
      "83 / 100 : (2.2591, 0.7287) (2.3424, 0.6385)\n",
      "84 / 100 : (2.2583, 0.729) (2.3419, 0.642)\n",
      "85 / 100 : (2.2579, 0.7291) (2.3436, 0.6385)\n",
      "86 / 100 : (2.2576, 0.7297) (2.3428, 0.642)\n",
      "87 / 100 : (2.2567, 0.7301) (2.3428, 0.6385)\n",
      "88 / 100 : (2.2565, 0.7304) (2.3413, 0.6415)\n",
      "89 / 100 : (2.2561, 0.7302) (2.3428, 0.6395)\n",
      "90 / 100 : (2.2557, 0.7307) (2.342, 0.642)\n",
      "91 / 100 : (2.255, 0.7313) (2.3421, 0.6424)\n",
      "92 / 100 : (2.2545, 0.7315) (2.3438, 0.638)\n",
      "93 / 100 : (2.2541, 0.7321) (2.3413, 0.6434)\n",
      "94 / 100 : (2.2535, 0.7322) (2.3424, 0.64)\n",
      "95 / 100 : (2.253, 0.7327) (2.3417, 0.6405)\n",
      "96 / 100 : (2.2526, 0.7332) (2.3425, 0.641)\n",
      "97 / 100 : (2.252, 0.7332) (2.3418, 0.6395)\n",
      "98 / 100 : (2.2518, 0.7334) (2.3436, 0.6376)\n",
      "99 / 100 : (2.2514, 0.7336) (2.3429, 0.639)\n",
      "100 / 100 : (2.2513, 0.7336) (2.3436, 0.6361)\n"
     ]
    }
   ],
   "source": [
    "num_epochs = 100\n",
    "hist = []\n",
    "for epoch in range(num_epochs):\n",
    "    tr_loss, tr_acc = run_batch(model, dataset, 'train', 64)\n",
    "    val_loss, val_acc = run_batch(model, dataset, 'val', 64)\n",
    "    print('{} / {} :'.format(epoch+1, num_epochs), (tr_loss, tr_acc), (val_loss, val_acc))\n",
    "    hist.append([tr_loss, tr_acc, val_loss, val_acc])"
   ]
  },
  {
   "cell_type": "code",
   "execution_count": 21,
   "metadata": {},
   "outputs": [],
   "source": [
    "import matplotlib.pyplot as plt\n",
    "import numpy as np"
   ]
  },
  {
   "cell_type": "code",
   "execution_count": 22,
   "metadata": {},
   "outputs": [],
   "source": [
    "hist = np.array(hist)"
   ]
  },
  {
   "cell_type": "code",
   "execution_count": 23,
   "metadata": {},
   "outputs": [
    {
     "data": {
      "text/plain": [
       "[<matplotlib.lines.Line2D at 0x1251a1b38>,\n",
       " <matplotlib.lines.Line2D at 0x1251af080>]"
      ]
     },
     "execution_count": 23,
     "metadata": {},
     "output_type": "execute_result"
    },
    {
     "data": {
      "image/png": "[encoded data removed]",
      "text/plain": [
       "<Figure size 432x288 with 1 Axes>"
      ]
     },
     "metadata": {
      "needs_background": "light"
     },
     "output_type": "display_data"
    }
   ],
   "source": [
    "plt.plot(hist[:,0], 'r', hist[:,2], 'g')"
   ]
  },
  {
   "cell_type": "code",
   "execution_count": 24,
   "metadata": {},
   "outputs": [
    {
     "data": {
      "text/plain": [
       "[<matplotlib.lines.Line2D at 0x1252a51d0>,\n",
       " <matplotlib.lines.Line2D at 0x1252a56d8>]"
      ]
     },
     "execution_count": 24,
     "metadata": {},
     "output_type": "execute_result"
    },
    {
     "data": {
      "image/png": "[encoded data removed]",
      "text/plain": [
       "<Figure size 432x288 with 1 Axes>"
      ]
     },
     "metadata": {
      "needs_background": "light"
     },
     "output_type": "display_data"
    }
   ],
   "source": [
    "plt.plot(hist[:,1], 'r', hist[:,3], 'g')"
   ]
  },
  {
   "cell_type": "code",
   "execution_count": 25,
   "metadata": {},
   "outputs": [
    {
     "data": {
      "text/plain": [
       "(2.3245, 0.6585)"
      ]
     },
     "execution_count": 25,
     "metadata": {},
     "output_type": "execute_result"
    }
   ],
   "source": [
    "run_batch(model, dataset, 'test', 64)"
   ]
  },
  {
   "cell_type": "code",
   "execution_count": null,
   "metadata": {},
   "outputs": [],
   "source": []
  }
 ],
 "metadata": {
  "kernelspec": {
   "display_name": "Python 3",
   "language": "python",
   "name": "python3"
  },
  "language_info": {
   "codemirror_mode": {
    "name": "ipython",
    "version": 3
   },
   "file_extension": ".py",
   "mimetype": "text/x-python",
   "name": "python",
   "nbconvert_exporter": "python",
   "pygments_lexer": "ipython3",
   "version": "3.7.1"
  }
 },
 "nbformat": 4,
 "nbformat_minor": 2
}
